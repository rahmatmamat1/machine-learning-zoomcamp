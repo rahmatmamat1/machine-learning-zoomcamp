{
 "cells": [
  {
   "cell_type": "markdown",
   "id": "ca3393e0",
   "metadata": {},
   "source": [
    "# Homework\n",
    "The goal of this homework is to create a regression model for predicting housing prices (column 'median_house_value').\n",
    "\n",
    "In this homework we'll again use the California Housing Prices dataset - the same one we used in homework 2 and 3.\n",
    "\n",
    "You can take it from [Kaggle](https://www.kaggle.com/datasets/camnugent/california-housing-prices) or download using wget link mentioned below:\n",
    "\n",
    "https://raw.githubusercontent.com/alexeygrigorev/datasets/master/housing.csv\n"
   ]
  },
  {
   "cell_type": "code",
   "execution_count": 77,
   "id": "4727b57d",
   "metadata": {},
   "outputs": [],
   "source": [
    "import pandas as pd\n",
    "import numpy as np\n",
    "import seaborn as sns\n",
    "from matplotlib import pyplot as plt\n",
    "%matplotlib inline\n",
    "from tqdm.auto import tqdm\n",
    "\n",
    "from sklearn.model_selection import train_test_split\n",
    "from sklearn.feature_extraction import DictVectorizer\n",
    "\n",
    "from sklearn.tree import DecisionTreeRegressor\n",
    "from sklearn.ensemble import RandomForestRegressor\n",
    "import xgboost as xgb\n",
    "\n",
    "from sklearn.metrics import mean_squared_error\n",
    "from sklearn.tree import export_text"
   ]
  },
  {
   "cell_type": "code",
   "execution_count": 1,
   "id": "a31098f2",
   "metadata": {},
   "outputs": [
    {
     "data": {
      "text/plain": [
       "'housing.csv'"
      ]
     },
     "execution_count": 1,
     "metadata": {},
     "output_type": "execute_result"
    }
   ],
   "source": [
    "# import wget\n",
    "\n",
    "# url = 'https://raw.githubusercontent.com/alexeygrigorev/datasets/master/housing.csv'\n",
    "# wget.download(url)"
   ]
  },
  {
   "cell_type": "code",
   "execution_count": 3,
   "id": "c3196762",
   "metadata": {},
   "outputs": [
    {
     "name": "stdout",
     "output_type": "stream",
     "text": [
      "longitude,latitude,housing_median_age,total_rooms,total_bedrooms,population,households,median_income,median_house_value,ocean_proximity\n",
      "-122.23,37.88,41.0,880.0,129.0,322.0,126.0,8.3252,452600.0,NEAR BAY\n",
      "-122.22,37.86,21.0,7099.0,1106.0,2401.0,1138.0,8.3014,358500.0,NEAR BAY\n",
      "-122.24,37.85,52.0,1467.0,190.0,496.0,177.0,7.2574,352100.0,NEAR BAY\n",
      "-122.25,37.85,52.0,1274.0,235.0,558.0,219.0,5.6431,341300.0,NEAR BAY\n",
      "-122.25,37.85,52.0,1627.0,280.0,565.0,259.0,3.8462,342200.0,NEAR BAY\n",
      "-122.25,37.85,52.0,919.0,213.0,413.0,193.0,4.0368,269700.0,NEAR BAY\n",
      "-122.25,37.84,52.0,2535.0,489.0,1094.0,514.0,3.6591,299200.0,NEAR BAY\n",
      "-122.25,37.84,52.0,3104.0,687.0,1157.0,647.0,3.12,241400.0,NEAR BAY\n",
      "-122.26,37.84,42.0,2555.0,665.0,1206.0,595.0,2.0804,226700.0,NEAR BAY\n"
     ]
    }
   ],
   "source": [
    "!head housing.csv"
   ]
  },
  {
   "cell_type": "code",
   "execution_count": 5,
   "id": "fa03b6e0",
   "metadata": {},
   "outputs": [
    {
     "data": {
      "text/html": [
       "<div>\n",
       "<style scoped>\n",
       "    .dataframe tbody tr th:only-of-type {\n",
       "        vertical-align: middle;\n",
       "    }\n",
       "\n",
       "    .dataframe tbody tr th {\n",
       "        vertical-align: top;\n",
       "    }\n",
       "\n",
       "    .dataframe thead th {\n",
       "        text-align: right;\n",
       "    }\n",
       "</style>\n",
       "<table border=\"1\" class=\"dataframe\">\n",
       "  <thead>\n",
       "    <tr style=\"text-align: right;\">\n",
       "      <th></th>\n",
       "      <th>longitude</th>\n",
       "      <th>latitude</th>\n",
       "      <th>housing_median_age</th>\n",
       "      <th>total_rooms</th>\n",
       "      <th>total_bedrooms</th>\n",
       "      <th>population</th>\n",
       "      <th>households</th>\n",
       "      <th>median_income</th>\n",
       "      <th>median_house_value</th>\n",
       "      <th>ocean_proximity</th>\n",
       "    </tr>\n",
       "  </thead>\n",
       "  <tbody>\n",
       "    <tr>\n",
       "      <th>0</th>\n",
       "      <td>-122.23</td>\n",
       "      <td>37.88</td>\n",
       "      <td>41.0</td>\n",
       "      <td>880.0</td>\n",
       "      <td>129.0</td>\n",
       "      <td>322.0</td>\n",
       "      <td>126.0</td>\n",
       "      <td>8.3252</td>\n",
       "      <td>452600.0</td>\n",
       "      <td>NEAR BAY</td>\n",
       "    </tr>\n",
       "    <tr>\n",
       "      <th>1</th>\n",
       "      <td>-122.22</td>\n",
       "      <td>37.86</td>\n",
       "      <td>21.0</td>\n",
       "      <td>7099.0</td>\n",
       "      <td>1106.0</td>\n",
       "      <td>2401.0</td>\n",
       "      <td>1138.0</td>\n",
       "      <td>8.3014</td>\n",
       "      <td>358500.0</td>\n",
       "      <td>NEAR BAY</td>\n",
       "    </tr>\n",
       "    <tr>\n",
       "      <th>2</th>\n",
       "      <td>-122.24</td>\n",
       "      <td>37.85</td>\n",
       "      <td>52.0</td>\n",
       "      <td>1467.0</td>\n",
       "      <td>190.0</td>\n",
       "      <td>496.0</td>\n",
       "      <td>177.0</td>\n",
       "      <td>7.2574</td>\n",
       "      <td>352100.0</td>\n",
       "      <td>NEAR BAY</td>\n",
       "    </tr>\n",
       "    <tr>\n",
       "      <th>3</th>\n",
       "      <td>-122.25</td>\n",
       "      <td>37.85</td>\n",
       "      <td>52.0</td>\n",
       "      <td>1274.0</td>\n",
       "      <td>235.0</td>\n",
       "      <td>558.0</td>\n",
       "      <td>219.0</td>\n",
       "      <td>5.6431</td>\n",
       "      <td>341300.0</td>\n",
       "      <td>NEAR BAY</td>\n",
       "    </tr>\n",
       "    <tr>\n",
       "      <th>4</th>\n",
       "      <td>-122.25</td>\n",
       "      <td>37.85</td>\n",
       "      <td>52.0</td>\n",
       "      <td>1627.0</td>\n",
       "      <td>280.0</td>\n",
       "      <td>565.0</td>\n",
       "      <td>259.0</td>\n",
       "      <td>3.8462</td>\n",
       "      <td>342200.0</td>\n",
       "      <td>NEAR BAY</td>\n",
       "    </tr>\n",
       "  </tbody>\n",
       "</table>\n",
       "</div>"
      ],
      "text/plain": [
       "   longitude  latitude  housing_median_age  total_rooms  total_bedrooms  \\\n",
       "0    -122.23     37.88                41.0        880.0           129.0   \n",
       "1    -122.22     37.86                21.0       7099.0          1106.0   \n",
       "2    -122.24     37.85                52.0       1467.0           190.0   \n",
       "3    -122.25     37.85                52.0       1274.0           235.0   \n",
       "4    -122.25     37.85                52.0       1627.0           280.0   \n",
       "\n",
       "   population  households  median_income  median_house_value ocean_proximity  \n",
       "0       322.0       126.0         8.3252            452600.0        NEAR BAY  \n",
       "1      2401.0      1138.0         8.3014            358500.0        NEAR BAY  \n",
       "2       496.0       177.0         7.2574            352100.0        NEAR BAY  \n",
       "3       558.0       219.0         5.6431            341300.0        NEAR BAY  \n",
       "4       565.0       259.0         3.8462            342200.0        NEAR BAY  "
      ]
     },
     "execution_count": 5,
     "metadata": {},
     "output_type": "execute_result"
    }
   ],
   "source": [
    "df = pd.read_csv('housing.csv')\n",
    "df.head()"
   ]
  },
  {
   "cell_type": "code",
   "execution_count": 8,
   "id": "42090a4a",
   "metadata": {},
   "outputs": [
    {
     "data": {
      "text/plain": [
       "latitude                0\n",
       "longitude               0\n",
       "housing_median_age      0\n",
       "total_rooms             0\n",
       "total_bedrooms        207\n",
       "population              0\n",
       "households              0\n",
       "median_income           0\n",
       "median_house_value      0\n",
       "ocean_proximity         0\n",
       "dtype: int64"
      ]
     },
     "execution_count": 8,
     "metadata": {},
     "output_type": "execute_result"
    }
   ],
   "source": [
    "df.isna().sum()"
   ]
  },
  {
   "cell_type": "code",
   "execution_count": 10,
   "id": "8517debc",
   "metadata": {},
   "outputs": [
    {
     "data": {
      "text/html": [
       "<div>\n",
       "<style scoped>\n",
       "    .dataframe tbody tr th:only-of-type {\n",
       "        vertical-align: middle;\n",
       "    }\n",
       "\n",
       "    .dataframe tbody tr th {\n",
       "        vertical-align: top;\n",
       "    }\n",
       "\n",
       "    .dataframe thead th {\n",
       "        text-align: right;\n",
       "    }\n",
       "</style>\n",
       "<table border=\"1\" class=\"dataframe\">\n",
       "  <thead>\n",
       "    <tr style=\"text-align: right;\">\n",
       "      <th></th>\n",
       "      <th>latitude</th>\n",
       "      <th>longitude</th>\n",
       "      <th>housing_median_age</th>\n",
       "      <th>total_rooms</th>\n",
       "      <th>total_bedrooms</th>\n",
       "      <th>population</th>\n",
       "      <th>households</th>\n",
       "      <th>median_income</th>\n",
       "      <th>median_house_value</th>\n",
       "    </tr>\n",
       "  </thead>\n",
       "  <tbody>\n",
       "    <tr>\n",
       "      <th>count</th>\n",
       "      <td>20640.000</td>\n",
       "      <td>20640.000</td>\n",
       "      <td>20640.000</td>\n",
       "      <td>20640.000</td>\n",
       "      <td>20433.000</td>\n",
       "      <td>20640.000</td>\n",
       "      <td>20640.00</td>\n",
       "      <td>20640.000</td>\n",
       "      <td>20640.000</td>\n",
       "    </tr>\n",
       "    <tr>\n",
       "      <th>mean</th>\n",
       "      <td>35.632</td>\n",
       "      <td>-119.570</td>\n",
       "      <td>28.639</td>\n",
       "      <td>2635.763</td>\n",
       "      <td>537.871</td>\n",
       "      <td>1425.477</td>\n",
       "      <td>499.54</td>\n",
       "      <td>3.871</td>\n",
       "      <td>206855.817</td>\n",
       "    </tr>\n",
       "    <tr>\n",
       "      <th>std</th>\n",
       "      <td>2.136</td>\n",
       "      <td>2.004</td>\n",
       "      <td>12.586</td>\n",
       "      <td>2181.615</td>\n",
       "      <td>421.385</td>\n",
       "      <td>1132.462</td>\n",
       "      <td>382.33</td>\n",
       "      <td>1.900</td>\n",
       "      <td>115395.616</td>\n",
       "    </tr>\n",
       "    <tr>\n",
       "      <th>min</th>\n",
       "      <td>32.540</td>\n",
       "      <td>-124.350</td>\n",
       "      <td>1.000</td>\n",
       "      <td>2.000</td>\n",
       "      <td>1.000</td>\n",
       "      <td>3.000</td>\n",
       "      <td>1.00</td>\n",
       "      <td>0.500</td>\n",
       "      <td>14999.000</td>\n",
       "    </tr>\n",
       "    <tr>\n",
       "      <th>25%</th>\n",
       "      <td>33.930</td>\n",
       "      <td>-121.800</td>\n",
       "      <td>18.000</td>\n",
       "      <td>1447.750</td>\n",
       "      <td>296.000</td>\n",
       "      <td>787.000</td>\n",
       "      <td>280.00</td>\n",
       "      <td>2.563</td>\n",
       "      <td>119600.000</td>\n",
       "    </tr>\n",
       "    <tr>\n",
       "      <th>50%</th>\n",
       "      <td>34.260</td>\n",
       "      <td>-118.490</td>\n",
       "      <td>29.000</td>\n",
       "      <td>2127.000</td>\n",
       "      <td>435.000</td>\n",
       "      <td>1166.000</td>\n",
       "      <td>409.00</td>\n",
       "      <td>3.535</td>\n",
       "      <td>179700.000</td>\n",
       "    </tr>\n",
       "    <tr>\n",
       "      <th>75%</th>\n",
       "      <td>37.710</td>\n",
       "      <td>-118.010</td>\n",
       "      <td>37.000</td>\n",
       "      <td>3148.000</td>\n",
       "      <td>647.000</td>\n",
       "      <td>1725.000</td>\n",
       "      <td>605.00</td>\n",
       "      <td>4.743</td>\n",
       "      <td>264725.000</td>\n",
       "    </tr>\n",
       "    <tr>\n",
       "      <th>max</th>\n",
       "      <td>41.950</td>\n",
       "      <td>-114.310</td>\n",
       "      <td>52.000</td>\n",
       "      <td>39320.000</td>\n",
       "      <td>6445.000</td>\n",
       "      <td>35682.000</td>\n",
       "      <td>6082.00</td>\n",
       "      <td>15.000</td>\n",
       "      <td>500001.000</td>\n",
       "    </tr>\n",
       "  </tbody>\n",
       "</table>\n",
       "</div>"
      ],
      "text/plain": [
       "        latitude  longitude  housing_median_age  total_rooms  total_bedrooms  \\\n",
       "count  20640.000  20640.000           20640.000    20640.000       20433.000   \n",
       "mean      35.632   -119.570              28.639     2635.763         537.871   \n",
       "std        2.136      2.004              12.586     2181.615         421.385   \n",
       "min       32.540   -124.350               1.000        2.000           1.000   \n",
       "25%       33.930   -121.800              18.000     1447.750         296.000   \n",
       "50%       34.260   -118.490              29.000     2127.000         435.000   \n",
       "75%       37.710   -118.010              37.000     3148.000         647.000   \n",
       "max       41.950   -114.310              52.000    39320.000        6445.000   \n",
       "\n",
       "       population  households  median_income  median_house_value  \n",
       "count   20640.000    20640.00      20640.000           20640.000  \n",
       "mean     1425.477      499.54          3.871          206855.817  \n",
       "std      1132.462      382.33          1.900          115395.616  \n",
       "min         3.000        1.00          0.500           14999.000  \n",
       "25%       787.000      280.00          2.563          119600.000  \n",
       "50%      1166.000      409.00          3.535          179700.000  \n",
       "75%      1725.000      605.00          4.743          264725.000  \n",
       "max     35682.000     6082.00         15.000          500001.000  "
      ]
     },
     "execution_count": 10,
     "metadata": {},
     "output_type": "execute_result"
    }
   ],
   "source": [
    "df.describe().round(3)"
   ]
  },
  {
   "cell_type": "code",
   "execution_count": 11,
   "id": "96f9a360",
   "metadata": {},
   "outputs": [
    {
     "data": {
      "text/plain": [
       "latitude              0\n",
       "longitude             0\n",
       "housing_median_age    0\n",
       "total_rooms           0\n",
       "total_bedrooms        0\n",
       "population            0\n",
       "households            0\n",
       "median_income         0\n",
       "median_house_value    0\n",
       "ocean_proximity       0\n",
       "dtype: int64"
      ]
     },
     "execution_count": 11,
     "metadata": {},
     "output_type": "execute_result"
    }
   ],
   "source": [
    "df = df.fillna(0)\n",
    "df.isna().sum()"
   ]
  },
  {
   "cell_type": "code",
   "execution_count": 13,
   "id": "cbb99baf",
   "metadata": {},
   "outputs": [],
   "source": [
    "df_full_train, df_test = train_test_split(df, test_size=0.2, random_state=1)\n",
    "df_train, df_val = train_test_split(df_full_train, test_size=0.25, random_state=1)\n",
    "\n",
    "df_train = df_train.reset_index(drop=True)\n",
    "df_val = df_val.reset_index(drop=True)\n",
    "df_test = df_test.reset_index(drop=True)\n",
    "\n",
    "y_train = np.log1p(df_train.median_house_value.values)\n",
    "y_val = np.log1p(df_val.median_house_value.values)\n",
    "y_test = np.log1p(df_test.median_house_value.values)\n",
    "\n",
    "del df_train[\"median_house_value\"]\n",
    "del df_val[\"median_house_value\"]\n",
    "del df_test[\"median_house_value\"]"
   ]
  },
  {
   "cell_type": "code",
   "execution_count": 15,
   "id": "c4bc7ae0",
   "metadata": {},
   "outputs": [],
   "source": [
    "train_dict = df_train.to_dict(orient='records')\n",
    "val_dict = df_val.to_dict(orient='records')\n",
    "test_dict = df_test.to_dict(orient='records')"
   ]
  },
  {
   "cell_type": "code",
   "execution_count": 25,
   "id": "5e31d026",
   "metadata": {},
   "outputs": [],
   "source": [
    "dv = DictVectorizer(sparse=False)\n",
    "X_train = dv.fit_transform(train_dict)\n",
    "X_val = dv.transform(val_dict)\n",
    "X_test = dv.transform(test_dict)"
   ]
  },
  {
   "cell_type": "markdown",
   "id": "a23ca8ff",
   "metadata": {},
   "source": [
    "## Question 1\n",
    "Let's train a decision tree regressor to predict the median_house_value variable.\n",
    "\n",
    "Train a model with max_depth=1.\n"
   ]
  },
  {
   "cell_type": "code",
   "execution_count": 30,
   "id": "e141113c",
   "metadata": {},
   "outputs": [
    {
     "data": {
      "text/plain": [
       "DecisionTreeRegressor(max_depth=1)"
      ]
     },
     "execution_count": 30,
     "metadata": {},
     "output_type": "execute_result"
    }
   ],
   "source": [
    "dt = DecisionTreeRegressor(max_depth = 1)\n",
    "dt.fit(X_train, y_train)"
   ]
  },
  {
   "cell_type": "code",
   "execution_count": 37,
   "id": "07319bc2",
   "metadata": {},
   "outputs": [
    {
     "name": "stdout",
     "output_type": "stream",
     "text": [
      "|--- ocean_proximity=INLAND <= 0.50\n",
      "|   |--- value: [12.31]\n",
      "|--- ocean_proximity=INLAND >  0.50\n",
      "|   |--- value: [11.61]\n",
      "\n"
     ]
    }
   ],
   "source": [
    "print(export_text(dt, feature_names = dv.get_feature_names()))"
   ]
  },
  {
   "cell_type": "markdown",
   "id": "c2ef521a",
   "metadata": {},
   "source": [
    "Which feature is used for splitting the data?\n",
    "\n",
    "Answer: **ocean_proximity=INLAND**"
   ]
  },
  {
   "cell_type": "markdown",
   "id": "4e7ae4fb",
   "metadata": {},
   "source": [
    "## Question 2\n",
    "Train a random forest model with these parameters:\n",
    "* `n_estimators=10`\n",
    "* `random_state=1`\n",
    "* `n_jobs=-1` (optional - to make training faster)"
   ]
  },
  {
   "cell_type": "code",
   "execution_count": 49,
   "id": "586fa4de",
   "metadata": {},
   "outputs": [],
   "source": [
    "rf = RandomForestRegressor(n_estimators=10, random_state=1, n_jobs=-1)\n",
    "rf.fit(X_train, y_train)\n",
    "y_pred = rf.predict(X_val)"
   ]
  },
  {
   "cell_type": "code",
   "execution_count": 56,
   "id": "0e6414d6",
   "metadata": {},
   "outputs": [
    {
     "data": {
      "text/plain": [
       "0.25"
      ]
     },
     "execution_count": 56,
     "metadata": {},
     "output_type": "execute_result"
    }
   ],
   "source": [
    "rf_rmse = np.sqrt(mean_squared_error(y_pred, y_val))\n",
    "rf_rmse.round(2)"
   ]
  },
  {
   "cell_type": "markdown",
   "id": "b8570328",
   "metadata": {},
   "source": [
    "What's the RMSE of this model on validation?\n",
    "Answer: **0.25**"
   ]
  },
  {
   "cell_type": "markdown",
   "id": "27a2d6a8",
   "metadata": {},
   "source": [
    "## Question 3\n",
    "Now let's experiment with the n_estimators parameter\n",
    "* Try different values of this parameter from 10 to 200 with step 10.\n",
    "* Set `random_state` to `1`.\n",
    "* Evaluate the model on the validation dataset."
   ]
  },
  {
   "cell_type": "code",
   "execution_count": 57,
   "id": "5367e054",
   "metadata": {},
   "outputs": [
    {
     "data": {
      "application/vnd.jupyter.widget-view+json": {
       "model_id": "c474c5edfa6c4aba8bf45de632bef5be",
       "version_major": 2,
       "version_minor": 0
      },
      "text/plain": [
       "  0%|          | 0/20 [00:00<?, ?it/s]"
      ]
     },
     "metadata": {},
     "output_type": "display_data"
    }
   ],
   "source": [
    "scores = []\n",
    "\n",
    "rf = RandomForestRegressor(n_estimators=0, random_state=1, warm_start = True)\n",
    "\n",
    "for n in tqdm(range(10, 201, 10)):\n",
    "    rf.n_estimators = n\n",
    "    rf.fit(X_train, y_train)\n",
    "\n",
    "    y_pred = rf.predict(X_val)\n",
    "\n",
    "    rmse = np.sqrt(mean_squared_error(y_val, y_pred))\n",
    "    scores.append((n, rmse))"
   ]
  },
  {
   "cell_type": "code",
   "execution_count": 63,
   "id": "cd49ec81",
   "metadata": {},
   "outputs": [
    {
     "data": {
      "image/png": "[encoded data removed]",
      "text/plain": [
       "<Figure size 432x288 with 1 Axes>"
      ]
     },
     "metadata": {
      "needs_background": "light"
     },
     "output_type": "display_data"
    }
   ],
   "source": [
    "df_scores = pd.DataFrame(scores, columns=[\"n_estimators\", \"rmse\"])\n",
    "plt.plot(df_scores.n_estimators, df_scores.rmse);"
   ]
  },
  {
   "cell_type": "markdown",
   "id": "3d8fab8b",
   "metadata": {},
   "source": [
    "After which value of n_estimators does RMSE stop improving?\n",
    "\n",
    "Answer: **75**"
   ]
  },
  {
   "cell_type": "markdown",
   "id": "30c6a9bc",
   "metadata": {},
   "source": [
    "## Question 4\n",
    "Let's select the best `max_depth`:\n",
    "* Try different values of `max_depth`: `[10, 15, 20, 25]`\n",
    "* For each of these values, try different values of `n_estimators` from 10 till 200 (with step 10)\n",
    "* Fix the random seed: `random_state=1`"
   ]
  },
  {
   "cell_type": "code",
   "execution_count": 65,
   "id": "ae62d3da",
   "metadata": {},
   "outputs": [
    {
     "data": {
      "application/vnd.jupyter.widget-view+json": {
       "model_id": "57f0393095064a1281904d419e71f80d",
       "version_major": 2,
       "version_minor": 0
      },
      "text/plain": [
       "  0%|          | 0/4 [00:00<?, ?it/s]"
      ]
     },
     "metadata": {},
     "output_type": "display_data"
    },
    {
     "data": {
      "application/vnd.jupyter.widget-view+json": {
       "model_id": "22f04183dfb54002a8b15de5b25e583b",
       "version_major": 2,
       "version_minor": 0
      },
      "text/plain": [
       "  0%|          | 0/20 [00:00<?, ?it/s]"
      ]
     },
     "metadata": {},
     "output_type": "display_data"
    },
    {
     "data": {
      "application/vnd.jupyter.widget-view+json": {
       "model_id": "82b1e3142df74fe78eeec1a80c98a842",
       "version_major": 2,
       "version_minor": 0
      },
      "text/plain": [
       "  0%|          | 0/20 [00:00<?, ?it/s]"
      ]
     },
     "metadata": {},
     "output_type": "display_data"
    },
    {
     "data": {
      "application/vnd.jupyter.widget-view+json": {
       "model_id": "e234126bed2d44e7bd385ba406f03cb1",
       "version_major": 2,
       "version_minor": 0
      },
      "text/plain": [
       "  0%|          | 0/20 [00:00<?, ?it/s]"
      ]
     },
     "metadata": {},
     "output_type": "display_data"
    },
    {
     "data": {
      "application/vnd.jupyter.widget-view+json": {
       "model_id": "63a6ccb2d07341648726d9bc4e1a9075",
       "version_major": 2,
       "version_minor": 0
      },
      "text/plain": [
       "  0%|          | 0/20 [00:00<?, ?it/s]"
      ]
     },
     "metadata": {},
     "output_type": "display_data"
    }
   ],
   "source": [
    "scores = []\n",
    "\n",
    "for i in tqdm([10, 15, 20, 25]):\n",
    "\n",
    "    rf = RandomForestRegressor(n_estimators=0, max_depth = i, random_state=1, warm_start = True)\n",
    "    \n",
    "    for n in tqdm(range(10, 201, 10)):\n",
    "        rf.n_estimators = n\n",
    "        rf.fit(X_train, y_train)\n",
    "\n",
    "        y_pred = rf.predict(X_val)\n",
    "\n",
    "        rmse = np.sqrt(mean_squared_error(y_val, y_pred))\n",
    "        scores.append((i, n, rmse))"
   ]
  },
  {
   "cell_type": "code",
   "execution_count": 69,
   "id": "38e0a50f",
   "metadata": {},
   "outputs": [
    {
     "data": {
      "text/plain": [
       "<matplotlib.legend.Legend at 0x22de140c610>"
      ]
     },
     "execution_count": 69,
     "metadata": {},
     "output_type": "execute_result"
    },
    {
     "data": {
      "image/png": "[encoded data removed]",
      "text/plain": [
       "<Figure size 432x288 with 1 Axes>"
      ]
     },
     "metadata": {
      "needs_background": "light"
     },
     "output_type": "display_data"
    }
   ],
   "source": [
    "df_scores = pd.DataFrame(scores, columns=[\"max_depth\", \"n_estimators\", \"rmse\"])\n",
    "for i in [10, 15, 20, 25]:\n",
    "    df_subset = df_scores[df_scores.max_depth==i]\n",
    "    plt.plot(df_subset.n_estimators, df_subset.rmse, label = f\"max_depth={i}\");\n",
    "plt.legend()"
   ]
  },
  {
   "cell_type": "markdown",
   "id": "8b271c05",
   "metadata": {},
   "source": [
    "What's the best max_depth:\n",
    "\n",
    "Answer: **25**"
   ]
  },
  {
   "cell_type": "markdown",
   "id": "b6e826f6",
   "metadata": {},
   "source": [
    "## Question 5\n",
    "We can extract feature importance information from tree-based models.\n",
    "\n",
    "At each step of the decision tree learning algorith, it finds the best split. When doint it, we can calculate \"gain\" - the reduction in impurity before and after the split. This gain is quite useful in understanding what are the imporatant features for tree-based models.\n",
    "\n",
    "In Scikit-Learn, tree-based models contain this information in the [`feature_importances_`](https://scikit-learn.org/stable/modules/generated/sklearn.ensemble.RandomForestRegressor.html#sklearn.ensemble.RandomForestRegressor.feature_importances_) field.\n",
    "\n",
    "For this homework question, we'll find the most important feature:\n",
    "* Train the model with these parametes:\n",
    "    * `n_estimators=10`,\n",
    "    * `max_depth=20`,\n",
    "    * `random_state=1`,\n",
    "    * `n_jobs=-1` (optional)\n",
    "\n",
    "* Get the feature importance information from this model"
   ]
  },
  {
   "cell_type": "code",
   "execution_count": 70,
   "id": "de7c7423",
   "metadata": {},
   "outputs": [
    {
     "data": {
      "text/plain": [
       "RandomForestRegressor(max_depth=20, n_estimators=10, n_jobs=-1, random_state=1)"
      ]
     },
     "execution_count": 70,
     "metadata": {},
     "output_type": "execute_result"
    }
   ],
   "source": [
    "rf = RandomForestRegressor(n_estimators=10, max_depth=20,\n",
    "                           random_state=1, n_jobs=-1)\n",
    "rf.fit(X_train, y_train)"
   ]
  },
  {
   "cell_type": "code",
   "execution_count": 73,
   "id": "9353e4dd",
   "metadata": {},
   "outputs": [],
   "source": [
    "df_importances = pd.DataFrame()\n",
    "df_importances['feature'] = dv.get_feature_names()\n",
    "df_importances['importance'] = rf.feature_importances_"
   ]
  },
  {
   "cell_type": "code",
   "execution_count": 76,
   "id": "7793783c",
   "metadata": {},
   "outputs": [
    {
     "data": {
      "text/html": [
       "<div>\n",
       "<style scoped>\n",
       "    .dataframe tbody tr th:only-of-type {\n",
       "        vertical-align: middle;\n",
       "    }\n",
       "\n",
       "    .dataframe tbody tr th {\n",
       "        vertical-align: top;\n",
       "    }\n",
       "\n",
       "    .dataframe thead th {\n",
       "        text-align: right;\n",
       "    }\n",
       "</style>\n",
       "<table border=\"1\" class=\"dataframe\">\n",
       "  <thead>\n",
       "    <tr style=\"text-align: right;\">\n",
       "      <th></th>\n",
       "      <th>feature</th>\n",
       "      <th>importance</th>\n",
       "    </tr>\n",
       "  </thead>\n",
       "  <tbody>\n",
       "    <tr>\n",
       "      <th>4</th>\n",
       "      <td>median_income</td>\n",
       "      <td>0.362913</td>\n",
       "    </tr>\n",
       "    <tr>\n",
       "      <th>6</th>\n",
       "      <td>ocean_proximity=INLAND</td>\n",
       "      <td>0.310901</td>\n",
       "    </tr>\n",
       "    <tr>\n",
       "      <th>2</th>\n",
       "      <td>latitude</td>\n",
       "      <td>0.101334</td>\n",
       "    </tr>\n",
       "    <tr>\n",
       "      <th>3</th>\n",
       "      <td>longitude</td>\n",
       "      <td>0.096265</td>\n",
       "    </tr>\n",
       "    <tr>\n",
       "      <th>1</th>\n",
       "      <td>housing_median_age</td>\n",
       "      <td>0.033094</td>\n",
       "    </tr>\n",
       "    <tr>\n",
       "      <th>10</th>\n",
       "      <td>population</td>\n",
       "      <td>0.030918</td>\n",
       "    </tr>\n",
       "    <tr>\n",
       "      <th>12</th>\n",
       "      <td>total_rooms</td>\n",
       "      <td>0.020536</td>\n",
       "    </tr>\n",
       "    <tr>\n",
       "      <th>11</th>\n",
       "      <td>total_bedrooms</td>\n",
       "      <td>0.019041</td>\n",
       "    </tr>\n",
       "    <tr>\n",
       "      <th>0</th>\n",
       "      <td>households</td>\n",
       "      <td>0.016957</td>\n",
       "    </tr>\n",
       "    <tr>\n",
       "      <th>9</th>\n",
       "      <td>ocean_proximity=NEAR OCEAN</td>\n",
       "      <td>0.004228</td>\n",
       "    </tr>\n",
       "    <tr>\n",
       "      <th>5</th>\n",
       "      <td>ocean_proximity=&lt;1H OCEAN</td>\n",
       "      <td>0.003007</td>\n",
       "    </tr>\n",
       "    <tr>\n",
       "      <th>8</th>\n",
       "      <td>ocean_proximity=NEAR BAY</td>\n",
       "      <td>0.000449</td>\n",
       "    </tr>\n",
       "    <tr>\n",
       "      <th>7</th>\n",
       "      <td>ocean_proximity=ISLAND</td>\n",
       "      <td>0.000357</td>\n",
       "    </tr>\n",
       "  </tbody>\n",
       "</table>\n",
       "</div>"
      ],
      "text/plain": [
       "                       feature  importance\n",
       "4                median_income    0.362913\n",
       "6       ocean_proximity=INLAND    0.310901\n",
       "2                     latitude    0.101334\n",
       "3                    longitude    0.096265\n",
       "1           housing_median_age    0.033094\n",
       "10                  population    0.030918\n",
       "12                 total_rooms    0.020536\n",
       "11              total_bedrooms    0.019041\n",
       "0                   households    0.016957\n",
       "9   ocean_proximity=NEAR OCEAN    0.004228\n",
       "5    ocean_proximity=<1H OCEAN    0.003007\n",
       "8     ocean_proximity=NEAR BAY    0.000449\n",
       "7       ocean_proximity=ISLAND    0.000357"
      ]
     },
     "execution_count": 76,
     "metadata": {},
     "output_type": "execute_result"
    }
   ],
   "source": [
    "df_importances.sort_values('importance', ascending = False)"
   ]
  },
  {
   "cell_type": "markdown",
   "id": "b8073fe6",
   "metadata": {},
   "source": [
    "What's the most important feature?\n",
    "\n",
    "Answer: **`median_income`**"
   ]
  },
  {
   "cell_type": "markdown",
   "id": "286b7ab5",
   "metadata": {},
   "source": [
    "## Question 6\n",
    "Now let's train an XGBoost model! For this question, we'll tune the eta parameter:\n",
    "* Install XGBoost\n",
    "* Create DMatrix for train and validation\n",
    "* Create a watchlist\n",
    "* Train a model with these parameters for 100 rounds:\n",
    "```\n",
    "xgb_params = {\n",
    "    'eta': 0.3, \n",
    "    'max_depth': 6,\n",
    "    'min_child_weight': 1,\n",
    "    \n",
    "    'objective': 'reg:squarederror',\n",
    "    'nthread': 8,\n",
    "    \n",
    "    'seed': 1,\n",
    "    'verbosity': 1,\n",
    "}\n",
    "```\n",
    "Now change `eta` first to `0.1` and then to `0.01`"
   ]
  },
  {
   "cell_type": "code",
   "execution_count": 105,
   "id": "838d2130",
   "metadata": {},
   "outputs": [],
   "source": [
    "features = dv.get_feature_names()\n",
    "features[5] = 'ocean_proximity=1H OCEAN'\n",
    "dtrain = xgb.DMatrix(X_train, label=y_train, feature_names=features)\n",
    "dval = xgb.DMatrix(X_val, label=y_val, feature_names=features)"
   ]
  },
  {
   "cell_type": "code",
   "execution_count": 106,
   "id": "3a1f404c",
   "metadata": {},
   "outputs": [],
   "source": [
    "watchlist = [(dtrain, \"train\"), (dval, \"val\")]"
   ]
  },
  {
   "cell_type": "code",
   "execution_count": 108,
   "id": "9ac33a74",
   "metadata": {},
   "outputs": [
    {
     "name": "stdout",
     "output_type": "stream",
     "text": [
      "[0]\ttrain-rmse:8.12733\tval-rmse:8.13245\n",
      "[5]\ttrain-rmse:1.40218\tval-rmse:1.40741\n",
      "[10]\ttrain-rmse:0.34481\tval-rmse:0.35782\n",
      "[15]\ttrain-rmse:0.23555\tval-rmse:0.26044\n",
      "[20]\ttrain-rmse:0.21580\tval-rmse:0.24624\n",
      "[25]\ttrain-rmse:0.20395\tval-rmse:0.24099\n",
      "[30]\ttrain-rmse:0.19440\tval-rmse:0.23741\n",
      "[35]\ttrain-rmse:0.18637\tval-rmse:0.23562\n",
      "[40]\ttrain-rmse:0.17983\tval-rmse:0.23419\n",
      "[45]\ttrain-rmse:0.17468\tval-rmse:0.23279\n",
      "[50]\ttrain-rmse:0.16934\tval-rmse:0.23097\n",
      "[55]\ttrain-rmse:0.16546\tval-rmse:0.23039\n",
      "[60]\ttrain-rmse:0.16177\tval-rmse:0.22950\n",
      "[65]\ttrain-rmse:0.15762\tval-rmse:0.22857\n",
      "[70]\ttrain-rmse:0.15323\tval-rmse:0.22787\n",
      "[75]\ttrain-rmse:0.15010\tval-rmse:0.22755\n",
      "[80]\ttrain-rmse:0.14564\tval-rmse:0.22611\n",
      "[85]\ttrain-rmse:0.14166\tval-rmse:0.22579\n",
      "[90]\ttrain-rmse:0.13892\tval-rmse:0.22628\n",
      "[95]\ttrain-rmse:0.13553\tval-rmse:0.22630\n",
      "[99]\ttrain-rmse:0.13299\tval-rmse:0.22610\n"
     ]
    }
   ],
   "source": [
    "xgb_params = {\n",
    "  'eta': 0.3, \n",
    "  'max_depth': 6,\n",
    "  'min_child_weight': 1,\n",
    "\n",
    "  'objective': 'reg:squarederror',\n",
    "  'nthread': 8,\n",
    "\n",
    "  'seed': 1,\n",
    "  'verbosity': 1,\n",
    "}\n",
    "\n",
    "model = xgb.train(xgb_params, dtrain, num_boost_round=100,\n",
    "                  evals=watchlist, verbose_eval=5)"
   ]
  },
  {
   "cell_type": "code",
   "execution_count": 109,
   "id": "d79ddc71",
   "metadata": {},
   "outputs": [
    {
     "name": "stdout",
     "output_type": "stream",
     "text": [
      "[0]\ttrain-rmse:10.44372\tval-rmse:10.44938\n",
      "[5]\ttrain-rmse:6.17513\tval-rmse:6.17987\n",
      "[10]\ttrain-rmse:3.65741\tval-rmse:3.66135\n",
      "[15]\ttrain-rmse:2.17500\tval-rmse:2.17928\n",
      "[20]\ttrain-rmse:1.30499\tval-rmse:1.31054\n",
      "[25]\ttrain-rmse:0.79933\tval-rmse:0.80657\n",
      "[30]\ttrain-rmse:0.51144\tval-rmse:0.52189\n",
      "[35]\ttrain-rmse:0.35700\tval-rmse:0.37264\n",
      "[40]\ttrain-rmse:0.27984\tval-rmse:0.30053\n",
      "[45]\ttrain-rmse:0.24350\tval-rmse:0.26829\n",
      "[50]\ttrain-rmse:0.22614\tval-rmse:0.25334\n",
      "[55]\ttrain-rmse:0.21695\tval-rmse:0.24657\n",
      "[60]\ttrain-rmse:0.21035\tval-rmse:0.24189\n",
      "[65]\ttrain-rmse:0.20579\tval-rmse:0.23943\n",
      "[70]\ttrain-rmse:0.20116\tval-rmse:0.23684\n",
      "[75]\ttrain-rmse:0.19680\tval-rmse:0.23507\n",
      "[80]\ttrain-rmse:0.19384\tval-rmse:0.23398\n",
      "[85]\ttrain-rmse:0.19085\tval-rmse:0.23275\n",
      "[90]\ttrain-rmse:0.18794\tval-rmse:0.23206\n",
      "[95]\ttrain-rmse:0.18541\tval-rmse:0.23106\n",
      "[99]\ttrain-rmse:0.18329\tval-rmse:0.23054\n"
     ]
    }
   ],
   "source": [
    "xgb_params = {\n",
    "  'eta': 0.1, \n",
    "  'max_depth': 6,\n",
    "  'min_child_weight': 1,\n",
    "\n",
    "  'objective': 'reg:squarederror',\n",
    "  'nthread': 8,\n",
    "\n",
    "  'seed': 1,\n",
    "  'verbosity': 1,\n",
    "}\n",
    "\n",
    "model = xgb.train(xgb_params, dtrain, num_boost_round=100,\n",
    "                  evals=watchlist, verbose_eval=5)"
   ]
  },
  {
   "cell_type": "code",
   "execution_count": 110,
   "id": "21a2ffe0",
   "metadata": {},
   "outputs": [
    {
     "name": "stdout",
     "output_type": "stream",
     "text": [
      "[0]\ttrain-rmse:11.48634\tval-rmse:11.49225\n",
      "[5]\ttrain-rmse:10.92424\tval-rmse:10.93003\n",
      "[10]\ttrain-rmse:10.38969\tval-rmse:10.39532\n",
      "[15]\ttrain-rmse:9.88136\tval-rmse:9.88695\n",
      "[20]\ttrain-rmse:9.39796\tval-rmse:9.40346\n",
      "[25]\ttrain-rmse:8.93827\tval-rmse:8.94370\n",
      "[30]\ttrain-rmse:8.50110\tval-rmse:8.50645\n",
      "[35]\ttrain-rmse:8.08539\tval-rmse:8.09064\n",
      "[40]\ttrain-rmse:7.69008\tval-rmse:7.69524\n",
      "[45]\ttrain-rmse:7.31418\tval-rmse:7.31924\n",
      "[50]\ttrain-rmse:6.95672\tval-rmse:6.96171\n",
      "[55]\ttrain-rmse:6.61681\tval-rmse:6.62173\n",
      "[60]\ttrain-rmse:6.29360\tval-rmse:6.29841\n",
      "[65]\ttrain-rmse:5.98625\tval-rmse:5.99094\n",
      "[70]\ttrain-rmse:5.69400\tval-rmse:5.69854\n",
      "[75]\ttrain-rmse:5.41611\tval-rmse:5.42053\n",
      "[80]\ttrain-rmse:5.15187\tval-rmse:5.15621\n",
      "[85]\ttrain-rmse:4.90062\tval-rmse:4.90486\n",
      "[90]\ttrain-rmse:4.66171\tval-rmse:4.66589\n",
      "[95]\ttrain-rmse:4.43456\tval-rmse:4.43868\n",
      "[99]\ttrain-rmse:4.26092\tval-rmse:4.26496\n"
     ]
    }
   ],
   "source": [
    "xgb_params = {\n",
    "  'eta': 0.01, \n",
    "  'max_depth': 6,\n",
    "  'min_child_weight': 1,\n",
    "\n",
    "  'objective': 'reg:squarederror',\n",
    "  'nthread': 8,\n",
    "\n",
    "  'seed': 1,\n",
    "  'verbosity': 1,\n",
    "}\n",
    "\n",
    "model = xgb.train(xgb_params, dtrain, num_boost_round=100,\n",
    "                  evals=watchlist, verbose_eval=5)"
   ]
  },
  {
   "cell_type": "markdown",
   "id": "7365c597",
   "metadata": {},
   "source": [
    "Which eta leads to the best RMSE score on the validation dataset?\n",
    "\n",
    "Answer: **`0.3`**"
   ]
  },
  {
   "cell_type": "code",
   "execution_count": null,
   "id": "bafab950",
   "metadata": {},
   "outputs": [],
   "source": []
  }
 ],
 "metadata": {
  "kernelspec": {
   "display_name": "Python 3 (ipykernel)",
   "language": "python",
   "name": "python3"
  },
  "language_info": {
   "codemirror_mode": {
    "name": "ipython",
    "version": 3
   },
   "file_extension": ".py",
   "mimetype": "text/x-python",
   "name": "python",
   "nbconvert_exporter": "python",
   "pygments_lexer": "ipython3",
   "version": "3.9.7"
  }
 },
 "nbformat": 4,
 "nbformat_minor": 5
}
