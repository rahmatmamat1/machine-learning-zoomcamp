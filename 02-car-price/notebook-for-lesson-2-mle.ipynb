{
 "cells": [
  {
   "cell_type": "markdown",
   "id": "7c3e39ec",
   "metadata": {
    "papermill": {
     "duration": 0.106484,
     "end_time": "2021-09-15T10:02:53.968481",
     "exception": false,
     "start_time": "2021-09-15T10:02:53.861997",
     "status": "completed"
    },
    "tags": []
   },
   "source": [
    "## 2. Machine Learning for Regression\n"
   ]
  },
  {
   "cell_type": "code",
   "execution_count": 1,
   "id": "a3df2bf8",
   "metadata": {
    "execution": {
     "iopub.execute_input": "2021-09-15T10:02:54.190361Z",
     "iopub.status.busy": "2021-09-15T10:02:54.189635Z",
     "iopub.status.idle": "2021-09-15T10:02:54.194886Z",
     "shell.execute_reply": "2021-09-15T10:02:54.195377Z",
     "shell.execute_reply.started": "2021-09-15T09:12:22.999121Z"
    },
    "papermill": {
     "duration": 0.119258,
     "end_time": "2021-09-15T10:02:54.195753",
     "exception": false,
     "start_time": "2021-09-15T10:02:54.076495",
     "status": "completed"
    },
    "scrolled": true,
    "tags": []
   },
   "outputs": [],
   "source": [
    "import pandas as pd\n",
    "import numpy as np"
   ]
  },
  {
   "cell_type": "markdown",
   "id": "ce4e50fa",
   "metadata": {
    "papermill": {
     "duration": 0.102568,
     "end_time": "2021-09-15T10:02:54.401441",
     "exception": false,
     "start_time": "2021-09-15T10:02:54.298873",
     "status": "completed"
    },
    "tags": []
   },
   "source": [
    "## 2.2 Data preparation"
   ]
  },
  {
   "cell_type": "code",
   "execution_count": 2,
   "id": "63f49379",
   "metadata": {
    "execution": {
     "iopub.execute_input": "2021-09-15T10:02:54.610861Z",
     "iopub.status.busy": "2021-09-15T10:02:54.610152Z",
     "iopub.status.idle": "2021-09-15T10:02:54.615576Z",
     "shell.execute_reply": "2021-09-15T10:02:54.615053Z",
     "shell.execute_reply.started": "2021-09-15T09:12:23.005940Z"
    },
    "papermill": {
     "duration": 0.111353,
     "end_time": "2021-09-15T10:02:54.615754",
     "exception": false,
     "start_time": "2021-09-15T10:02:54.504401",
     "status": "completed"
    },
    "tags": []
   },
   "outputs": [],
   "source": [
    "# data = 'https://raw.githubusercontent.com/alexeygrigorev/mlbookcamp-code/master/chapter-02-car-price/data.csv'"
   ]
  },
  {
   "cell_type": "code",
   "execution_count": 3,
   "id": "78865e05",
   "metadata": {
    "execution": {
     "iopub.execute_input": "2021-09-15T10:02:54.869703Z",
     "iopub.status.busy": "2021-09-15T10:02:54.868926Z",
     "iopub.status.idle": "2021-09-15T10:02:56.108227Z",
     "shell.execute_reply": "2021-09-15T10:02:56.108757Z",
     "shell.execute_reply.started": "2021-09-15T09:12:23.020846Z"
    },
    "papermill": {
     "duration": 1.352262,
     "end_time": "2021-09-15T10:02:56.108981",
     "exception": false,
     "start_time": "2021-09-15T10:02:54.756719",
     "status": "completed"
    },
    "tags": []
   },
   "outputs": [
    {
     "name": "stdout",
     "output_type": "stream",
     "text": [
      "--2021-09-15 10:02:55--  https://raw.githubusercontent.com/alexeygrigorev/mlbookcamp-code/master/chapter-02-car-price/data.csv\r\n",
      "Resolving raw.githubusercontent.com (raw.githubusercontent.com)... 185.199.109.133, 185.199.111.133, 185.199.108.133, ...\r\n",
      "Connecting to raw.githubusercontent.com (raw.githubusercontent.com)|185.199.109.133|:443... connected.\r\n",
      "HTTP request sent, awaiting response... 200 OK\r\n",
      "Length: 1475504 (1.4M) [text/plain]\r\n",
      "Saving to: ‘data.csv’\r\n",
      "\r\n",
      "data.csv            100%[===================>]   1.41M  --.-KB/s    in 0.04s   \r\n",
      "\r\n",
      "2021-09-15 10:02:55 (36.1 MB/s) - ‘data.csv’ saved [1475504/1475504]\r\n",
      "\r\n"
     ]
    }
   ],
   "source": [
    "# !wget $data "
   ]
  },
  {
   "cell_type": "code",
   "execution_count": 2,
   "id": "671ad159",
   "metadata": {
    "execution": {
     "iopub.execute_input": "2021-09-15T10:02:56.327142Z",
     "iopub.status.busy": "2021-09-15T10:02:56.326447Z",
     "iopub.status.idle": "2021-09-15T10:02:56.369733Z",
     "shell.execute_reply": "2021-09-15T10:02:56.370240Z",
     "shell.execute_reply.started": "2021-09-15T09:12:24.138016Z"
    },
    "papermill": {
     "duration": 0.155596,
     "end_time": "2021-09-15T10:02:56.370437",
     "exception": false,
     "start_time": "2021-09-15T10:02:56.214841",
     "status": "completed"
    },
    "tags": []
   },
   "outputs": [],
   "source": [
    "df = pd.read_csv('data.csv')"
   ]
  },
  {
   "cell_type": "code",
   "execution_count": 3,
   "id": "b8ef5820",
   "metadata": {
    "execution": {
     "iopub.execute_input": "2021-09-15T10:02:56.583972Z",
     "iopub.status.busy": "2021-09-15T10:02:56.583254Z",
     "iopub.status.idle": "2021-09-15T10:02:56.590459Z",
     "shell.execute_reply": "2021-09-15T10:02:56.589938Z",
     "shell.execute_reply.started": "2021-09-15T09:12:24.178804Z"
    },
    "papermill": {
     "duration": 0.115389,
     "end_time": "2021-09-15T10:02:56.590613",
     "exception": false,
     "start_time": "2021-09-15T10:02:56.475224",
     "status": "completed"
    },
    "tags": []
   },
   "outputs": [],
   "source": [
    "# Making the columns uniform in terms of capitalisation and having no spaces in the columns\n",
    "df.columns = df.columns.str.lower().str.replace(' ', '_')"
   ]
  },
  {
   "cell_type": "code",
   "execution_count": 4,
   "id": "6087faec",
   "metadata": {
    "execution": {
     "iopub.execute_input": "2021-09-15T10:02:56.822020Z",
     "iopub.status.busy": "2021-09-15T10:02:56.821300Z",
     "iopub.status.idle": "2021-09-15T10:02:56.844992Z",
     "shell.execute_reply": "2021-09-15T10:02:56.844450Z",
     "shell.execute_reply.started": "2021-09-15T09:12:24.186206Z"
    },
    "papermill": {
     "duration": 0.144674,
     "end_time": "2021-09-15T10:02:56.845143",
     "exception": false,
     "start_time": "2021-09-15T10:02:56.700469",
     "status": "completed"
    },
    "tags": []
   },
   "outputs": [
    {
     "data": {
      "text/plain": [
       "0            bmw\n",
       "1            bmw\n",
       "2            bmw\n",
       "3            bmw\n",
       "4            bmw\n",
       "          ...   \n",
       "11909      acura\n",
       "11910      acura\n",
       "11911      acura\n",
       "11912      acura\n",
       "11913    lincoln\n",
       "Name: make, Length: 11914, dtype: object"
      ]
     },
     "execution_count": 4,
     "metadata": {},
     "output_type": "execute_result"
    }
   ],
   "source": [
    "# We're doing the same for the 'make' column of the dataset \n",
    "df['make'].str.lower().str.replace(' ', '_')"
   ]
  },
  {
   "cell_type": "code",
   "execution_count": 5,
   "id": "822e6a89",
   "metadata": {
    "execution": {
     "iopub.execute_input": "2021-09-15T10:02:57.065379Z",
     "iopub.status.busy": "2021-09-15T10:02:57.064640Z",
     "iopub.status.idle": "2021-09-15T10:02:57.067411Z",
     "shell.execute_reply": "2021-09-15T10:02:57.068189Z",
     "shell.execute_reply.started": "2021-09-15T09:12:24.216139Z"
    },
    "papermill": {
     "duration": 0.117065,
     "end_time": "2021-09-15T10:02:57.068450",
     "exception": false,
     "start_time": "2021-09-15T10:02:56.951385",
     "status": "completed"
    },
    "tags": []
   },
   "outputs": [
    {
     "data": {
      "text/plain": [
       "['make',\n",
       " 'model',\n",
       " 'engine_fuel_type',\n",
       " 'transmission_type',\n",
       " 'driven_wheels',\n",
       " 'market_category',\n",
       " 'vehicle_size',\n",
       " 'vehicle_style']"
      ]
     },
     "execution_count": 5,
     "metadata": {},
     "output_type": "execute_result"
    }
   ],
   "source": [
    "# Finding categorical variables so that we can standardise the inputs. \n",
    "strings = list(df.dtypes[df.dtypes == 'object'].index)\n",
    "strings"
   ]
  },
  {
   "cell_type": "code",
   "execution_count": 6,
   "id": "181ed5e7",
   "metadata": {
    "execution": {
     "iopub.execute_input": "2021-09-15T10:02:57.303543Z",
     "iopub.status.busy": "2021-09-15T10:02:57.302857Z",
     "iopub.status.idle": "2021-09-15T10:02:57.419275Z",
     "shell.execute_reply": "2021-09-15T10:02:57.419777Z",
     "shell.execute_reply.started": "2021-09-15T09:12:24.225215Z"
    },
    "papermill": {
     "duration": 0.244591,
     "end_time": "2021-09-15T10:02:57.419973",
     "exception": false,
     "start_time": "2021-09-15T10:02:57.175382",
     "status": "completed"
    },
    "tags": []
   },
   "outputs": [],
   "source": [
    "# Standardising the inputs \n",
    "for col in strings:\n",
    "    df[col] = df[col].str.lower().str.replace(' ', '_')"
   ]
  },
  {
   "cell_type": "code",
   "execution_count": 7,
   "id": "7a6078cc",
   "metadata": {
    "execution": {
     "iopub.execute_input": "2021-09-15T10:02:57.636363Z",
     "iopub.status.busy": "2021-09-15T10:02:57.635602Z",
     "iopub.status.idle": "2021-09-15T10:02:57.642641Z",
     "shell.execute_reply": "2021-09-15T10:02:57.643138Z",
     "shell.execute_reply.started": "2021-09-15T09:12:24.308883Z"
    },
    "papermill": {
     "duration": 0.118177,
     "end_time": "2021-09-15T10:02:57.643329",
     "exception": false,
     "start_time": "2021-09-15T10:02:57.525152",
     "status": "completed"
    },
    "tags": []
   },
   "outputs": [
    {
     "data": {
      "text/plain": [
       "make                  object\n",
       "model                 object\n",
       "year                   int64\n",
       "engine_fuel_type      object\n",
       "engine_hp            float64\n",
       "engine_cylinders     float64\n",
       "transmission_type     object\n",
       "driven_wheels         object\n",
       "number_of_doors      float64\n",
       "market_category       object\n",
       "vehicle_size          object\n",
       "vehicle_style         object\n",
       "highway_mpg            int64\n",
       "city_mpg               int64\n",
       "popularity             int64\n",
       "msrp                   int64\n",
       "dtype: object"
      ]
     },
     "execution_count": 7,
     "metadata": {},
     "output_type": "execute_result"
    }
   ],
   "source": [
    "df.dtypes"
   ]
  },
  {
   "cell_type": "code",
   "execution_count": 8,
   "id": "fff91bbd",
   "metadata": {
    "execution": {
     "iopub.execute_input": "2021-09-15T10:02:57.866849Z",
     "iopub.status.busy": "2021-09-15T10:02:57.866148Z",
     "iopub.status.idle": "2021-09-15T10:02:57.872644Z",
     "shell.execute_reply": "2021-09-15T10:02:57.873234Z",
     "shell.execute_reply.started": "2021-09-15T09:12:24.320661Z"
    },
    "papermill": {
     "duration": 0.124372,
     "end_time": "2021-09-15T10:02:57.873416",
     "exception": false,
     "start_time": "2021-09-15T10:02:57.749044",
     "status": "completed"
    },
    "tags": []
   },
   "outputs": [
    {
     "data": {
      "text/plain": [
       "object     8\n",
       "int64      5\n",
       "float64    3\n",
       "dtype: int64"
      ]
     },
     "execution_count": 8,
     "metadata": {},
     "output_type": "execute_result"
    }
   ],
   "source": [
    "# There are a few datatypes here, let's count how many of each datatype there is here! \n",
    "df.dtypes.value_counts()"
   ]
  },
  {
   "cell_type": "markdown",
   "id": "5e033c04",
   "metadata": {
    "papermill": {
     "duration": 0.105844,
     "end_time": "2021-09-15T10:02:58.086248",
     "exception": false,
     "start_time": "2021-09-15T10:02:57.980404",
     "status": "completed"
    },
    "tags": []
   },
   "source": [
    "## 2.3 Exploratory data analysis"
   ]
  },
  {
   "cell_type": "code",
   "execution_count": 9,
   "id": "18f25420",
   "metadata": {
    "execution": {
     "iopub.execute_input": "2021-09-15T10:02:58.304889Z",
     "iopub.status.busy": "2021-09-15T10:02:58.304083Z",
     "iopub.status.idle": "2021-09-15T10:02:58.353140Z",
     "shell.execute_reply": "2021-09-15T10:02:58.352537Z",
     "shell.execute_reply.started": "2021-09-15T09:12:24.333013Z"
    },
    "papermill": {
     "duration": 0.159064,
     "end_time": "2021-09-15T10:02:58.353298",
     "exception": false,
     "start_time": "2021-09-15T10:02:58.194234",
     "status": "completed"
    },
    "tags": []
   },
   "outputs": [
    {
     "name": "stdout",
     "output_type": "stream",
     "text": [
      "make\n",
      "['bmw' 'audi' 'fiat' 'mercedes-benz' 'chrysler']\n",
      "48\n",
      "\n",
      "model\n",
      "['1_series_m' '1_series' '100' '124_spider' '190-class']\n",
      "914\n",
      "\n",
      "year\n",
      "[2011 2012 2013 1992 1993]\n",
      "28\n",
      "\n",
      "engine_fuel_type\n",
      "['premium_unleaded_(required)' 'regular_unleaded'\n",
      " 'premium_unleaded_(recommended)' 'flex-fuel_(unleaded/e85)' 'diesel']\n",
      "10\n",
      "\n",
      "engine_hp\n",
      "[335. 300. 230. 320. 172.]\n",
      "356\n",
      "\n",
      "engine_cylinders\n",
      "[ 6.  4.  5.  8. 12.]\n",
      "9\n",
      "\n",
      "transmission_type\n",
      "['manual' 'automatic' 'automated_manual' 'direct_drive' 'unknown']\n",
      "5\n",
      "\n",
      "driven_wheels\n",
      "['rear_wheel_drive' 'front_wheel_drive' 'all_wheel_drive'\n",
      " 'four_wheel_drive']\n",
      "4\n",
      "\n",
      "number_of_doors\n",
      "[ 2.  4.  3. nan]\n",
      "3\n",
      "\n",
      "market_category\n",
      "['factory_tuner,luxury,high-performance' 'luxury,performance'\n",
      " 'luxury,high-performance' 'luxury' 'performance']\n",
      "71\n",
      "\n",
      "vehicle_size\n",
      "['compact' 'midsize' 'large']\n",
      "3\n",
      "\n",
      "vehicle_style\n",
      "['coupe' 'convertible' 'sedan' 'wagon' '4dr_hatchback']\n",
      "16\n",
      "\n",
      "highway_mpg\n",
      "[26 28 27 25 24]\n",
      "59\n",
      "\n",
      "city_mpg\n",
      "[19 20 18 17 16]\n",
      "69\n",
      "\n",
      "popularity\n",
      "[3916 3105  819  617 1013]\n",
      "48\n",
      "\n",
      "msrp\n",
      "[46135 40650 36350 29450 34500]\n",
      "6049\n",
      "\n"
     ]
    }
   ],
   "source": [
    "for col in df.columns:\n",
    "    print(col)\n",
    "    print(df[col].unique()[:5])\n",
    "    print(df[col].nunique())\n",
    "    print()"
   ]
  },
  {
   "cell_type": "code",
   "execution_count": 10,
   "id": "36af8109",
   "metadata": {
    "execution": {
     "iopub.execute_input": "2021-09-15T10:02:58.577177Z",
     "iopub.status.busy": "2021-09-15T10:02:58.576452Z",
     "iopub.status.idle": "2021-09-15T10:02:58.614635Z",
     "shell.execute_reply": "2021-09-15T10:02:58.614109Z",
     "shell.execute_reply.started": "2021-09-15T09:12:24.377308Z"
    },
    "papermill": {
     "duration": 0.153296,
     "end_time": "2021-09-15T10:02:58.614809",
     "exception": false,
     "start_time": "2021-09-15T10:02:58.461513",
     "status": "completed"
    },
    "tags": []
   },
   "outputs": [
    {
     "data": {
      "text/html": [
       "<div>\n",
       "<style scoped>\n",
       "    .dataframe tbody tr th:only-of-type {\n",
       "        vertical-align: middle;\n",
       "    }\n",
       "\n",
       "    .dataframe tbody tr th {\n",
       "        vertical-align: top;\n",
       "    }\n",
       "\n",
       "    .dataframe thead th {\n",
       "        text-align: right;\n",
       "    }\n",
       "</style>\n",
       "<table border=\"1\" class=\"dataframe\">\n",
       "  <thead>\n",
       "    <tr style=\"text-align: right;\">\n",
       "      <th></th>\n",
       "      <th>make</th>\n",
       "      <th>model</th>\n",
       "      <th>year</th>\n",
       "      <th>engine_fuel_type</th>\n",
       "      <th>engine_hp</th>\n",
       "      <th>engine_cylinders</th>\n",
       "      <th>transmission_type</th>\n",
       "      <th>driven_wheels</th>\n",
       "      <th>number_of_doors</th>\n",
       "      <th>market_category</th>\n",
       "      <th>vehicle_size</th>\n",
       "      <th>vehicle_style</th>\n",
       "      <th>highway_mpg</th>\n",
       "      <th>city_mpg</th>\n",
       "      <th>popularity</th>\n",
       "      <th>msrp</th>\n",
       "    </tr>\n",
       "  </thead>\n",
       "  <tbody>\n",
       "    <tr>\n",
       "      <th>0</th>\n",
       "      <td>bmw</td>\n",
       "      <td>1_series_m</td>\n",
       "      <td>2011</td>\n",
       "      <td>premium_unleaded_(required)</td>\n",
       "      <td>335.0</td>\n",
       "      <td>6.0</td>\n",
       "      <td>manual</td>\n",
       "      <td>rear_wheel_drive</td>\n",
       "      <td>2.0</td>\n",
       "      <td>factory_tuner,luxury,high-performance</td>\n",
       "      <td>compact</td>\n",
       "      <td>coupe</td>\n",
       "      <td>26</td>\n",
       "      <td>19</td>\n",
       "      <td>3916</td>\n",
       "      <td>46135</td>\n",
       "    </tr>\n",
       "    <tr>\n",
       "      <th>1</th>\n",
       "      <td>bmw</td>\n",
       "      <td>1_series</td>\n",
       "      <td>2011</td>\n",
       "      <td>premium_unleaded_(required)</td>\n",
       "      <td>300.0</td>\n",
       "      <td>6.0</td>\n",
       "      <td>manual</td>\n",
       "      <td>rear_wheel_drive</td>\n",
       "      <td>2.0</td>\n",
       "      <td>luxury,performance</td>\n",
       "      <td>compact</td>\n",
       "      <td>convertible</td>\n",
       "      <td>28</td>\n",
       "      <td>19</td>\n",
       "      <td>3916</td>\n",
       "      <td>40650</td>\n",
       "    </tr>\n",
       "    <tr>\n",
       "      <th>2</th>\n",
       "      <td>bmw</td>\n",
       "      <td>1_series</td>\n",
       "      <td>2011</td>\n",
       "      <td>premium_unleaded_(required)</td>\n",
       "      <td>300.0</td>\n",
       "      <td>6.0</td>\n",
       "      <td>manual</td>\n",
       "      <td>rear_wheel_drive</td>\n",
       "      <td>2.0</td>\n",
       "      <td>luxury,high-performance</td>\n",
       "      <td>compact</td>\n",
       "      <td>coupe</td>\n",
       "      <td>28</td>\n",
       "      <td>20</td>\n",
       "      <td>3916</td>\n",
       "      <td>36350</td>\n",
       "    </tr>\n",
       "    <tr>\n",
       "      <th>3</th>\n",
       "      <td>bmw</td>\n",
       "      <td>1_series</td>\n",
       "      <td>2011</td>\n",
       "      <td>premium_unleaded_(required)</td>\n",
       "      <td>230.0</td>\n",
       "      <td>6.0</td>\n",
       "      <td>manual</td>\n",
       "      <td>rear_wheel_drive</td>\n",
       "      <td>2.0</td>\n",
       "      <td>luxury,performance</td>\n",
       "      <td>compact</td>\n",
       "      <td>coupe</td>\n",
       "      <td>28</td>\n",
       "      <td>18</td>\n",
       "      <td>3916</td>\n",
       "      <td>29450</td>\n",
       "    </tr>\n",
       "    <tr>\n",
       "      <th>4</th>\n",
       "      <td>bmw</td>\n",
       "      <td>1_series</td>\n",
       "      <td>2011</td>\n",
       "      <td>premium_unleaded_(required)</td>\n",
       "      <td>230.0</td>\n",
       "      <td>6.0</td>\n",
       "      <td>manual</td>\n",
       "      <td>rear_wheel_drive</td>\n",
       "      <td>2.0</td>\n",
       "      <td>luxury</td>\n",
       "      <td>compact</td>\n",
       "      <td>convertible</td>\n",
       "      <td>28</td>\n",
       "      <td>18</td>\n",
       "      <td>3916</td>\n",
       "      <td>34500</td>\n",
       "    </tr>\n",
       "    <tr>\n",
       "      <th>...</th>\n",
       "      <td>...</td>\n",
       "      <td>...</td>\n",
       "      <td>...</td>\n",
       "      <td>...</td>\n",
       "      <td>...</td>\n",
       "      <td>...</td>\n",
       "      <td>...</td>\n",
       "      <td>...</td>\n",
       "      <td>...</td>\n",
       "      <td>...</td>\n",
       "      <td>...</td>\n",
       "      <td>...</td>\n",
       "      <td>...</td>\n",
       "      <td>...</td>\n",
       "      <td>...</td>\n",
       "      <td>...</td>\n",
       "    </tr>\n",
       "    <tr>\n",
       "      <th>11909</th>\n",
       "      <td>acura</td>\n",
       "      <td>zdx</td>\n",
       "      <td>2012</td>\n",
       "      <td>premium_unleaded_(required)</td>\n",
       "      <td>300.0</td>\n",
       "      <td>6.0</td>\n",
       "      <td>automatic</td>\n",
       "      <td>all_wheel_drive</td>\n",
       "      <td>4.0</td>\n",
       "      <td>crossover,hatchback,luxury</td>\n",
       "      <td>midsize</td>\n",
       "      <td>4dr_hatchback</td>\n",
       "      <td>23</td>\n",
       "      <td>16</td>\n",
       "      <td>204</td>\n",
       "      <td>46120</td>\n",
       "    </tr>\n",
       "    <tr>\n",
       "      <th>11910</th>\n",
       "      <td>acura</td>\n",
       "      <td>zdx</td>\n",
       "      <td>2012</td>\n",
       "      <td>premium_unleaded_(required)</td>\n",
       "      <td>300.0</td>\n",
       "      <td>6.0</td>\n",
       "      <td>automatic</td>\n",
       "      <td>all_wheel_drive</td>\n",
       "      <td>4.0</td>\n",
       "      <td>crossover,hatchback,luxury</td>\n",
       "      <td>midsize</td>\n",
       "      <td>4dr_hatchback</td>\n",
       "      <td>23</td>\n",
       "      <td>16</td>\n",
       "      <td>204</td>\n",
       "      <td>56670</td>\n",
       "    </tr>\n",
       "    <tr>\n",
       "      <th>11911</th>\n",
       "      <td>acura</td>\n",
       "      <td>zdx</td>\n",
       "      <td>2012</td>\n",
       "      <td>premium_unleaded_(required)</td>\n",
       "      <td>300.0</td>\n",
       "      <td>6.0</td>\n",
       "      <td>automatic</td>\n",
       "      <td>all_wheel_drive</td>\n",
       "      <td>4.0</td>\n",
       "      <td>crossover,hatchback,luxury</td>\n",
       "      <td>midsize</td>\n",
       "      <td>4dr_hatchback</td>\n",
       "      <td>23</td>\n",
       "      <td>16</td>\n",
       "      <td>204</td>\n",
       "      <td>50620</td>\n",
       "    </tr>\n",
       "    <tr>\n",
       "      <th>11912</th>\n",
       "      <td>acura</td>\n",
       "      <td>zdx</td>\n",
       "      <td>2013</td>\n",
       "      <td>premium_unleaded_(recommended)</td>\n",
       "      <td>300.0</td>\n",
       "      <td>6.0</td>\n",
       "      <td>automatic</td>\n",
       "      <td>all_wheel_drive</td>\n",
       "      <td>4.0</td>\n",
       "      <td>crossover,hatchback,luxury</td>\n",
       "      <td>midsize</td>\n",
       "      <td>4dr_hatchback</td>\n",
       "      <td>23</td>\n",
       "      <td>16</td>\n",
       "      <td>204</td>\n",
       "      <td>50920</td>\n",
       "    </tr>\n",
       "    <tr>\n",
       "      <th>11913</th>\n",
       "      <td>lincoln</td>\n",
       "      <td>zephyr</td>\n",
       "      <td>2006</td>\n",
       "      <td>regular_unleaded</td>\n",
       "      <td>221.0</td>\n",
       "      <td>6.0</td>\n",
       "      <td>automatic</td>\n",
       "      <td>front_wheel_drive</td>\n",
       "      <td>4.0</td>\n",
       "      <td>luxury</td>\n",
       "      <td>midsize</td>\n",
       "      <td>sedan</td>\n",
       "      <td>26</td>\n",
       "      <td>17</td>\n",
       "      <td>61</td>\n",
       "      <td>28995</td>\n",
       "    </tr>\n",
       "  </tbody>\n",
       "</table>\n",
       "<p>11914 rows × 16 columns</p>\n",
       "</div>"
      ],
      "text/plain": [
       "          make       model  year                engine_fuel_type  engine_hp  \\\n",
       "0          bmw  1_series_m  2011     premium_unleaded_(required)      335.0   \n",
       "1          bmw    1_series  2011     premium_unleaded_(required)      300.0   \n",
       "2          bmw    1_series  2011     premium_unleaded_(required)      300.0   \n",
       "3          bmw    1_series  2011     premium_unleaded_(required)      230.0   \n",
       "4          bmw    1_series  2011     premium_unleaded_(required)      230.0   \n",
       "...        ...         ...   ...                             ...        ...   \n",
       "11909    acura         zdx  2012     premium_unleaded_(required)      300.0   \n",
       "11910    acura         zdx  2012     premium_unleaded_(required)      300.0   \n",
       "11911    acura         zdx  2012     premium_unleaded_(required)      300.0   \n",
       "11912    acura         zdx  2013  premium_unleaded_(recommended)      300.0   \n",
       "11913  lincoln      zephyr  2006                regular_unleaded      221.0   \n",
       "\n",
       "       engine_cylinders transmission_type      driven_wheels  number_of_doors  \\\n",
       "0                   6.0            manual   rear_wheel_drive              2.0   \n",
       "1                   6.0            manual   rear_wheel_drive              2.0   \n",
       "2                   6.0            manual   rear_wheel_drive              2.0   \n",
       "3                   6.0            manual   rear_wheel_drive              2.0   \n",
       "4                   6.0            manual   rear_wheel_drive              2.0   \n",
       "...                 ...               ...                ...              ...   \n",
       "11909               6.0         automatic    all_wheel_drive              4.0   \n",
       "11910               6.0         automatic    all_wheel_drive              4.0   \n",
       "11911               6.0         automatic    all_wheel_drive              4.0   \n",
       "11912               6.0         automatic    all_wheel_drive              4.0   \n",
       "11913               6.0         automatic  front_wheel_drive              4.0   \n",
       "\n",
       "                             market_category vehicle_size  vehicle_style  \\\n",
       "0      factory_tuner,luxury,high-performance      compact          coupe   \n",
       "1                         luxury,performance      compact    convertible   \n",
       "2                    luxury,high-performance      compact          coupe   \n",
       "3                         luxury,performance      compact          coupe   \n",
       "4                                     luxury      compact    convertible   \n",
       "...                                      ...          ...            ...   \n",
       "11909             crossover,hatchback,luxury      midsize  4dr_hatchback   \n",
       "11910             crossover,hatchback,luxury      midsize  4dr_hatchback   \n",
       "11911             crossover,hatchback,luxury      midsize  4dr_hatchback   \n",
       "11912             crossover,hatchback,luxury      midsize  4dr_hatchback   \n",
       "11913                                 luxury      midsize          sedan   \n",
       "\n",
       "       highway_mpg  city_mpg  popularity   msrp  \n",
       "0               26        19        3916  46135  \n",
       "1               28        19        3916  40650  \n",
       "2               28        20        3916  36350  \n",
       "3               28        18        3916  29450  \n",
       "4               28        18        3916  34500  \n",
       "...            ...       ...         ...    ...  \n",
       "11909           23        16         204  46120  \n",
       "11910           23        16         204  56670  \n",
       "11911           23        16         204  50620  \n",
       "11912           23        16         204  50920  \n",
       "11913           26        17          61  28995  \n",
       "\n",
       "[11914 rows x 16 columns]"
      ]
     },
     "execution_count": 10,
     "metadata": {},
     "output_type": "execute_result"
    }
   ],
   "source": [
    "df"
   ]
  },
  {
   "cell_type": "markdown",
   "id": "1dcf8eb3",
   "metadata": {
    "papermill": {
     "duration": 0.106411,
     "end_time": "2021-09-15T10:02:58.829867",
     "exception": false,
     "start_time": "2021-09-15T10:02:58.723456",
     "status": "completed"
    },
    "tags": []
   },
   "source": [
    "Distribution of price"
   ]
  },
  {
   "cell_type": "code",
   "execution_count": 11,
   "id": "1935defb",
   "metadata": {
    "execution": {
     "iopub.execute_input": "2021-09-15T10:02:59.052543Z",
     "iopub.status.busy": "2021-09-15T10:02:59.051579Z",
     "iopub.status.idle": "2021-09-15T10:03:00.048123Z",
     "shell.execute_reply": "2021-09-15T10:03:00.047521Z",
     "shell.execute_reply.started": "2021-09-15T09:12:24.411102Z"
    },
    "papermill": {
     "duration": 1.111418,
     "end_time": "2021-09-15T10:03:00.048277",
     "exception": false,
     "start_time": "2021-09-15T10:02:58.936859",
     "status": "completed"
    },
    "tags": []
   },
   "outputs": [],
   "source": [
    "import matplotlib.pyplot as plt\n",
    "import seaborn as sns\n",
    "\n",
    "%matplotlib inline"
   ]
  },
  {
   "cell_type": "code",
   "execution_count": 12,
   "id": "9a937c42",
   "metadata": {
    "execution": {
     "iopub.execute_input": "2021-09-15T10:03:00.277614Z",
     "iopub.status.busy": "2021-09-15T10:03:00.272376Z",
     "iopub.status.idle": "2021-09-15T10:03:00.632518Z",
     "shell.execute_reply": "2021-09-15T10:03:00.631993Z",
     "shell.execute_reply.started": "2021-09-15T09:12:25.237970Z"
    },
    "papermill": {
     "duration": 0.473345,
     "end_time": "2021-09-15T10:03:00.632701",
     "exception": false,
     "start_time": "2021-09-15T10:03:00.159356",
     "status": "completed"
    },
    "tags": []
   },
   "outputs": [
    {
     "data": {
      "text/plain": [
       "<AxesSubplot:xlabel='msrp', ylabel='Count'>"
      ]
     },
     "execution_count": 12,
     "metadata": {},
     "output_type": "execute_result"
    },
    {
     "data": {
      "image/png": "[encoded data removed]",
      "text/plain": [
       "<Figure size 432x288 with 1 Axes>"
      ]
     },
     "metadata": {
      "needs_background": "light"
     },
     "output_type": "display_data"
    }
   ],
   "source": [
    "# Visualisation of MSRP \n",
    "sns.histplot(df.msrp, bins=50)"
   ]
  },
  {
   "cell_type": "markdown",
   "id": "38c92f69",
   "metadata": {
    "papermill": {
     "duration": 0.111886,
     "end_time": "2021-09-15T10:03:00.852004",
     "exception": false,
     "start_time": "2021-09-15T10:03:00.740118",
     "status": "completed"
    },
    "tags": []
   },
   "source": [
    "There are definitely some outliers out there in the visualisation, if not we will be looking at a smaller scale. Let's delve further! "
   ]
  },
  {
   "cell_type": "code",
   "execution_count": 13,
   "id": "50d16f30",
   "metadata": {
    "execution": {
     "iopub.execute_input": "2021-09-15T10:03:01.156405Z",
     "iopub.status.busy": "2021-09-15T10:03:01.144847Z",
     "iopub.status.idle": "2021-09-15T10:03:01.494747Z",
     "shell.execute_reply": "2021-09-15T10:03:01.494161Z",
     "shell.execute_reply.started": "2021-09-15T09:12:25.559991Z"
    },
    "papermill": {
     "duration": 0.476801,
     "end_time": "2021-09-15T10:03:01.494901",
     "exception": false,
     "start_time": "2021-09-15T10:03:01.018100",
     "status": "completed"
    },
    "tags": []
   },
   "outputs": [
    {
     "data": {
      "text/plain": [
       "<AxesSubplot:xlabel='msrp', ylabel='Count'>"
      ]
     },
     "execution_count": 13,
     "metadata": {},
     "output_type": "execute_result"
    },
    {
     "data": {
      "image/png": "[encoded data removed]",
      "text/plain": [
       "<Figure size 432x288 with 1 Axes>"
      ]
     },
     "metadata": {
      "needs_background": "light"
     },
     "output_type": "display_data"
    }
   ],
   "source": [
    "sns.histplot(df.msrp[df.msrp < 100000], bins=50)"
   ]
  },
  {
   "cell_type": "code",
   "execution_count": 14,
   "id": "4129f47f",
   "metadata": {
    "execution": {
     "iopub.execute_input": "2021-09-15T10:03:01.722293Z",
     "iopub.status.busy": "2021-09-15T10:03:01.721585Z",
     "iopub.status.idle": "2021-09-15T10:03:01.726731Z",
     "shell.execute_reply": "2021-09-15T10:03:01.725969Z",
     "shell.execute_reply.started": "2021-09-15T09:12:25.852898Z"
    },
    "papermill": {
     "duration": 0.122574,
     "end_time": "2021-09-15T10:03:01.726898",
     "exception": false,
     "start_time": "2021-09-15T10:03:01.604324",
     "status": "completed"
    },
    "tags": []
   },
   "outputs": [
    {
     "data": {
      "text/plain": [
       "array([ 0.        ,  0.69314718,  2.39789527,  6.90875478, 11.51293546])"
      ]
     },
     "execution_count": 14,
     "metadata": {},
     "output_type": "execute_result"
    }
   ],
   "source": [
    "# Transformation of certain numbers using log(1+x)\n",
    "np.log1p([0, 1, 10, 1000, 100000])"
   ]
  },
  {
   "cell_type": "code",
   "execution_count": 15,
   "id": "0c47a44a",
   "metadata": {
    "execution": {
     "iopub.execute_input": "2021-09-15T10:03:01.957845Z",
     "iopub.status.busy": "2021-09-15T10:03:01.956921Z",
     "iopub.status.idle": "2021-09-15T10:03:01.961095Z",
     "shell.execute_reply": "2021-09-15T10:03:01.960521Z",
     "shell.execute_reply.started": "2021-09-15T09:12:25.862392Z"
    },
    "papermill": {
     "duration": 0.121887,
     "end_time": "2021-09-15T10:03:01.961250",
     "exception": false,
     "start_time": "2021-09-15T10:03:01.839363",
     "status": "completed"
    },
    "tags": []
   },
   "outputs": [
    {
     "data": {
      "text/plain": [
       "array([ 0.        ,  0.69314718,  2.39789527,  6.90875478, 11.51292546])"
      ]
     },
     "execution_count": 15,
     "metadata": {},
     "output_type": "execute_result"
    }
   ],
   "source": [
    "# This is the same as using log1p, except that we are manually adding the one 1 before applying logarithms on it.\n",
    "np.log([0 + 1, 1+ 1, 10 + 1, 1000 + 1, 100000])"
   ]
  },
  {
   "cell_type": "code",
   "execution_count": 16,
   "id": "98e53597",
   "metadata": {
    "execution": {
     "iopub.execute_input": "2021-09-15T10:03:02.199197Z",
     "iopub.status.busy": "2021-09-15T10:03:02.198458Z",
     "iopub.status.idle": "2021-09-15T10:03:02.202115Z",
     "shell.execute_reply": "2021-09-15T10:03:02.201380Z",
     "shell.execute_reply.started": "2021-09-15T09:12:25.876163Z"
    },
    "papermill": {
     "duration": 0.126154,
     "end_time": "2021-09-15T10:03:02.202286",
     "exception": false,
     "start_time": "2021-09-15T10:03:02.076132",
     "status": "completed"
    },
    "tags": []
   },
   "outputs": [],
   "source": [
    "# Transformation of the MSRPs\n",
    "price_logs = np.log1p(df.msrp)"
   ]
  },
  {
   "cell_type": "code",
   "execution_count": 17,
   "id": "2075003f",
   "metadata": {
    "execution": {
     "iopub.execute_input": "2021-09-15T10:03:02.447038Z",
     "iopub.status.busy": "2021-09-15T10:03:02.441616Z",
     "iopub.status.idle": "2021-09-15T10:03:02.800683Z",
     "shell.execute_reply": "2021-09-15T10:03:02.800102Z",
     "shell.execute_reply.started": "2021-09-15T09:12:25.885483Z"
    },
    "papermill": {
     "duration": 0.481505,
     "end_time": "2021-09-15T10:03:02.800845",
     "exception": false,
     "start_time": "2021-09-15T10:03:02.319340",
     "status": "completed"
    },
    "tags": []
   },
   "outputs": [
    {
     "data": {
      "text/plain": [
       "<AxesSubplot:xlabel='msrp', ylabel='Count'>"
      ]
     },
     "execution_count": 17,
     "metadata": {},
     "output_type": "execute_result"
    },
    {
     "data": {
      "image/png": "[encoded data removed]",
      "text/plain": [
       "<Figure size 432x288 with 1 Axes>"
      ]
     },
     "metadata": {
      "needs_background": "light"
     },
     "output_type": "display_data"
    }
   ],
   "source": [
    "# Look at the scale - it has drastically reduced! This is especially wonderful for linear regression since linear regression is rather sensitive to differences :)\n",
    "sns.histplot(price_logs, bins=50)"
   ]
  },
  {
   "cell_type": "markdown",
   "id": "53fc60b5",
   "metadata": {
    "papermill": {
     "duration": 0.110265,
     "end_time": "2021-09-15T10:03:03.022546",
     "exception": false,
     "start_time": "2021-09-15T10:03:02.912281",
     "status": "completed"
    },
    "tags": []
   },
   "source": [
    "Missing values"
   ]
  },
  {
   "cell_type": "code",
   "execution_count": 18,
   "id": "34154d6e",
   "metadata": {
    "execution": {
     "iopub.execute_input": "2021-09-15T10:03:03.255551Z",
     "iopub.status.busy": "2021-09-15T10:03:03.254540Z",
     "iopub.status.idle": "2021-09-15T10:03:03.274996Z",
     "shell.execute_reply": "2021-09-15T10:03:03.274302Z",
     "shell.execute_reply.started": "2021-09-15T09:12:26.198469Z"
    },
    "papermill": {
     "duration": 0.135991,
     "end_time": "2021-09-15T10:03:03.275156",
     "exception": false,
     "start_time": "2021-09-15T10:03:03.139165",
     "status": "completed"
    },
    "tags": []
   },
   "outputs": [
    {
     "data": {
      "text/plain": [
       "make                    0\n",
       "model                   0\n",
       "year                    0\n",
       "engine_fuel_type        3\n",
       "engine_hp              69\n",
       "engine_cylinders       30\n",
       "transmission_type       0\n",
       "driven_wheels           0\n",
       "number_of_doors         6\n",
       "market_category      3742\n",
       "vehicle_size            0\n",
       "vehicle_style           0\n",
       "highway_mpg             0\n",
       "city_mpg                0\n",
       "popularity              0\n",
       "msrp                    0\n",
       "dtype: int64"
      ]
     },
     "execution_count": 18,
     "metadata": {},
     "output_type": "execute_result"
    }
   ],
   "source": [
    "# Okay, let's take a look at the dataset and see if there are any missing values! \n",
    "df.isnull().sum()"
   ]
  },
  {
   "cell_type": "markdown",
   "id": "1b20dfed",
   "metadata": {
    "papermill": {
     "duration": 0.11255,
     "end_time": "2021-09-15T10:03:03.500029",
     "exception": false,
     "start_time": "2021-09-15T10:03:03.387479",
     "status": "completed"
    },
    "tags": []
   },
   "source": [
    "## 2.4 Setting up the validation framework"
   ]
  },
  {
   "cell_type": "code",
   "execution_count": 19,
   "id": "c1654f43",
   "metadata": {
    "execution": {
     "iopub.execute_input": "2021-09-15T10:03:03.730342Z",
     "iopub.status.busy": "2021-09-15T10:03:03.729604Z",
     "iopub.status.idle": "2021-09-15T10:03:03.733458Z",
     "shell.execute_reply": "2021-09-15T10:03:03.734047Z",
     "shell.execute_reply.started": "2021-09-15T09:12:26.213243Z"
    },
    "papermill": {
     "duration": 0.121683,
     "end_time": "2021-09-15T10:03:03.734253",
     "exception": false,
     "start_time": "2021-09-15T10:03:03.612570",
     "status": "completed"
    },
    "tags": []
   },
   "outputs": [],
   "source": [
    "# Splitting of dataset into the train, validation, and the test dataset \n",
    "n = len(df)\n",
    "\n",
    "# Validation dataset\n",
    "n_val = int(n * 0.2)\n",
    "\n",
    "# Test dataset \n",
    "n_test = int(n * 0.2)\n",
    "\n",
    "# Train dataset\n",
    "n_train = n - n_val - n_test"
   ]
  },
  {
   "cell_type": "code",
   "execution_count": 20,
   "id": "a69c84f5",
   "metadata": {
    "execution": {
     "iopub.execute_input": "2021-09-15T10:03:03.965315Z",
     "iopub.status.busy": "2021-09-15T10:03:03.964605Z",
     "iopub.status.idle": "2021-09-15T10:03:03.970215Z",
     "shell.execute_reply": "2021-09-15T10:03:03.970788Z",
     "shell.execute_reply.started": "2021-09-15T09:12:26.221690Z"
    },
    "papermill": {
     "duration": 0.124219,
     "end_time": "2021-09-15T10:03:03.971003",
     "exception": false,
     "start_time": "2021-09-15T10:03:03.846784",
     "status": "completed"
    },
    "tags": []
   },
   "outputs": [
    {
     "data": {
      "text/plain": [
       "11914"
      ]
     },
     "execution_count": 20,
     "metadata": {},
     "output_type": "execute_result"
    }
   ],
   "source": [
    "n"
   ]
  },
  {
   "cell_type": "code",
   "execution_count": 21,
   "id": "8416ace3",
   "metadata": {
    "execution": {
     "iopub.execute_input": "2021-09-15T10:03:04.204250Z",
     "iopub.status.busy": "2021-09-15T10:03:04.203527Z",
     "iopub.status.idle": "2021-09-15T10:03:04.210325Z",
     "shell.execute_reply": "2021-09-15T10:03:04.209669Z",
     "shell.execute_reply.started": "2021-09-15T09:12:26.239320Z"
    },
    "papermill": {
     "duration": 0.126641,
     "end_time": "2021-09-15T10:03:04.210473",
     "exception": false,
     "start_time": "2021-09-15T10:03:04.083832",
     "status": "completed"
    },
    "tags": []
   },
   "outputs": [
    {
     "data": {
      "text/plain": [
       "(2382, 2382, 7150)"
      ]
     },
     "execution_count": 21,
     "metadata": {},
     "output_type": "execute_result"
    }
   ],
   "source": [
    "n_val, n_test, n_train"
   ]
  },
  {
   "cell_type": "code",
   "execution_count": 22,
   "id": "37bfb12e",
   "metadata": {
    "execution": {
     "iopub.execute_input": "2021-09-15T10:03:04.457300Z",
     "iopub.status.busy": "2021-09-15T10:03:04.456282Z",
     "iopub.status.idle": "2021-09-15T10:03:04.460130Z",
     "shell.execute_reply": "2021-09-15T10:03:04.460606Z",
     "shell.execute_reply.started": "2021-09-15T09:12:26.249958Z"
    },
    "papermill": {
     "duration": 0.138304,
     "end_time": "2021-09-15T10:03:04.460791",
     "exception": false,
     "start_time": "2021-09-15T10:03:04.322487",
     "status": "completed"
    },
    "tags": []
   },
   "outputs": [
    {
     "data": {
      "text/html": [
       "<div>\n",
       "<style scoped>\n",
       "    .dataframe tbody tr th:only-of-type {\n",
       "        vertical-align: middle;\n",
       "    }\n",
       "\n",
       "    .dataframe tbody tr th {\n",
       "        vertical-align: top;\n",
       "    }\n",
       "\n",
       "    .dataframe thead th {\n",
       "        text-align: right;\n",
       "    }\n",
       "</style>\n",
       "<table border=\"1\" class=\"dataframe\">\n",
       "  <thead>\n",
       "    <tr style=\"text-align: right;\">\n",
       "      <th></th>\n",
       "      <th>make</th>\n",
       "      <th>model</th>\n",
       "      <th>year</th>\n",
       "      <th>engine_fuel_type</th>\n",
       "      <th>engine_hp</th>\n",
       "      <th>engine_cylinders</th>\n",
       "      <th>transmission_type</th>\n",
       "      <th>driven_wheels</th>\n",
       "      <th>number_of_doors</th>\n",
       "      <th>market_category</th>\n",
       "      <th>vehicle_size</th>\n",
       "      <th>vehicle_style</th>\n",
       "      <th>highway_mpg</th>\n",
       "      <th>city_mpg</th>\n",
       "      <th>popularity</th>\n",
       "      <th>msrp</th>\n",
       "    </tr>\n",
       "  </thead>\n",
       "  <tbody>\n",
       "    <tr>\n",
       "      <th>10</th>\n",
       "      <td>bmw</td>\n",
       "      <td>1_series</td>\n",
       "      <td>2013</td>\n",
       "      <td>premium_unleaded_(required)</td>\n",
       "      <td>300.0</td>\n",
       "      <td>6.0</td>\n",
       "      <td>manual</td>\n",
       "      <td>rear_wheel_drive</td>\n",
       "      <td>2.0</td>\n",
       "      <td>luxury,high-performance</td>\n",
       "      <td>compact</td>\n",
       "      <td>coupe</td>\n",
       "      <td>28</td>\n",
       "      <td>20</td>\n",
       "      <td>3916</td>\n",
       "      <td>39600</td>\n",
       "    </tr>\n",
       "    <tr>\n",
       "      <th>0</th>\n",
       "      <td>bmw</td>\n",
       "      <td>1_series_m</td>\n",
       "      <td>2011</td>\n",
       "      <td>premium_unleaded_(required)</td>\n",
       "      <td>335.0</td>\n",
       "      <td>6.0</td>\n",
       "      <td>manual</td>\n",
       "      <td>rear_wheel_drive</td>\n",
       "      <td>2.0</td>\n",
       "      <td>factory_tuner,luxury,high-performance</td>\n",
       "      <td>compact</td>\n",
       "      <td>coupe</td>\n",
       "      <td>26</td>\n",
       "      <td>19</td>\n",
       "      <td>3916</td>\n",
       "      <td>46135</td>\n",
       "    </tr>\n",
       "    <tr>\n",
       "      <th>3</th>\n",
       "      <td>bmw</td>\n",
       "      <td>1_series</td>\n",
       "      <td>2011</td>\n",
       "      <td>premium_unleaded_(required)</td>\n",
       "      <td>230.0</td>\n",
       "      <td>6.0</td>\n",
       "      <td>manual</td>\n",
       "      <td>rear_wheel_drive</td>\n",
       "      <td>2.0</td>\n",
       "      <td>luxury,performance</td>\n",
       "      <td>compact</td>\n",
       "      <td>coupe</td>\n",
       "      <td>28</td>\n",
       "      <td>18</td>\n",
       "      <td>3916</td>\n",
       "      <td>29450</td>\n",
       "    </tr>\n",
       "    <tr>\n",
       "      <th>5</th>\n",
       "      <td>bmw</td>\n",
       "      <td>1_series</td>\n",
       "      <td>2012</td>\n",
       "      <td>premium_unleaded_(required)</td>\n",
       "      <td>230.0</td>\n",
       "      <td>6.0</td>\n",
       "      <td>manual</td>\n",
       "      <td>rear_wheel_drive</td>\n",
       "      <td>2.0</td>\n",
       "      <td>luxury,performance</td>\n",
       "      <td>compact</td>\n",
       "      <td>coupe</td>\n",
       "      <td>28</td>\n",
       "      <td>18</td>\n",
       "      <td>3916</td>\n",
       "      <td>31200</td>\n",
       "    </tr>\n",
       "  </tbody>\n",
       "</table>\n",
       "</div>"
      ],
      "text/plain": [
       "   make       model  year             engine_fuel_type  engine_hp  \\\n",
       "10  bmw    1_series  2013  premium_unleaded_(required)      300.0   \n",
       "0   bmw  1_series_m  2011  premium_unleaded_(required)      335.0   \n",
       "3   bmw    1_series  2011  premium_unleaded_(required)      230.0   \n",
       "5   bmw    1_series  2012  premium_unleaded_(required)      230.0   \n",
       "\n",
       "    engine_cylinders transmission_type     driven_wheels  number_of_doors  \\\n",
       "10               6.0            manual  rear_wheel_drive              2.0   \n",
       "0                6.0            manual  rear_wheel_drive              2.0   \n",
       "3                6.0            manual  rear_wheel_drive              2.0   \n",
       "5                6.0            manual  rear_wheel_drive              2.0   \n",
       "\n",
       "                          market_category vehicle_size vehicle_style  \\\n",
       "10                luxury,high-performance      compact         coupe   \n",
       "0   factory_tuner,luxury,high-performance      compact         coupe   \n",
       "3                      luxury,performance      compact         coupe   \n",
       "5                      luxury,performance      compact         coupe   \n",
       "\n",
       "    highway_mpg  city_mpg  popularity   msrp  \n",
       "10           28        20        3916  39600  \n",
       "0            26        19        3916  46135  \n",
       "3            28        18        3916  29450  \n",
       "5            28        18        3916  31200  "
      ]
     },
     "execution_count": 22,
     "metadata": {},
     "output_type": "execute_result"
    }
   ],
   "source": [
    "df.iloc[[10, 0, 3, 5]]"
   ]
  },
  {
   "cell_type": "code",
   "execution_count": 23,
   "id": "4e6eed49",
   "metadata": {
    "execution": {
     "iopub.execute_input": "2021-09-15T10:03:04.692544Z",
     "iopub.status.busy": "2021-09-15T10:03:04.691566Z",
     "iopub.status.idle": "2021-09-15T10:03:04.696178Z",
     "shell.execute_reply": "2021-09-15T10:03:04.696682Z",
     "shell.execute_reply.started": "2021-09-15T09:12:26.394731Z"
    },
    "papermill": {
     "duration": 0.122651,
     "end_time": "2021-09-15T10:03:04.696865",
     "exception": false,
     "start_time": "2021-09-15T10:03:04.574214",
     "status": "completed"
    },
    "tags": []
   },
   "outputs": [],
   "source": [
    "df_train = df.iloc[n_train:]\n",
    "df_val = df.iloc[n_train:n_train+n_val]\n",
    "df_test = df.iloc[n_train+n_val:]"
   ]
  },
  {
   "cell_type": "code",
   "execution_count": 24,
   "id": "edbf767f",
   "metadata": {
    "execution": {
     "iopub.execute_input": "2021-09-15T10:03:04.925080Z",
     "iopub.status.busy": "2021-09-15T10:03:04.924096Z",
     "iopub.status.idle": "2021-09-15T10:03:04.930511Z",
     "shell.execute_reply": "2021-09-15T10:03:04.929929Z",
     "shell.execute_reply.started": "2021-09-15T09:43:11.937052Z"
    },
    "papermill": {
     "duration": 0.121438,
     "end_time": "2021-09-15T10:03:04.930671",
     "exception": false,
     "start_time": "2021-09-15T10:03:04.809233",
     "status": "completed"
    },
    "tags": []
   },
   "outputs": [
    {
     "data": {
      "text/plain": [
       "array([    0,     1,     2, ..., 11911, 11912, 11913])"
      ]
     },
     "execution_count": 24,
     "metadata": {},
     "output_type": "execute_result"
    }
   ],
   "source": [
    "# Gives an array from 0 to the specified number itself. This will help in what we're trying to do.\n",
    "idx = np.arange(n)\n",
    "idx"
   ]
  },
  {
   "cell_type": "code",
   "execution_count": 25,
   "id": "8e8e35b1",
   "metadata": {
    "execution": {
     "iopub.execute_input": "2021-09-15T10:03:05.169766Z",
     "iopub.status.busy": "2021-09-15T10:03:05.169016Z",
     "iopub.status.idle": "2021-09-15T10:03:05.170622Z",
     "shell.execute_reply": "2021-09-15T10:03:05.171259Z",
     "shell.execute_reply.started": "2021-09-15T09:48:00.557885Z"
    },
    "papermill": {
     "duration": 0.126098,
     "end_time": "2021-09-15T10:03:05.171439",
     "exception": false,
     "start_time": "2021-09-15T10:03:05.045341",
     "status": "completed"
    },
    "tags": []
   },
   "outputs": [],
   "source": [
    "# We're shuffling the indexes so that we are able to get random datapoints out of the dataset \n",
    "# This is so that we are able to reduce any bias by any previous points\n",
    "np.random.seed(2)\n",
    "np.random.shuffle(idx)"
   ]
  },
  {
   "cell_type": "code",
   "execution_count": 26,
   "id": "35ff1a3f",
   "metadata": {
    "execution": {
     "iopub.execute_input": "2021-09-15T10:03:05.402961Z",
     "iopub.status.busy": "2021-09-15T10:03:05.402249Z",
     "iopub.status.idle": "2021-09-15T10:03:05.415041Z",
     "shell.execute_reply": "2021-09-15T10:03:05.415572Z",
     "shell.execute_reply.started": "2021-09-15T09:48:31.400326Z"
    },
    "papermill": {
     "duration": 0.129763,
     "end_time": "2021-09-15T10:03:05.415780",
     "exception": false,
     "start_time": "2021-09-15T10:03:05.286017",
     "status": "completed"
    },
    "tags": []
   },
   "outputs": [],
   "source": [
    "df_train = df.iloc[idx[:n_train]]\n",
    "df_val = df.iloc[idx[n_train:n_train+n_val]]\n",
    "df_test = df.iloc[idx[n_train+n_val:]]"
   ]
  },
  {
   "cell_type": "code",
   "execution_count": 27,
   "id": "f77a45b5",
   "metadata": {
    "execution": {
     "iopub.execute_input": "2021-09-15T10:03:05.653263Z",
     "iopub.status.busy": "2021-09-15T10:03:05.652547Z",
     "iopub.status.idle": "2021-09-15T10:03:05.658242Z",
     "shell.execute_reply": "2021-09-15T10:03:05.659227Z",
     "shell.execute_reply.started": "2021-09-15T09:48:09.631723Z"
    },
    "papermill": {
     "duration": 0.129365,
     "end_time": "2021-09-15T10:03:05.659517",
     "exception": false,
     "start_time": "2021-09-15T10:03:05.530152",
     "status": "completed"
    },
    "tags": []
   },
   "outputs": [
    {
     "data": {
      "text/plain": [
       "array([2735, 6720, 5878, ..., 9334, 5284, 2420])"
      ]
     },
     "execution_count": 27,
     "metadata": {},
     "output_type": "execute_result"
    }
   ],
   "source": [
    "# To visualise above, this is what's above:\n",
    "idx[:n_train]"
   ]
  },
  {
   "cell_type": "code",
   "execution_count": 28,
   "id": "9612867e",
   "metadata": {
    "execution": {
     "iopub.execute_input": "2021-09-15T10:03:05.910406Z",
     "iopub.status.busy": "2021-09-15T10:03:05.909777Z",
     "iopub.status.idle": "2021-09-15T10:03:05.928848Z",
     "shell.execute_reply": "2021-09-15T10:03:05.929378Z",
     "shell.execute_reply.started": "2021-09-15T09:12:26.443667Z"
    },
    "papermill": {
     "duration": 0.137245,
     "end_time": "2021-09-15T10:03:05.929555",
     "exception": false,
     "start_time": "2021-09-15T10:03:05.792310",
     "status": "completed"
    },
    "tags": []
   },
   "outputs": [
    {
     "data": {
      "text/html": [
       "<div>\n",
       "<style scoped>\n",
       "    .dataframe tbody tr th:only-of-type {\n",
       "        vertical-align: middle;\n",
       "    }\n",
       "\n",
       "    .dataframe tbody tr th {\n",
       "        vertical-align: top;\n",
       "    }\n",
       "\n",
       "    .dataframe thead th {\n",
       "        text-align: right;\n",
       "    }\n",
       "</style>\n",
       "<table border=\"1\" class=\"dataframe\">\n",
       "  <thead>\n",
       "    <tr style=\"text-align: right;\">\n",
       "      <th></th>\n",
       "      <th>make</th>\n",
       "      <th>model</th>\n",
       "      <th>year</th>\n",
       "      <th>engine_fuel_type</th>\n",
       "      <th>engine_hp</th>\n",
       "      <th>engine_cylinders</th>\n",
       "      <th>transmission_type</th>\n",
       "      <th>driven_wheels</th>\n",
       "      <th>number_of_doors</th>\n",
       "      <th>market_category</th>\n",
       "      <th>vehicle_size</th>\n",
       "      <th>vehicle_style</th>\n",
       "      <th>highway_mpg</th>\n",
       "      <th>city_mpg</th>\n",
       "      <th>popularity</th>\n",
       "      <th>msrp</th>\n",
       "    </tr>\n",
       "  </thead>\n",
       "  <tbody>\n",
       "    <tr>\n",
       "      <th>2735</th>\n",
       "      <td>chevrolet</td>\n",
       "      <td>cobalt</td>\n",
       "      <td>2008</td>\n",
       "      <td>regular_unleaded</td>\n",
       "      <td>148.0</td>\n",
       "      <td>4.0</td>\n",
       "      <td>manual</td>\n",
       "      <td>front_wheel_drive</td>\n",
       "      <td>2.0</td>\n",
       "      <td>NaN</td>\n",
       "      <td>compact</td>\n",
       "      <td>coupe</td>\n",
       "      <td>33</td>\n",
       "      <td>24</td>\n",
       "      <td>1385</td>\n",
       "      <td>14410</td>\n",
       "    </tr>\n",
       "    <tr>\n",
       "      <th>6720</th>\n",
       "      <td>toyota</td>\n",
       "      <td>matrix</td>\n",
       "      <td>2012</td>\n",
       "      <td>regular_unleaded</td>\n",
       "      <td>132.0</td>\n",
       "      <td>4.0</td>\n",
       "      <td>automatic</td>\n",
       "      <td>front_wheel_drive</td>\n",
       "      <td>4.0</td>\n",
       "      <td>hatchback</td>\n",
       "      <td>compact</td>\n",
       "      <td>4dr_hatchback</td>\n",
       "      <td>32</td>\n",
       "      <td>25</td>\n",
       "      <td>2031</td>\n",
       "      <td>19685</td>\n",
       "    </tr>\n",
       "    <tr>\n",
       "      <th>5878</th>\n",
       "      <td>subaru</td>\n",
       "      <td>impreza</td>\n",
       "      <td>2016</td>\n",
       "      <td>regular_unleaded</td>\n",
       "      <td>148.0</td>\n",
       "      <td>4.0</td>\n",
       "      <td>automatic</td>\n",
       "      <td>all_wheel_drive</td>\n",
       "      <td>4.0</td>\n",
       "      <td>hatchback</td>\n",
       "      <td>compact</td>\n",
       "      <td>4dr_hatchback</td>\n",
       "      <td>37</td>\n",
       "      <td>28</td>\n",
       "      <td>640</td>\n",
       "      <td>19795</td>\n",
       "    </tr>\n",
       "    <tr>\n",
       "      <th>11190</th>\n",
       "      <td>volkswagen</td>\n",
       "      <td>vanagon</td>\n",
       "      <td>1991</td>\n",
       "      <td>regular_unleaded</td>\n",
       "      <td>90.0</td>\n",
       "      <td>4.0</td>\n",
       "      <td>manual</td>\n",
       "      <td>rear_wheel_drive</td>\n",
       "      <td>3.0</td>\n",
       "      <td>NaN</td>\n",
       "      <td>large</td>\n",
       "      <td>passenger_minivan</td>\n",
       "      <td>18</td>\n",
       "      <td>16</td>\n",
       "      <td>873</td>\n",
       "      <td>2000</td>\n",
       "    </tr>\n",
       "    <tr>\n",
       "      <th>4554</th>\n",
       "      <td>ford</td>\n",
       "      <td>f-150</td>\n",
       "      <td>2017</td>\n",
       "      <td>flex-fuel_(unleaded/e85)</td>\n",
       "      <td>385.0</td>\n",
       "      <td>8.0</td>\n",
       "      <td>automatic</td>\n",
       "      <td>four_wheel_drive</td>\n",
       "      <td>4.0</td>\n",
       "      <td>flex_fuel</td>\n",
       "      <td>large</td>\n",
       "      <td>crew_cab_pickup</td>\n",
       "      <td>21</td>\n",
       "      <td>15</td>\n",
       "      <td>5657</td>\n",
       "      <td>56260</td>\n",
       "    </tr>\n",
       "  </tbody>\n",
       "</table>\n",
       "</div>"
      ],
      "text/plain": [
       "             make    model  year          engine_fuel_type  engine_hp  \\\n",
       "2735    chevrolet   cobalt  2008          regular_unleaded      148.0   \n",
       "6720       toyota   matrix  2012          regular_unleaded      132.0   \n",
       "5878       subaru  impreza  2016          regular_unleaded      148.0   \n",
       "11190  volkswagen  vanagon  1991          regular_unleaded       90.0   \n",
       "4554         ford    f-150  2017  flex-fuel_(unleaded/e85)      385.0   \n",
       "\n",
       "       engine_cylinders transmission_type      driven_wheels  number_of_doors  \\\n",
       "2735                4.0            manual  front_wheel_drive              2.0   \n",
       "6720                4.0         automatic  front_wheel_drive              4.0   \n",
       "5878                4.0         automatic    all_wheel_drive              4.0   \n",
       "11190               4.0            manual   rear_wheel_drive              3.0   \n",
       "4554                8.0         automatic   four_wheel_drive              4.0   \n",
       "\n",
       "      market_category vehicle_size      vehicle_style  highway_mpg  city_mpg  \\\n",
       "2735              NaN      compact              coupe           33        24   \n",
       "6720        hatchback      compact      4dr_hatchback           32        25   \n",
       "5878        hatchback      compact      4dr_hatchback           37        28   \n",
       "11190             NaN        large  passenger_minivan           18        16   \n",
       "4554        flex_fuel        large    crew_cab_pickup           21        15   \n",
       "\n",
       "       popularity   msrp  \n",
       "2735         1385  14410  \n",
       "6720         2031  19685  \n",
       "5878          640  19795  \n",
       "11190         873   2000  \n",
       "4554         5657  56260  "
      ]
     },
     "execution_count": 28,
     "metadata": {},
     "output_type": "execute_result"
    }
   ],
   "source": [
    "df_train.head()"
   ]
  },
  {
   "cell_type": "code",
   "execution_count": 29,
   "id": "255eeee9",
   "metadata": {
    "execution": {
     "iopub.execute_input": "2021-09-15T10:03:06.163766Z",
     "iopub.status.busy": "2021-09-15T10:03:06.163091Z",
     "iopub.status.idle": "2021-09-15T10:03:06.168347Z",
     "shell.execute_reply": "2021-09-15T10:03:06.168956Z",
     "shell.execute_reply.started": "2021-09-15T09:12:26.463338Z"
    },
    "papermill": {
     "duration": 0.124991,
     "end_time": "2021-09-15T10:03:06.169144",
     "exception": false,
     "start_time": "2021-09-15T10:03:06.044153",
     "status": "completed"
    },
    "tags": []
   },
   "outputs": [
    {
     "data": {
      "text/plain": [
       "(7150, 2382, 2382)"
      ]
     },
     "execution_count": 29,
     "metadata": {},
     "output_type": "execute_result"
    }
   ],
   "source": [
    "len(df_train), len(df_val), len(df_test)"
   ]
  },
  {
   "cell_type": "code",
   "execution_count": 30,
   "id": "09f5535e",
   "metadata": {
    "execution": {
     "iopub.execute_input": "2021-09-15T10:03:06.403393Z",
     "iopub.status.busy": "2021-09-15T10:03:06.402717Z",
     "iopub.status.idle": "2021-09-15T10:03:06.412587Z",
     "shell.execute_reply": "2021-09-15T10:03:06.413091Z",
     "shell.execute_reply.started": "2021-09-15T09:12:26.476187Z"
    },
    "papermill": {
     "duration": 0.129312,
     "end_time": "2021-09-15T10:03:06.413281",
     "exception": false,
     "start_time": "2021-09-15T10:03:06.283969",
     "status": "completed"
    },
    "tags": []
   },
   "outputs": [],
   "source": [
    "# As seen above, the index of the train data is mixed up, so let's reset the index back to 0 - 7150.\n",
    "df_train = df_train.reset_index(drop=True)\n",
    "df_val = df_val.reset_index(drop=True)\n",
    "df_test = df_test.reset_index(drop=True)"
   ]
  },
  {
   "cell_type": "code",
   "execution_count": 31,
   "id": "b693973d",
   "metadata": {
    "execution": {
     "iopub.execute_input": "2021-09-15T10:03:06.771619Z",
     "iopub.status.busy": "2021-09-15T10:03:06.644722Z",
     "iopub.status.idle": "2021-09-15T10:03:06.775665Z",
     "shell.execute_reply": "2021-09-15T10:03:06.775076Z",
     "shell.execute_reply.started": "2021-09-15T09:12:26.492030Z"
    },
    "papermill": {
     "duration": 0.248855,
     "end_time": "2021-09-15T10:03:06.775842",
     "exception": false,
     "start_time": "2021-09-15T10:03:06.526987",
     "status": "completed"
    },
    "tags": []
   },
   "outputs": [],
   "source": [
    "# Transformation of the y values\n",
    "y_train = np.log1p(df_train.msrp.values)\n",
    "y_val = np.log1p(df_val.msrp.values)\n",
    "y_test = np.log1p(df_test.msrp.values)"
   ]
  },
  {
   "cell_type": "code",
   "execution_count": 32,
   "id": "397c836f",
   "metadata": {
    "execution": {
     "iopub.execute_input": "2021-09-15T10:03:07.017266Z",
     "iopub.status.busy": "2021-09-15T10:03:07.015404Z",
     "iopub.status.idle": "2021-09-15T10:03:07.019360Z",
     "shell.execute_reply": "2021-09-15T10:03:07.019829Z",
     "shell.execute_reply.started": "2021-09-15T09:12:26.500362Z"
    },
    "papermill": {
     "duration": 0.127757,
     "end_time": "2021-09-15T10:03:07.020047",
     "exception": false,
     "start_time": "2021-09-15T10:03:06.892290",
     "status": "completed"
    },
    "tags": []
   },
   "outputs": [],
   "source": [
    "del df_train['msrp']\n",
    "del df_val['msrp']\n",
    "del df_test['msrp']"
   ]
  },
  {
   "cell_type": "code",
   "execution_count": 33,
   "id": "fea57e0c",
   "metadata": {
    "execution": {
     "iopub.execute_input": "2021-09-15T10:03:07.257492Z",
     "iopub.status.busy": "2021-09-15T10:03:07.256841Z",
     "iopub.status.idle": "2021-09-15T10:03:07.261771Z",
     "shell.execute_reply": "2021-09-15T10:03:07.262365Z",
     "shell.execute_reply.started": "2021-09-15T09:12:26.511880Z"
    },
    "papermill": {
     "duration": 0.12629,
     "end_time": "2021-09-15T10:03:07.262545",
     "exception": false,
     "start_time": "2021-09-15T10:03:07.136255",
     "status": "completed"
    },
    "tags": []
   },
   "outputs": [
    {
     "data": {
      "text/plain": [
       "7150"
      ]
     },
     "execution_count": 33,
     "metadata": {},
     "output_type": "execute_result"
    }
   ],
   "source": [
    "len(y_train)"
   ]
  },
  {
   "cell_type": "markdown",
   "id": "7f6f47f1",
   "metadata": {
    "papermill": {
     "duration": 0.11483,
     "end_time": "2021-09-15T10:03:07.493453",
     "exception": false,
     "start_time": "2021-09-15T10:03:07.378623",
     "status": "completed"
    },
    "tags": []
   },
   "source": [
    "## 2.5 Linear regression"
   ]
  },
  {
   "cell_type": "code",
   "execution_count": 34,
   "id": "48388323",
   "metadata": {
    "execution": {
     "iopub.execute_input": "2021-09-15T10:03:07.728243Z",
     "iopub.status.busy": "2021-09-15T10:03:07.727587Z",
     "iopub.status.idle": "2021-09-15T10:03:07.735712Z",
     "shell.execute_reply": "2021-09-15T10:03:07.735087Z",
     "shell.execute_reply.started": "2021-09-15T09:12:26.526250Z"
    },
    "papermill": {
     "duration": 0.12741,
     "end_time": "2021-09-15T10:03:07.735871",
     "exception": false,
     "start_time": "2021-09-15T10:03:07.608461",
     "status": "completed"
    },
    "tags": []
   },
   "outputs": [
    {
     "data": {
      "text/plain": [
       "make                                 rolls-royce\n",
       "model                     phantom_drophead_coupe\n",
       "year                                        2015\n",
       "engine_fuel_type     premium_unleaded_(required)\n",
       "engine_hp                                  453.0\n",
       "engine_cylinders                            12.0\n",
       "transmission_type                      automatic\n",
       "driven_wheels                   rear_wheel_drive\n",
       "number_of_doors                              2.0\n",
       "market_category        exotic,luxury,performance\n",
       "vehicle_size                               large\n",
       "vehicle_style                        convertible\n",
       "highway_mpg                                   19\n",
       "city_mpg                                      11\n",
       "popularity                                    86\n",
       "Name: 10, dtype: object"
      ]
     },
     "execution_count": 34,
     "metadata": {},
     "output_type": "execute_result"
    }
   ],
   "source": [
    "df_train.iloc[10]"
   ]
  },
  {
   "cell_type": "markdown",
   "id": "ebe2ad43",
   "metadata": {
    "papermill": {
     "duration": 0.116695,
     "end_time": "2021-09-15T10:03:07.969484",
     "exception": false,
     "start_time": "2021-09-15T10:03:07.852789",
     "status": "completed"
    },
    "tags": []
   },
   "source": [
    "Recall that using the feature matrix (xi), we put it into a model and produce yi. \n",
    "\n",
    "In other words, \n",
    "\n",
    "g(xi) = yi"
   ]
  },
  {
   "cell_type": "code",
   "execution_count": 35,
   "id": "7faeebd2",
   "metadata": {
    "execution": {
     "iopub.execute_input": "2021-09-15T10:03:08.210974Z",
     "iopub.status.busy": "2021-09-15T10:03:08.209900Z",
     "iopub.status.idle": "2021-09-15T10:03:08.213680Z",
     "shell.execute_reply": "2021-09-15T10:03:08.213102Z",
     "shell.execute_reply.started": "2021-09-15T09:12:26.536527Z"
    },
    "papermill": {
     "duration": 0.126898,
     "end_time": "2021-09-15T10:03:08.213851",
     "exception": false,
     "start_time": "2021-09-15T10:03:08.086953",
     "status": "completed"
    },
    "tags": []
   },
   "outputs": [],
   "source": [
    "# From index number 10: We choose engine_hp, city_mpg and popularity \n",
    "xi = [453, 11, 86]\n",
    "w0 = 7.17\n",
    "w = [0.01, 0.04, 0.002]\n",
    "\n",
    "# How did you get the initial bias values and the weights? "
   ]
  },
  {
   "cell_type": "markdown",
   "id": "e8e49ec5",
   "metadata": {
    "papermill": {
     "duration": 0.115758,
     "end_time": "2021-09-15T10:03:08.445521",
     "exception": false,
     "start_time": "2021-09-15T10:03:08.329763",
     "status": "completed"
    },
    "tags": []
   },
   "source": [
    "For this specific example: \n",
    "\n",
    "# g(xi) = W0 + W1 * X1 + W2 * X2 + W3 * X3\n",
    "\n",
    "whereby X is the value of the feature\n",
    "whereby W is the weight/bias of the feature.\n",
    "\n",
    "W0 is the bias term itself without knowing anything about the car. \n",
    "\n",
    "W1 * X1 + W2 * X2 + W3 * X3 is basically a summation/sigma (refer to the video to see how the summation looks like)\n",
    "\n",
    "Therefore, mathematically, it can be simplified to \n",
    "# g(xi) = W0 + summation(1,3) (w[j] * xi[j])  \n",
    "If we use python, we have to start from 0 instead, therefore \n",
    "# g(xi) = W0 + summation(0,2) (w[j] * xi[j])\n",
    "\n",
    "Do note that the parameters for the summation are the lower and upper limits."
   ]
  },
  {
   "cell_type": "code",
   "execution_count": 36,
   "id": "c1aab9a6",
   "metadata": {
    "execution": {
     "iopub.execute_input": "2021-09-15T10:03:08.686915Z",
     "iopub.status.busy": "2021-09-15T10:03:08.685917Z",
     "iopub.status.idle": "2021-09-15T10:03:08.688783Z",
     "shell.execute_reply": "2021-09-15T10:03:08.689249Z",
     "shell.execute_reply.started": "2021-09-15T09:12:26.546329Z"
    },
    "papermill": {
     "duration": 0.125688,
     "end_time": "2021-09-15T10:03:08.689448",
     "exception": false,
     "start_time": "2021-09-15T10:03:08.563760",
     "status": "completed"
    },
    "tags": []
   },
   "outputs": [],
   "source": [
    "# Python code for how the linear regression works, but in a more general sense \n",
    "def linear_regression(xi):\n",
    "    # number of features in the feature matrix\n",
    "    n = len(xi)\n",
    "    \n",
    "    # We have an initial bias term W0, so that is the starting of our prediction.\n",
    "    pred = w0\n",
    "    \n",
    "    # Recursive feature whereby the feature + the weight/bias is being added.\n",
    "    # Range(n) starts at 0 and ends at n-1 by default\n",
    "    for j in range(n):\n",
    "        pred = pred + w[j] * xi[j]\n",
    "        \n",
    "    # End product \n",
    "    return pred"
   ]
  },
  {
   "cell_type": "code",
   "execution_count": 37,
   "id": "d3ae00e8",
   "metadata": {
    "execution": {
     "iopub.execute_input": "2021-09-15T10:03:08.929184Z",
     "iopub.status.busy": "2021-09-15T10:03:08.928412Z",
     "iopub.status.idle": "2021-09-15T10:03:08.931826Z",
     "shell.execute_reply": "2021-09-15T10:03:08.931216Z",
     "shell.execute_reply.started": "2021-09-15T09:12:26.556076Z"
    },
    "papermill": {
     "duration": 0.125806,
     "end_time": "2021-09-15T10:03:08.931964",
     "exception": false,
     "start_time": "2021-09-15T10:03:08.806158",
     "status": "completed"
    },
    "tags": []
   },
   "outputs": [],
   "source": [
    "xi = [453, 11, 86]\n",
    "w0 = 7.17\n",
    "w = [0.01, 0.04, 0.002]"
   ]
  },
  {
   "cell_type": "code",
   "execution_count": 38,
   "id": "a1bb10e2",
   "metadata": {
    "execution": {
     "iopub.execute_input": "2021-09-15T10:03:09.173323Z",
     "iopub.status.busy": "2021-09-15T10:03:09.172629Z",
     "iopub.status.idle": "2021-09-15T10:03:09.177253Z",
     "shell.execute_reply": "2021-09-15T10:03:09.176550Z",
     "shell.execute_reply.started": "2021-09-15T09:12:26.567741Z"
    },
    "papermill": {
     "duration": 0.129061,
     "end_time": "2021-09-15T10:03:09.177482",
     "exception": false,
     "start_time": "2021-09-15T10:03:09.048421",
     "status": "completed"
    },
    "tags": []
   },
   "outputs": [
    {
     "data": {
      "text/plain": [
       "12.312"
      ]
     },
     "execution_count": 38,
     "metadata": {},
     "output_type": "execute_result"
    }
   ],
   "source": [
    "linear_regression(xi)"
   ]
  },
  {
   "cell_type": "code",
   "execution_count": 39,
   "id": "1d478fa6",
   "metadata": {
    "execution": {
     "iopub.execute_input": "2021-09-15T10:03:09.418870Z",
     "iopub.status.busy": "2021-09-15T10:03:09.418170Z",
     "iopub.status.idle": "2021-09-15T10:03:09.421840Z",
     "shell.execute_reply": "2021-09-15T10:03:09.421257Z",
     "shell.execute_reply.started": "2021-09-15T09:12:26.580228Z"
    },
    "papermill": {
     "duration": 0.124283,
     "end_time": "2021-09-15T10:03:09.421986",
     "exception": false,
     "start_time": "2021-09-15T10:03:09.297703",
     "status": "completed"
    },
    "tags": []
   },
   "outputs": [
    {
     "data": {
      "text/plain": [
       "222347.2221101062"
      ]
     },
     "execution_count": 39,
     "metadata": {},
     "output_type": "execute_result"
    }
   ],
   "source": [
    "# Since we did log1p just now, we have to reverse it so we do a exponential first and then we minus 1.\n",
    "np.expm1(12.312)"
   ]
  },
  {
   "cell_type": "code",
   "execution_count": 40,
   "id": "c4baa71e",
   "metadata": {
    "execution": {
     "iopub.execute_input": "2021-09-15T10:03:09.663090Z",
     "iopub.status.busy": "2021-09-15T10:03:09.661964Z",
     "iopub.status.idle": "2021-09-15T10:03:09.666751Z",
     "shell.execute_reply": "2021-09-15T10:03:09.666174Z",
     "shell.execute_reply.started": "2021-09-15T09:12:26.591382Z"
    },
    "papermill": {
     "duration": 0.128182,
     "end_time": "2021-09-15T10:03:09.666919",
     "exception": false,
     "start_time": "2021-09-15T10:03:09.538737",
     "status": "completed"
    },
    "scrolled": true,
    "tags": []
   },
   "outputs": [
    {
     "data": {
      "text/plain": [
       "12.312"
      ]
     },
     "execution_count": 40,
     "metadata": {},
     "output_type": "execute_result"
    }
   ],
   "source": [
    "# Let's double check the value! \n",
    "np.log1p(222347.2221101062)"
   ]
  },
  {
   "cell_type": "markdown",
   "id": "d25a0f20",
   "metadata": {
    "papermill": {
     "duration": 0.11912,
     "end_time": "2021-09-15T10:03:09.904007",
     "exception": false,
     "start_time": "2021-09-15T10:03:09.784887",
     "status": "completed"
    },
    "tags": []
   },
   "source": [
    "## 2.6 Linear regression vector form\n",
    "The general formula, as mentioned above, is: \n",
    "# g(xi) = W0 + summation(1,n) (w[j] * xi[j]) \n",
    "\n",
    "However, it can be written as another form. Specifically if we look at (w[j] * xi[j]),\n",
    "# g(xi) = w0 + xi^T * W \n",
    "\n",
    "whereby xi^T is the transpose of xi. "
   ]
  },
  {
   "cell_type": "markdown",
   "id": "11af26f9",
   "metadata": {
    "papermill": {
     "duration": 0.118306,
     "end_time": "2021-09-15T10:03:10.140987",
     "exception": false,
     "start_time": "2021-09-15T10:03:10.022681",
     "status": "completed"
    },
    "tags": []
   },
   "source": [
    "Why is this so? \n",
    "- Recall that both the weights and feature matrices are vectors, with size (n,1) whereby n is the number of features.\n",
    "- Since the number of weights = number of features, they both have the same size.\n",
    "- However, in order for vector-vector multiplication to occur, the **first vector** needs to have the **same number of columns** as the **number of rows of the second vector**. \n",
    "- We can either transpose the weights or we can transpose the feature matrix. \n",
    "- In this case, we transpose xi so that we are able to get a matrix with size (1,n).\n",
    "- Since we want to get the inner product, we will use xi^T * W so we get a product of (1,1) aka the prediction (instead of W * Xi ^T)\n",
    "- Finally, the vector-vector multiplication occurs, and we get the 'prediction'. \n",
    "\n",
    "(Note: We can transpose either vector, but since we're going with the transpose of xi, we have to make sure that we change the position of the matrices as the position affects the product of matrix-matrix multiplication, or in this case, vector-vector multiplication.) "
   ]
  },
  {
   "cell_type": "code",
   "execution_count": 41,
   "id": "8d8dcd32",
   "metadata": {
    "execution": {
     "iopub.execute_input": "2021-09-15T10:03:10.387193Z",
     "iopub.status.busy": "2021-09-15T10:03:10.386458Z",
     "iopub.status.idle": "2021-09-15T10:03:10.390011Z",
     "shell.execute_reply": "2021-09-15T10:03:10.389465Z",
     "shell.execute_reply.started": "2021-09-15T09:12:26.600792Z"
    },
    "papermill": {
     "duration": 0.128331,
     "end_time": "2021-09-15T10:03:10.390166",
     "exception": false,
     "start_time": "2021-09-15T10:03:10.261835",
     "status": "completed"
    },
    "tags": []
   },
   "outputs": [],
   "source": [
    "# Do note that this dot product only starts from weight 1 and feature 1. We have to consider w0, which will be covered.\n",
    "def dot(xi, w):\n",
    "    n = len(xi)\n",
    "    \n",
    "    res = 0.0\n",
    "    \n",
    "    for j in range(n):\n",
    "        res = res + xi[j] * w[j]\n",
    "    \n",
    "    return res"
   ]
  },
  {
   "cell_type": "code",
   "execution_count": 42,
   "id": "1d339c1e",
   "metadata": {
    "execution": {
     "iopub.execute_input": "2021-09-15T10:03:10.628455Z",
     "iopub.status.busy": "2021-09-15T10:03:10.627777Z",
     "iopub.status.idle": "2021-09-15T10:03:10.631383Z",
     "shell.execute_reply": "2021-09-15T10:03:10.630840Z",
     "shell.execute_reply.started": "2021-09-15T09:12:26.609257Z"
    },
    "papermill": {
     "duration": 0.125535,
     "end_time": "2021-09-15T10:03:10.631531",
     "exception": false,
     "start_time": "2021-09-15T10:03:10.505996",
     "status": "completed"
    },
    "tags": []
   },
   "outputs": [],
   "source": [
    "# Inclusion of weight 0 \n",
    "def linear_regression(xi):\n",
    "    return w0 + dot(xi, w)"
   ]
  },
  {
   "cell_type": "code",
   "execution_count": 43,
   "id": "711271e1",
   "metadata": {
    "execution": {
     "iopub.execute_input": "2021-09-15T10:03:10.869575Z",
     "iopub.status.busy": "2021-09-15T10:03:10.868921Z",
     "iopub.status.idle": "2021-09-15T10:03:10.872283Z",
     "shell.execute_reply": "2021-09-15T10:03:10.871741Z",
     "shell.execute_reply.started": "2021-09-15T09:12:26.622857Z"
    },
    "papermill": {
     "duration": 0.124976,
     "end_time": "2021-09-15T10:03:10.872433",
     "exception": false,
     "start_time": "2021-09-15T10:03:10.747457",
     "status": "completed"
    },
    "tags": []
   },
   "outputs": [],
   "source": [
    "# w is a list in this case, we can join two lists together to get the full matrix. \n",
    "w_new = [w0] + w"
   ]
  },
  {
   "cell_type": "code",
   "execution_count": 44,
   "id": "1328750d",
   "metadata": {
    "execution": {
     "iopub.execute_input": "2021-09-15T10:03:11.110598Z",
     "iopub.status.busy": "2021-09-15T10:03:11.109646Z",
     "iopub.status.idle": "2021-09-15T10:03:11.114852Z",
     "shell.execute_reply": "2021-09-15T10:03:11.114066Z",
     "shell.execute_reply.started": "2021-09-15T09:12:26.633109Z"
    },
    "papermill": {
     "duration": 0.126395,
     "end_time": "2021-09-15T10:03:11.115026",
     "exception": false,
     "start_time": "2021-09-15T10:03:10.988631",
     "status": "completed"
    },
    "tags": []
   },
   "outputs": [
    {
     "data": {
      "text/plain": [
       "[7.17, 0.01, 0.04, 0.002]"
      ]
     },
     "execution_count": 44,
     "metadata": {},
     "output_type": "execute_result"
    }
   ],
   "source": [
    "w_new"
   ]
  },
  {
   "cell_type": "code",
   "execution_count": 45,
   "id": "725f1298",
   "metadata": {
    "execution": {
     "iopub.execute_input": "2021-09-15T10:03:11.359378Z",
     "iopub.status.busy": "2021-09-15T10:03:11.358296Z",
     "iopub.status.idle": "2021-09-15T10:03:11.360818Z",
     "shell.execute_reply": "2021-09-15T10:03:11.361334Z",
     "shell.execute_reply.started": "2021-09-15T09:12:26.645136Z"
    },
    "papermill": {
     "duration": 0.127508,
     "end_time": "2021-09-15T10:03:11.361547",
     "exception": false,
     "start_time": "2021-09-15T10:03:11.234039",
     "status": "completed"
    },
    "tags": []
   },
   "outputs": [],
   "source": [
    "# Why do we add [1] here? It is to consider w0. \n",
    "def linear_regression(xi):\n",
    "    xi = [1] + xi\n",
    "    return dot(xi, w_new)"
   ]
  },
  {
   "cell_type": "code",
   "execution_count": 46,
   "id": "c7970e07",
   "metadata": {
    "execution": {
     "iopub.execute_input": "2021-09-15T10:03:11.603011Z",
     "iopub.status.busy": "2021-09-15T10:03:11.602307Z",
     "iopub.status.idle": "2021-09-15T10:03:11.605598Z",
     "shell.execute_reply": "2021-09-15T10:03:11.604983Z",
     "shell.execute_reply.started": "2021-09-15T09:12:26.656431Z"
    },
    "papermill": {
     "duration": 0.12692,
     "end_time": "2021-09-15T10:03:11.605772",
     "exception": false,
     "start_time": "2021-09-15T10:03:11.478852",
     "status": "completed"
    },
    "tags": []
   },
   "outputs": [
    {
     "data": {
      "text/plain": [
       "12.312"
      ]
     },
     "execution_count": 46,
     "metadata": {},
     "output_type": "execute_result"
    }
   ],
   "source": [
    "linear_regression(xi)"
   ]
  },
  {
   "cell_type": "code",
   "execution_count": 47,
   "id": "267b9ccf",
   "metadata": {
    "execution": {
     "iopub.execute_input": "2021-09-15T10:03:11.847164Z",
     "iopub.status.busy": "2021-09-15T10:03:11.846347Z",
     "iopub.status.idle": "2021-09-15T10:03:11.849243Z",
     "shell.execute_reply": "2021-09-15T10:03:11.848537Z",
     "shell.execute_reply.started": "2021-09-15T09:12:26.668369Z"
    },
    "papermill": {
     "duration": 0.125668,
     "end_time": "2021-09-15T10:03:11.849405",
     "exception": false,
     "start_time": "2021-09-15T10:03:11.723737",
     "status": "completed"
    },
    "tags": []
   },
   "outputs": [],
   "source": [
    "w0 = 7.17\n",
    "w = [0.01, 0.04, 0.002]\n",
    "w_new = [w0] + w"
   ]
  },
  {
   "cell_type": "code",
   "execution_count": 48,
   "id": "1ecd2899",
   "metadata": {
    "execution": {
     "iopub.execute_input": "2021-09-15T10:03:12.097426Z",
     "iopub.status.busy": "2021-09-15T10:03:12.093637Z",
     "iopub.status.idle": "2021-09-15T10:03:12.100824Z",
     "shell.execute_reply": "2021-09-15T10:03:12.101314Z",
     "shell.execute_reply.started": "2021-09-15T09:12:26.679339Z"
    },
    "papermill": {
     "duration": 0.133462,
     "end_time": "2021-09-15T10:03:12.101528",
     "exception": false,
     "start_time": "2021-09-15T10:03:11.968066",
     "status": "completed"
    },
    "tags": []
   },
   "outputs": [
    {
     "data": {
      "text/plain": [
       "array([[   1,  148,   24, 1385],\n",
       "       [   1,  132,   25, 2031],\n",
       "       [   1,  453,   11,   86]])"
      ]
     },
     "execution_count": 48,
     "metadata": {},
     "output_type": "execute_result"
    }
   ],
   "source": [
    "# We always have 1s in the beginning because of w0.\n",
    "# If we do 0 instead, it means that there will be no w0 when we do the multiplication, which makes it incorrect.\n",
    "x1  = [1, 148, 24, 1385]\n",
    "x2  = [1, 132, 25, 2031]\n",
    "x10 = [1, 453, 11, 86]\n",
    "\n",
    "X = [x1, x2, x10]\n",
    "X = np.array(X)\n",
    "X\n"
   ]
  },
  {
   "cell_type": "code",
   "execution_count": 49,
   "id": "52f8e507",
   "metadata": {
    "execution": {
     "iopub.execute_input": "2021-09-15T10:03:12.349272Z",
     "iopub.status.busy": "2021-09-15T10:03:12.348008Z",
     "iopub.status.idle": "2021-09-15T10:03:12.352016Z",
     "shell.execute_reply": "2021-09-15T10:03:12.351365Z",
     "shell.execute_reply.started": "2021-09-15T09:12:26.691633Z"
    },
    "papermill": {
     "duration": 0.128423,
     "end_time": "2021-09-15T10:03:12.352183",
     "exception": false,
     "start_time": "2021-09-15T10:03:12.223760",
     "status": "completed"
    },
    "tags": []
   },
   "outputs": [],
   "source": [
    "def linear_regression(X):\n",
    "    return X.dot(w_new)\n",
    "\n",
    "# Why is this possible?\n",
    "# This is because X is a matrix with size (3,4) while w_new is a matrix with size (4,1)\n",
    "# This produces the results in a matrix with size (3,1) from vector multiplication."
   ]
  },
  {
   "cell_type": "code",
   "execution_count": 50,
   "id": "7f777f7c",
   "metadata": {
    "execution": {
     "iopub.execute_input": "2021-09-15T10:03:12.598034Z",
     "iopub.status.busy": "2021-09-15T10:03:12.597263Z",
     "iopub.status.idle": "2021-09-15T10:03:12.601144Z",
     "shell.execute_reply": "2021-09-15T10:03:12.600411Z",
     "shell.execute_reply.started": "2021-09-15T09:12:26.700293Z"
    },
    "papermill": {
     "duration": 0.12971,
     "end_time": "2021-09-15T10:03:12.601306",
     "exception": false,
     "start_time": "2021-09-15T10:03:12.471596",
     "status": "completed"
    },
    "tags": []
   },
   "outputs": [
    {
     "data": {
      "text/plain": [
       "array([12.38 , 13.552, 12.312])"
      ]
     },
     "execution_count": 50,
     "metadata": {},
     "output_type": "execute_result"
    }
   ],
   "source": [
    "linear_regression(X)"
   ]
  },
  {
   "cell_type": "markdown",
   "id": "ed267de8",
   "metadata": {
    "papermill": {
     "duration": 0.120285,
     "end_time": "2021-09-15T10:03:12.844421",
     "exception": false,
     "start_time": "2021-09-15T10:03:12.724136",
     "status": "completed"
    },
    "tags": []
   },
   "source": [
    "## 2.7 Training a linear regression model"
   ]
  },
  {
   "cell_type": "code",
   "execution_count": 51,
   "id": "850818f8",
   "metadata": {
    "execution": {
     "iopub.execute_input": "2021-09-15T10:03:13.090677Z",
     "iopub.status.busy": "2021-09-15T10:03:13.089989Z",
     "iopub.status.idle": "2021-09-15T10:03:13.091984Z",
     "shell.execute_reply": "2021-09-15T10:03:13.092453Z",
     "shell.execute_reply.started": "2021-09-15T09:12:26.713918Z"
    },
    "papermill": {
     "duration": 0.127065,
     "end_time": "2021-09-15T10:03:13.092679",
     "exception": false,
     "start_time": "2021-09-15T10:03:12.965614",
     "status": "completed"
    },
    "tags": []
   },
   "outputs": [],
   "source": [
    "def train_linear_regression(X, y):\n",
    "    pass"
   ]
  },
  {
   "cell_type": "markdown",
   "id": "de1db278",
   "metadata": {
    "papermill": {
     "duration": 0.117858,
     "end_time": "2021-09-15T10:03:13.330346",
     "exception": false,
     "start_time": "2021-09-15T10:03:13.212488",
     "status": "completed"
    },
    "tags": []
   },
   "source": [
    "Recall that:\n",
    "# g(X) = X * w = y\n",
    "\n",
    "If we want to find out the vector w (aka the weights), we can do so by adding an inverse of X to both Xw and y, so that we can find w. \n",
    "\n",
    "However, that's not necessarily possible as X might not have an inverse due to it being rectangular in shape. What we can do, however, is to multiply the transpose of X for both sides, therefore creating:\n",
    "# X^T * X * w = X^T * y \n",
    "\n",
    "X^T * X is also known as a gram matrix with size (n+1, n+1), therefore allowing for an inverse and allowing us to find w as shown below: \n",
    "\n",
    "# (X^T * X)^-1 * X^T * X * w = (X^T * X)^-1 * X^T * y \n",
    "which is then simplified to \n",
    "# I * w =  (X^T * X)^-1 * X^T * y \n",
    "\n",
    "and I * w is w. \n",
    "\n",
    "Do note that w is not the exact solution, but rather the closest solution.\n"
   ]
  },
  {
   "cell_type": "code",
   "execution_count": 52,
   "id": "c3c8f59e",
   "metadata": {
    "execution": {
     "iopub.execute_input": "2021-09-15T10:03:13.577907Z",
     "iopub.status.busy": "2021-09-15T10:03:13.572095Z",
     "iopub.status.idle": "2021-09-15T10:03:13.582897Z",
     "shell.execute_reply": "2021-09-15T10:03:13.582160Z",
     "shell.execute_reply.started": "2021-09-15T09:12:26.723463Z"
    },
    "papermill": {
     "duration": 0.132644,
     "end_time": "2021-09-15T10:03:13.583069",
     "exception": false,
     "start_time": "2021-09-15T10:03:13.450425",
     "status": "completed"
    },
    "tags": []
   },
   "outputs": [
    {
     "data": {
      "text/plain": [
       "array([[ 148,   24, 1385],\n",
       "       [ 132,   25, 2031],\n",
       "       [ 453,   11,   86],\n",
       "       [ 158,   24,  185],\n",
       "       [ 172,   25,  201],\n",
       "       [ 413,   11,   86],\n",
       "       [  38,   54,  185],\n",
       "       [ 142,   25,  431],\n",
       "       [ 453,   31,   86]])"
      ]
     },
     "execution_count": 52,
     "metadata": {},
     "output_type": "execute_result"
    }
   ],
   "source": [
    "X = [\n",
    "    [148, 24, 1385],\n",
    "    [132, 25, 2031],\n",
    "    [453, 11, 86],\n",
    "    [158, 24, 185],\n",
    "    [172, 25, 201],\n",
    "    [413, 11, 86],\n",
    "    [38,  54, 185],\n",
    "    [142, 25, 431],\n",
    "    [453, 31, 86],\n",
    "]\n",
    "\n",
    "X = np.array(X)\n",
    "X"
   ]
  },
  {
   "cell_type": "code",
   "execution_count": 53,
   "id": "e311b974",
   "metadata": {
    "execution": {
     "iopub.execute_input": "2021-09-15T10:03:13.827938Z",
     "iopub.status.busy": "2021-09-15T10:03:13.826938Z",
     "iopub.status.idle": "2021-09-15T10:03:13.831954Z",
     "shell.execute_reply": "2021-09-15T10:03:13.831376Z",
     "shell.execute_reply.started": "2021-09-15T09:12:26.738244Z"
    },
    "papermill": {
     "duration": 0.129838,
     "end_time": "2021-09-15T10:03:13.832118",
     "exception": false,
     "start_time": "2021-09-15T10:03:13.702280",
     "status": "completed"
    },
    "tags": []
   },
   "outputs": [
    {
     "data": {
      "text/plain": [
       "array([1., 1., 1., 1., 1., 1., 1., 1., 1.])"
      ]
     },
     "execution_count": 53,
     "metadata": {},
     "output_type": "execute_result"
    }
   ],
   "source": [
    "# Why do we need this? This is for the initial bias term. \n",
    "ones = np.ones(X.shape[0])\n",
    "ones"
   ]
  },
  {
   "cell_type": "code",
   "execution_count": 54,
   "id": "4386a016",
   "metadata": {
    "execution": {
     "iopub.execute_input": "2021-09-15T10:03:14.079565Z",
     "iopub.status.busy": "2021-09-15T10:03:14.078829Z",
     "iopub.status.idle": "2021-09-15T10:03:14.081930Z",
     "shell.execute_reply": "2021-09-15T10:03:14.081314Z",
     "shell.execute_reply.started": "2021-09-15T09:12:26.747401Z"
    },
    "papermill": {
     "duration": 0.127788,
     "end_time": "2021-09-15T10:03:14.082097",
     "exception": false,
     "start_time": "2021-09-15T10:03:13.954309",
     "status": "completed"
    },
    "tags": []
   },
   "outputs": [],
   "source": [
    "# Joining of the two matrices together to ensure there is an inclusion of the initial bias term \n",
    "# X = np.column_stack([ones, X])\n",
    "# X"
   ]
  },
  {
   "cell_type": "code",
   "execution_count": 55,
   "id": "b0c2e304",
   "metadata": {
    "execution": {
     "iopub.execute_input": "2021-09-15T10:03:14.334371Z",
     "iopub.status.busy": "2021-09-15T10:03:14.333712Z",
     "iopub.status.idle": "2021-09-15T10:03:14.339061Z",
     "shell.execute_reply": "2021-09-15T10:03:14.338456Z",
     "shell.execute_reply.started": "2021-09-15T09:12:26.757748Z"
    },
    "papermill": {
     "duration": 0.134253,
     "end_time": "2021-09-15T10:03:14.339237",
     "exception": false,
     "start_time": "2021-09-15T10:03:14.204984",
     "status": "completed"
    },
    "tags": []
   },
   "outputs": [],
   "source": [
    "y = [10000, 20000, 15000, 20050, 10000, 20000, 15000, 25000, 12000]"
   ]
  },
  {
   "cell_type": "code",
   "execution_count": 56,
   "id": "df97a42f",
   "metadata": {
    "execution": {
     "iopub.execute_input": "2021-09-15T10:03:14.593733Z",
     "iopub.status.busy": "2021-09-15T10:03:14.592611Z",
     "iopub.status.idle": "2021-09-15T10:03:14.595463Z",
     "shell.execute_reply": "2021-09-15T10:03:14.594806Z",
     "shell.execute_reply.started": "2021-09-15T09:12:26.774994Z"
    },
    "papermill": {
     "duration": 0.13499,
     "end_time": "2021-09-15T10:03:14.595625",
     "exception": false,
     "start_time": "2021-09-15T10:03:14.460635",
     "status": "completed"
    },
    "tags": []
   },
   "outputs": [],
   "source": [
    "# Finding of the weights \n",
    "XTX = X.T.dot(X)\n",
    "XTX_inv = np.linalg.inv(XTX)\n",
    "w_full = XTX_inv.dot(X.T).dot(y)"
   ]
  },
  {
   "cell_type": "code",
   "execution_count": 57,
   "id": "c7018d9e",
   "metadata": {
    "execution": {
     "iopub.execute_input": "2021-09-15T10:03:14.843935Z",
     "iopub.status.busy": "2021-09-15T10:03:14.842855Z",
     "iopub.status.idle": "2021-09-15T10:03:14.844787Z",
     "shell.execute_reply": "2021-09-15T10:03:14.845296Z",
     "shell.execute_reply.started": "2021-09-15T09:12:26.789022Z"
    },
    "papermill": {
     "duration": 0.126731,
     "end_time": "2021-09-15T10:03:14.845490",
     "exception": false,
     "start_time": "2021-09-15T10:03:14.718759",
     "status": "completed"
    },
    "tags": []
   },
   "outputs": [],
   "source": [
    "w0 = w_full[0]\n",
    "w = w_full[1:]"
   ]
  },
  {
   "cell_type": "code",
   "execution_count": 58,
   "id": "420cc96f",
   "metadata": {
    "execution": {
     "iopub.execute_input": "2021-09-15T10:03:15.089623Z",
     "iopub.status.busy": "2021-09-15T10:03:15.088565Z",
     "iopub.status.idle": "2021-09-15T10:03:15.094903Z",
     "shell.execute_reply": "2021-09-15T10:03:15.095363Z",
     "shell.execute_reply.started": "2021-09-15T09:12:26.806741Z"
    },
    "papermill": {
     "duration": 0.130522,
     "end_time": "2021-09-15T10:03:15.095583",
     "exception": false,
     "start_time": "2021-09-15T10:03:14.965061",
     "status": "completed"
    },
    "tags": []
   },
   "outputs": [
    {
     "data": {
      "text/plain": [
       "(26.0841949768029, array([286.12285934,   3.93813107]))"
      ]
     },
     "execution_count": 58,
     "metadata": {},
     "output_type": "execute_result"
    }
   ],
   "source": [
    "w0, w"
   ]
  },
  {
   "cell_type": "code",
   "execution_count": 59,
   "id": "9e5ad703",
   "metadata": {
    "execution": {
     "iopub.execute_input": "2021-09-15T10:03:15.343037Z",
     "iopub.status.busy": "2021-09-15T10:03:15.342066Z",
     "iopub.status.idle": "2021-09-15T10:03:15.349095Z",
     "shell.execute_reply": "2021-09-15T10:03:15.348381Z",
     "shell.execute_reply.started": "2021-09-15T09:12:26.819067Z"
    },
    "papermill": {
     "duration": 0.131008,
     "end_time": "2021-09-15T10:03:15.349252",
     "exception": false,
     "start_time": "2021-09-15T10:03:15.218244",
     "status": "completed"
    },
    "tags": []
   },
   "outputs": [],
   "source": [
    "# Note: We should be using the X without the ones for the linear regression so that the ones will not stack.\n",
    "def train_linear_regression(X, y):\n",
    "    ones = np.ones(X.shape[0])\n",
    "    X = np.column_stack([ones, X])\n",
    "\n",
    "    XTX = X.T.dot(X)\n",
    "    XTX_inv = np.linalg.inv(XTX)\n",
    "    w_full = XTX_inv.dot(X.T).dot(y)\n",
    "    \n",
    "    return w_full[0], w_full[1:]"
   ]
  },
  {
   "cell_type": "code",
   "execution_count": 60,
   "id": "ad80028e",
   "metadata": {
    "execution": {
     "iopub.execute_input": "2021-09-15T10:03:15.603174Z",
     "iopub.status.busy": "2021-09-15T10:03:15.602099Z",
     "iopub.status.idle": "2021-09-15T10:03:15.606011Z",
     "shell.execute_reply": "2021-09-15T10:03:15.606828Z",
     "shell.execute_reply.started": "2021-09-15T09:12:26.831077Z"
    },
    "papermill": {
     "duration": 0.138008,
     "end_time": "2021-09-15T10:03:15.607094",
     "exception": false,
     "start_time": "2021-09-15T10:03:15.469086",
     "status": "completed"
    },
    "tags": []
   },
   "outputs": [
    {
     "data": {
      "text/plain": [
       "(25844.75405576679, array([ -16.08906468, -199.47254894,   -1.22802883]))"
      ]
     },
     "execution_count": 60,
     "metadata": {},
     "output_type": "execute_result"
    }
   ],
   "source": [
    "train_linear_regression(X, y)"
   ]
  },
  {
   "cell_type": "markdown",
   "id": "4c5c6cae",
   "metadata": {
    "papermill": {
     "duration": 0.117919,
     "end_time": "2021-09-15T10:03:15.890328",
     "exception": false,
     "start_time": "2021-09-15T10:03:15.772409",
     "status": "completed"
    },
    "tags": []
   },
   "source": [
    "## 2.8 Car price baseline model"
   ]
  },
  {
   "cell_type": "code",
   "execution_count": 61,
   "id": "2958e6ab",
   "metadata": {
    "execution": {
     "iopub.execute_input": "2021-09-15T10:03:16.133694Z",
     "iopub.status.busy": "2021-09-15T10:03:16.132831Z",
     "iopub.status.idle": "2021-09-15T10:03:16.137435Z",
     "shell.execute_reply": "2021-09-15T10:03:16.136775Z",
     "shell.execute_reply.started": "2021-09-15T09:12:26.850479Z"
    },
    "papermill": {
     "duration": 0.128977,
     "end_time": "2021-09-15T10:03:16.137600",
     "exception": false,
     "start_time": "2021-09-15T10:03:16.008623",
     "status": "completed"
    },
    "tags": []
   },
   "outputs": [
    {
     "data": {
      "text/plain": [
       "Index(['make', 'model', 'year', 'engine_fuel_type', 'engine_hp',\n",
       "       'engine_cylinders', 'transmission_type', 'driven_wheels',\n",
       "       'number_of_doors', 'market_category', 'vehicle_size', 'vehicle_style',\n",
       "       'highway_mpg', 'city_mpg', 'popularity'],\n",
       "      dtype='object')"
      ]
     },
     "execution_count": 61,
     "metadata": {},
     "output_type": "execute_result"
    }
   ],
   "source": [
    "df_train.columns"
   ]
  },
  {
   "cell_type": "code",
   "execution_count": null,
   "id": "68372109",
   "metadata": {},
   "outputs": [],
   "source": [
    "base = ['engine_hp', 'engine_cylinders', 'highway_mpg',\n",
    "        'city_mpg', 'popularity']\n",
    "\n",
    "X_train = df_train[base].fillna(0).values\n",
    "\n",
    "# fill_mode = lambda col: col.fillna(col.mode())\n",
    "# X_train = df_train.apply(fill_mode, axis=0).values\n",
    "\n",
    "w0, w = train_linear_regression(X_train, y_train)\n",
    "\n",
    "y_pred = w0 + X_train.dot(w)"
   ]
  },
  {
   "cell_type": "code",
   "execution_count": null,
   "id": "73847b2f",
   "metadata": {
    "papermill": {
     "duration": 0.120664,
     "end_time": "2021-09-15T10:03:17.237433",
     "exception": false,
     "start_time": "2021-09-15T10:03:17.116769",
     "status": "completed"
    },
    "tags": []
   },
   "outputs": [],
   "source": [
    "wo"
   ]
  },
  {
   "cell_type": "code",
   "execution_count": 65,
   "id": "3e883015",
   "metadata": {
    "execution": {
     "iopub.execute_input": "2021-09-15T10:03:17.522125Z",
     "iopub.status.busy": "2021-09-15T10:03:17.492920Z",
     "iopub.status.idle": "2021-09-15T10:03:17.929689Z",
     "shell.execute_reply": "2021-09-15T10:03:17.930196Z",
     "shell.execute_reply.started": "2021-09-15T09:12:26.940399Z"
    },
    "papermill": {
     "duration": 0.569867,
     "end_time": "2021-09-15T10:03:17.930374",
     "exception": false,
     "start_time": "2021-09-15T10:03:17.360507",
     "status": "completed"
    },
    "tags": []
   },
   "outputs": [
    {
     "data": {
      "text/plain": [
       "<AxesSubplot:ylabel='Count'>"
      ]
     },
     "execution_count": 65,
     "metadata": {},
     "output_type": "execute_result"
    },
    {
     "data": {
      "image/png": "[encoded data removed]",
      "text/plain": [
       "<Figure size 432x288 with 1 Axes>"
      ]
     },
     "metadata": {
      "needs_background": "light"
     },
     "output_type": "display_data"
    }
   ],
   "source": [
    "sns.histplot(y_pred, color='red', alpha=0.5, bins=50)\n",
    "sns.histplot(y_train, color='blue', alpha=0.5, bins=50)\n"
   ]
  },
  {
   "cell_type": "markdown",
   "id": "501c2b09",
   "metadata": {
    "papermill": {
     "duration": 0.125564,
     "end_time": "2021-09-15T10:03:18.178309",
     "exception": false,
     "start_time": "2021-09-15T10:03:18.052745",
     "status": "completed"
    },
    "tags": []
   },
   "source": [
    "## 2.9 RMSE\n",
    "RMSE is defined as Root Mean Squared Error.\n",
    "\n",
    "To take this step by step:\n",
    "1. Find the squared error, aka the square of error between the actual value of y and the predicted values of y.\n",
    "2. The mean squared error the mean of the squared errors themselves.\n",
    "3. Lastly, root means to square root the MSE. "
   ]
  },
  {
   "cell_type": "code",
   "execution_count": 68,
   "id": "3ddf59d4",
   "metadata": {
    "execution": {
     "iopub.execute_input": "2021-09-15T10:03:18.437673Z",
     "iopub.status.busy": "2021-09-15T10:03:18.436826Z",
     "iopub.status.idle": "2021-09-15T10:03:18.439882Z",
     "shell.execute_reply": "2021-09-15T10:03:18.439337Z",
     "shell.execute_reply.started": "2021-09-15T09:12:27.394879Z"
    },
    "papermill": {
     "duration": 0.133627,
     "end_time": "2021-09-15T10:03:18.440038",
     "exception": false,
     "start_time": "2021-09-15T10:03:18.306411",
     "status": "completed"
    },
    "tags": []
   },
   "outputs": [],
   "source": [
    "def rmse(y, y_pred):\n",
    "    se = (y - y_pred) ** 2\n",
    "    mse = se.mean()\n",
    "    return np.sqrt(mse)"
   ]
  },
  {
   "cell_type": "code",
   "execution_count": 69,
   "id": "ab6237c7",
   "metadata": {
    "execution": {
     "iopub.execute_input": "2021-09-15T10:03:18.691159Z",
     "iopub.status.busy": "2021-09-15T10:03:18.689911Z",
     "iopub.status.idle": "2021-09-15T10:03:18.696913Z",
     "shell.execute_reply": "2021-09-15T10:03:18.696156Z",
     "shell.execute_reply.started": "2021-09-15T09:12:27.400544Z"
    },
    "papermill": {
     "duration": 0.134581,
     "end_time": "2021-09-15T10:03:18.697078",
     "exception": false,
     "start_time": "2021-09-15T10:03:18.562497",
     "status": "completed"
    },
    "tags": []
   },
   "outputs": [
    {
     "data": {
      "text/plain": [
       "0.7554192603920132"
      ]
     },
     "execution_count": 69,
     "metadata": {},
     "output_type": "execute_result"
    }
   ],
   "source": [
    "rmse(y_train, y_pred)"
   ]
  },
  {
   "cell_type": "markdown",
   "id": "f4772816",
   "metadata": {
    "papermill": {
     "duration": 0.122346,
     "end_time": "2021-09-15T10:03:18.942632",
     "exception": false,
     "start_time": "2021-09-15T10:03:18.820286",
     "status": "completed"
    },
    "tags": []
   },
   "source": [
    "## 2.10 Validating the model"
   ]
  },
  {
   "cell_type": "code",
   "execution_count": 70,
   "id": "d9b3da87",
   "metadata": {
    "execution": {
     "iopub.execute_input": "2021-09-15T10:03:19.198979Z",
     "iopub.status.busy": "2021-09-15T10:03:19.198290Z",
     "iopub.status.idle": "2021-09-15T10:03:19.201295Z",
     "shell.execute_reply": "2021-09-15T10:03:19.201780Z",
     "shell.execute_reply.started": "2021-09-15T09:12:27.411413Z"
    },
    "papermill": {
     "duration": 0.13443,
     "end_time": "2021-09-15T10:03:19.201961",
     "exception": false,
     "start_time": "2021-09-15T10:03:19.067531",
     "status": "completed"
    },
    "tags": []
   },
   "outputs": [],
   "source": [
    "# This is the same code as the steps taken in 2.8, but applied to X_train and X_val. \n",
    "def prepare_X(df):\n",
    "    df_num = df[base]\n",
    "    df_num = df_num.fillna(0)\n",
    "    X = df_num.values\n",
    "    return X"
   ]
  },
  {
   "cell_type": "code",
   "execution_count": 71,
   "id": "1ba8a356",
   "metadata": {
    "execution": {
     "iopub.execute_input": "2021-09-15T10:03:19.460422Z",
     "iopub.status.busy": "2021-09-15T10:03:19.459759Z",
     "iopub.status.idle": "2021-09-15T10:03:19.476207Z",
     "shell.execute_reply": "2021-09-15T10:03:19.476940Z",
     "shell.execute_reply.started": "2021-09-15T09:12:27.426845Z"
    },
    "papermill": {
     "duration": 0.149188,
     "end_time": "2021-09-15T10:03:19.477243",
     "exception": false,
     "start_time": "2021-09-15T10:03:19.328055",
     "status": "completed"
    },
    "tags": []
   },
   "outputs": [
    {
     "data": {
      "text/plain": [
       "0.761653099130156"
      ]
     },
     "execution_count": 71,
     "metadata": {},
     "output_type": "execute_result"
    }
   ],
   "source": [
    "X_train = prepare_X(df_train)\n",
    "w0, w = train_linear_regression(X_train, y_train)\n",
    "\n",
    "X_val = prepare_X(df_val)\n",
    "y_pred = w0 + X_val.dot(w)\n",
    "rmse(y_val, y_pred)"
   ]
  },
  {
   "cell_type": "markdown",
   "id": "cc45bf55",
   "metadata": {
    "papermill": {
     "duration": 0.12428,
     "end_time": "2021-09-15T10:03:19.775853",
     "exception": false,
     "start_time": "2021-09-15T10:03:19.651573",
     "status": "completed"
    },
    "tags": []
   },
   "source": [
    "## 2.11 Simple feature engineering"
   ]
  },
  {
   "cell_type": "code",
   "execution_count": 72,
   "id": "a568b0ad",
   "metadata": {
    "execution": {
     "iopub.execute_input": "2021-09-15T10:03:20.047292Z",
     "iopub.status.busy": "2021-09-15T10:03:20.046414Z",
     "iopub.status.idle": "2021-09-15T10:03:20.050350Z",
     "shell.execute_reply": "2021-09-15T10:03:20.050960Z",
     "shell.execute_reply.started": "2021-09-15T09:12:27.444722Z"
    },
    "papermill": {
     "duration": 0.144519,
     "end_time": "2021-09-15T10:03:20.051155",
     "exception": false,
     "start_time": "2021-09-15T10:03:19.906636",
     "status": "completed"
    },
    "tags": []
   },
   "outputs": [
    {
     "data": {
      "text/plain": [
       "2017"
      ]
     },
     "execution_count": 72,
     "metadata": {},
     "output_type": "execute_result"
    }
   ],
   "source": [
    "df['year'].max()"
   ]
  },
  {
   "cell_type": "code",
   "execution_count": 73,
   "id": "e8d666b7",
   "metadata": {
    "execution": {
     "iopub.execute_input": "2021-09-15T10:03:20.343003Z",
     "iopub.status.busy": "2021-09-15T10:03:20.342263Z",
     "iopub.status.idle": "2021-09-15T10:03:20.345963Z",
     "shell.execute_reply": "2021-09-15T10:03:20.345287Z",
     "shell.execute_reply.started": "2021-09-15T09:12:27.465622Z"
    },
    "papermill": {
     "duration": 0.157625,
     "end_time": "2021-09-15T10:03:20.346120",
     "exception": false,
     "start_time": "2021-09-15T10:03:20.188495",
     "status": "completed"
    },
    "tags": []
   },
   "outputs": [],
   "source": [
    "# We're simply just adding an 'age' category\n",
    "# As seen above, the max year = 2017, therefore we are able to use '2017' and then derive the age from there.\n",
    "def prepare_X(df):\n",
    "    # We use a copy so as to prevent any changes for the old dataframe \n",
    "    df = df.copy()\n",
    "    \n",
    "    df['age'] = 2017 - df['year']\n",
    "    features = base + ['age']\n",
    "    \n",
    "    df_num = df[features]\n",
    "    df_num = df_num.fillna(0)\n",
    "    X = df_num.values\n",
    "\n",
    "    return X"
   ]
  },
  {
   "cell_type": "code",
   "execution_count": 74,
   "id": "756b9aa1",
   "metadata": {
    "execution": {
     "iopub.execute_input": "2021-09-15T10:03:20.610204Z",
     "iopub.status.busy": "2021-09-15T10:03:20.606688Z",
     "iopub.status.idle": "2021-09-15T10:03:20.635001Z",
     "shell.execute_reply": "2021-09-15T10:03:20.636098Z",
     "shell.execute_reply.started": "2021-09-15T09:12:27.475592Z"
    },
    "papermill": {
     "duration": 0.162394,
     "end_time": "2021-09-15T10:03:20.636381",
     "exception": false,
     "start_time": "2021-09-15T10:03:20.473987",
     "status": "completed"
    },
    "tags": []
   },
   "outputs": [
    {
     "data": {
      "text/plain": [
       "0.5172055461058299"
      ]
     },
     "execution_count": 74,
     "metadata": {},
     "output_type": "execute_result"
    }
   ],
   "source": [
    "X_train = prepare_X(df_train)\n",
    "w0, w = train_linear_regression(X_train, y_train)\n",
    "\n",
    "X_val = prepare_X(df_val)\n",
    "y_pred = w0 + X_val.dot(w)\n",
    "rmse(y_val, y_pred)"
   ]
  },
  {
   "cell_type": "markdown",
   "id": "f75b25b1",
   "metadata": {
    "papermill": {
     "duration": 0.126047,
     "end_time": "2021-09-15T10:03:20.941014",
     "exception": false,
     "start_time": "2021-09-15T10:03:20.814967",
     "status": "completed"
    },
    "tags": []
   },
   "source": [
    "Comparing with 2.10 and 2.11, we can tell that there is a slight change to the RMSE itself - 0.76165 vs 0.51721.\n",
    "You can tell that there also is a difference between the previous histogram and the histogram below. \n"
   ]
  },
  {
   "cell_type": "code",
   "execution_count": 75,
   "id": "4239ea1b",
   "metadata": {
    "execution": {
     "iopub.execute_input": "2021-09-15T10:03:21.233893Z",
     "iopub.status.busy": "2021-09-15T10:03:21.225680Z",
     "iopub.status.idle": "2021-09-15T10:03:21.755820Z",
     "shell.execute_reply": "2021-09-15T10:03:21.756367Z",
     "shell.execute_reply.started": "2021-09-15T09:12:27.516457Z"
    },
    "papermill": {
     "duration": 0.690731,
     "end_time": "2021-09-15T10:03:21.756571",
     "exception": false,
     "start_time": "2021-09-15T10:03:21.065840",
     "status": "completed"
    },
    "tags": []
   },
   "outputs": [
    {
     "data": {
      "text/plain": [
       "<matplotlib.legend.Legend at 0x7f44a787ef10>"
      ]
     },
     "execution_count": 75,
     "metadata": {},
     "output_type": "execute_result"
    },
    {
     "data": {
      "image/png": "[encoded data removed]",
      "text/plain": [
       "<Figure size 432x288 with 1 Axes>"
      ]
     },
     "metadata": {
      "needs_background": "light"
     },
     "output_type": "display_data"
    }
   ],
   "source": [
    "sns.histplot(y_pred, label='prediction', color='red', alpha=0.5, bins=50)\n",
    "sns.histplot(y_val, label='target', color='blue',  alpha=0.5, bins=50)\n",
    "plt.legend()"
   ]
  },
  {
   "cell_type": "markdown",
   "id": "d08803c0",
   "metadata": {
    "papermill": {
     "duration": 0.192348,
     "end_time": "2021-09-15T10:03:22.076383",
     "exception": false,
     "start_time": "2021-09-15T10:03:21.884035",
     "status": "completed"
    },
    "tags": []
   },
   "source": [
    "## 2.12 Categorical variables"
   ]
  },
  {
   "cell_type": "code",
   "execution_count": 76,
   "id": "48133b1c",
   "metadata": {
    "execution": {
     "iopub.execute_input": "2021-09-15T10:03:22.329788Z",
     "iopub.status.busy": "2021-09-15T10:03:22.328710Z",
     "iopub.status.idle": "2021-09-15T10:03:22.352913Z",
     "shell.execute_reply": "2021-09-15T10:03:22.353419Z",
     "shell.execute_reply.started": "2021-09-15T09:12:28.036127Z"
    },
    "papermill": {
     "duration": 0.152737,
     "end_time": "2021-09-15T10:03:22.353669",
     "exception": false,
     "start_time": "2021-09-15T10:03:22.200932",
     "status": "completed"
    },
    "tags": []
   },
   "outputs": [],
   "source": [
    "categorical_columns = [\n",
    "    'make', 'model', 'engine_fuel_type', 'driven_wheels', 'market_category',\n",
    "    'vehicle_size', 'vehicle_style']\n",
    "\n",
    "categorical = {}\n",
    "\n",
    "for c in categorical_columns:\n",
    "    categorical[c] = list(df_train[c].value_counts().head().index)"
   ]
  },
  {
   "cell_type": "code",
   "execution_count": 77,
   "id": "51346048",
   "metadata": {
    "execution": {
     "iopub.execute_input": "2021-09-15T10:03:22.608715Z",
     "iopub.status.busy": "2021-09-15T10:03:22.607736Z",
     "iopub.status.idle": "2021-09-15T10:03:22.615965Z",
     "shell.execute_reply": "2021-09-15T10:03:22.616828Z",
     "shell.execute_reply.started": "2021-09-15T09:12:28.057357Z"
    },
    "papermill": {
     "duration": 0.138041,
     "end_time": "2021-09-15T10:03:22.617121",
     "exception": false,
     "start_time": "2021-09-15T10:03:22.479080",
     "status": "completed"
    },
    "tags": []
   },
   "outputs": [],
   "source": [
    "def prepare_X(df):\n",
    "    df = df.copy()\n",
    "    \n",
    "    df['age'] = 2017 - df['year']\n",
    "    features = base + ['age']\n",
    "    \n",
    "    # Refer to footnote 1\n",
    "    for v in [2, 3, 4]:\n",
    "        df['num_doors_%d' % v] = (df.number_of_doors == v).astype(int)\n",
    "        features.append('num_doors_%d' % v)\n",
    "        \n",
    "    # Refer to footnote 2 \n",
    "    for name, values in categorical.items():\n",
    "        for value in values:\n",
    "            df['%s_%s' % (name, value)] = (df[name] == value).astype(int)\n",
    "            features.append('%s_%s' % (name, value))\n",
    "\n",
    "    df_num = df[features]\n",
    "    df_num = df_num.fillna(0)\n",
    "    X = df_num.values\n",
    "\n",
    "    return X"
   ]
  },
  {
   "cell_type": "code",
   "execution_count": 78,
   "id": "ff4266f4",
   "metadata": {
    "execution": {
     "iopub.execute_input": "2021-09-15T10:03:22.868894Z",
     "iopub.status.busy": "2021-09-15T10:03:22.867896Z",
     "iopub.status.idle": "2021-09-15T10:03:22.877441Z",
     "shell.execute_reply": "2021-09-15T10:03:22.876788Z",
     "shell.execute_reply.started": "2021-09-15T09:12:28.066340Z"
    },
    "papermill": {
     "duration": 0.135727,
     "end_time": "2021-09-15T10:03:22.877611",
     "exception": false,
     "start_time": "2021-09-15T10:03:22.741884",
     "status": "completed"
    },
    "tags": []
   },
   "outputs": [
    {
     "name": "stdout",
     "output_type": "stream",
     "text": [
      "dict_items([('make', ['chevrolet', 'ford', 'volkswagen', 'toyota', 'dodge']), ('model', ['silverado_1500', 'tundra', 'f-150', 'sierra_1500', 'tacoma']), ('engine_fuel_type', ['regular_unleaded', 'premium_unleaded_(required)', 'premium_unleaded_(recommended)', 'flex-fuel_(unleaded/e85)', 'diesel']), ('driven_wheels', ['front_wheel_drive', 'rear_wheel_drive', 'all_wheel_drive', 'four_wheel_drive']), ('market_category', ['crossover', 'flex_fuel', 'luxury', 'hatchback', 'luxury,performance']), ('vehicle_size', ['compact', 'midsize', 'large']), ('vehicle_style', ['sedan', '4dr_suv', 'coupe', 'convertible', '4dr_hatchback'])])\n",
      "\n",
      "\n",
      "make\n",
      "['chevrolet', 'ford', 'volkswagen', 'toyota', 'dodge']\n",
      "model\n",
      "['silverado_1500', 'tundra', 'f-150', 'sierra_1500', 'tacoma']\n",
      "engine_fuel_type\n",
      "['regular_unleaded', 'premium_unleaded_(required)', 'premium_unleaded_(recommended)', 'flex-fuel_(unleaded/e85)', 'diesel']\n",
      "driven_wheels\n",
      "['front_wheel_drive', 'rear_wheel_drive', 'all_wheel_drive', 'four_wheel_drive']\n",
      "market_category\n",
      "['crossover', 'flex_fuel', 'luxury', 'hatchback', 'luxury,performance']\n",
      "vehicle_size\n",
      "['compact', 'midsize', 'large']\n",
      "vehicle_style\n",
      "['sedan', '4dr_suv', 'coupe', 'convertible', '4dr_hatchback']\n"
     ]
    }
   ],
   "source": [
    "# Footnote 2: What's really going on in this for loop? It seems rather confusing. Let's try to dissect it.\n",
    "test = categorical.items()\n",
    "print(test)\n",
    "print('\\n')\n",
    "# items() allow a dictionary to be converted into a 2-dimensional list\n",
    "\n",
    "for name, values in categorical.items():\n",
    "    print(name)\n",
    "    print(values)\n",
    "# the first element in the list is the name of the column itself, while the second element are the values themselves\n",
    "# therefore, we need a second for loop for the list itself to extract the different values \n",
    "# "
   ]
  },
  {
   "cell_type": "code",
   "execution_count": 79,
   "id": "fedd7ace",
   "metadata": {
    "execution": {
     "iopub.execute_input": "2021-09-15T10:03:23.137042Z",
     "iopub.status.busy": "2021-09-15T10:03:23.133048Z",
     "iopub.status.idle": "2021-09-15T10:03:23.313305Z",
     "shell.execute_reply": "2021-09-15T10:03:23.314300Z",
     "shell.execute_reply.started": "2021-09-15T09:12:28.080375Z"
    },
    "papermill": {
     "duration": 0.312094,
     "end_time": "2021-09-15T10:03:23.314598",
     "exception": false,
     "start_time": "2021-09-15T10:03:23.002504",
     "status": "completed"
    },
    "tags": []
   },
   "outputs": [
    {
     "data": {
      "text/plain": [
       "52.43997510237891"
      ]
     },
     "execution_count": 79,
     "metadata": {},
     "output_type": "execute_result"
    }
   ],
   "source": [
    "X_train = prepare_X(df_train)\n",
    "w0, w = train_linear_regression(X_train, y_train)\n",
    "\n",
    "X_val = prepare_X(df_val)\n",
    "y_pred = w0 + X_val.dot(w)\n",
    "rmse(y_val, y_pred)"
   ]
  },
  {
   "cell_type": "code",
   "execution_count": 80,
   "id": "abc40d42",
   "metadata": {
    "execution": {
     "iopub.execute_input": "2021-09-15T10:03:23.619557Z",
     "iopub.status.busy": "2021-09-15T10:03:23.618846Z",
     "iopub.status.idle": "2021-09-15T10:03:23.623861Z",
     "shell.execute_reply": "2021-09-15T10:03:23.623124Z",
     "shell.execute_reply.started": "2021-09-15T09:12:28.228599Z"
    },
    "papermill": {
     "duration": 0.135852,
     "end_time": "2021-09-15T10:03:23.624029",
     "exception": false,
     "start_time": "2021-09-15T10:03:23.488177",
     "status": "completed"
    },
    "tags": []
   },
   "outputs": [
    {
     "data": {
      "text/plain": [
       "(-1140836584489243.2,\n",
       " array([ 1.47227861e-01, -7.62674385e+00,  5.22801945e-01,  2.22943217e+00,\n",
       "        -1.48954711e-03,  8.25854734e-01,  3.34489377e+03,  3.37499633e+03,\n",
       "         3.34295246e+03, -5.26211899e+00, -7.00041849e-02,  8.11222539e+00,\n",
       "         2.83170539e+01, -2.43469056e+00, -5.30933332e+00, -4.15696000e+01,\n",
       "        -9.53733488e+00, -5.43917524e+00, -2.04622239e+02,  1.28819567e+02,\n",
       "         1.26400304e+02,  1.38282309e+02,  1.18291972e+02,  1.16041717e+02,\n",
       "         1.14083658e+15,  1.14083658e+15,  1.14083658e+15,  1.14083658e+15,\n",
       "         9.61059811e-01, -4.24899350e+00,  2.14325843e+00,  2.45246098e+01,\n",
       "         5.66683406e+00,  1.22759762e+02,  9.56166622e+01,  1.35286208e+02,\n",
       "        -1.44115660e-01, -2.62579827e-02,  1.75913981e-01,  3.65037816e-01,\n",
       "        -2.90235596e-01]))"
      ]
     },
     "execution_count": 80,
     "metadata": {},
     "output_type": "execute_result"
    }
   ],
   "source": [
    "w0, w"
   ]
  },
  {
   "cell_type": "markdown",
   "id": "679d4213",
   "metadata": {
    "papermill": {
     "duration": 0.126005,
     "end_time": "2021-09-15T10:03:23.875579",
     "exception": false,
     "start_time": "2021-09-15T10:03:23.749574",
     "status": "completed"
    },
    "tags": []
   },
   "source": [
    "## 2.13 Regularization"
   ]
  },
  {
   "cell_type": "code",
   "execution_count": 81,
   "id": "0a1651ce",
   "metadata": {
    "execution": {
     "iopub.execute_input": "2021-09-15T10:03:24.138761Z",
     "iopub.status.busy": "2021-09-15T10:03:24.137603Z",
     "iopub.status.idle": "2021-09-15T10:03:24.142613Z",
     "shell.execute_reply": "2021-09-15T10:03:24.141959Z",
     "shell.execute_reply.started": "2021-09-15T09:12:28.240401Z"
    },
    "papermill": {
     "duration": 0.141507,
     "end_time": "2021-09-15T10:03:24.142789",
     "exception": false,
     "start_time": "2021-09-15T10:03:24.001282",
     "status": "completed"
    },
    "tags": []
   },
   "outputs": [
    {
     "data": {
      "text/plain": [
       "array([[4, 4, 4],\n",
       "       [3, 5, 5],\n",
       "       [5, 1, 1],\n",
       "       [5, 4, 4],\n",
       "       [7, 5, 5],\n",
       "       [4, 5, 5]])"
      ]
     },
     "execution_count": 81,
     "metadata": {},
     "output_type": "execute_result"
    }
   ],
   "source": [
    "# Assume we have a matrix X with two columns of the same values.\n",
    "\n",
    "X = [\n",
    "    [4, 4, 4],\n",
    "    [3, 5, 5],\n",
    "    [5, 1, 1],\n",
    "    [5, 4, 4],\n",
    "    [7, 5, 5],\n",
    "    [4, 5, 5],\n",
    "]\n",
    "X = np.array(X)\n",
    "X\n",
    "\n",
    "# IF we have two columns with the same values, the gram matrix cannot be inversed as shown below.\n",
    "# This is known as a singular matrix, which is a matrix containing the same rows and/or columns.\n",
    "# Singular matrices are not inversible."
   ]
  },
  {
   "cell_type": "code",
   "execution_count": 82,
   "id": "640351c5",
   "metadata": {
    "execution": {
     "iopub.execute_input": "2021-09-15T10:03:24.398444Z",
     "iopub.status.busy": "2021-09-15T10:03:24.397790Z",
     "iopub.status.idle": "2021-09-15T10:03:24.405116Z",
     "shell.execute_reply": "2021-09-15T10:03:24.404397Z",
     "shell.execute_reply.started": "2021-09-15T09:12:28.252608Z"
    },
    "papermill": {
     "duration": 0.137028,
     "end_time": "2021-09-15T10:03:24.405272",
     "exception": false,
     "start_time": "2021-09-15T10:03:24.268244",
     "status": "completed"
    },
    "tags": []
   },
   "outputs": [
    {
     "data": {
      "text/plain": [
       "array([[140, 111, 111],\n",
       "       [111, 108, 108],\n",
       "       [111, 108, 108]])"
      ]
     },
     "execution_count": 82,
     "metadata": {},
     "output_type": "execute_result"
    }
   ],
   "source": [
    "XTX = X.T.dot(X)\n",
    "XTX"
   ]
  },
  {
   "cell_type": "code",
   "execution_count": 83,
   "id": "757e4560",
   "metadata": {
    "execution": {
     "iopub.execute_input": "2021-09-15T10:03:24.663176Z",
     "iopub.status.busy": "2021-09-15T10:03:24.662401Z",
     "iopub.status.idle": "2021-09-15T10:03:24.665290Z",
     "shell.execute_reply": "2021-09-15T10:03:24.665833Z",
     "shell.execute_reply.started": "2021-09-15T09:12:28.263561Z"
    },
    "papermill": {
     "duration": 0.135145,
     "end_time": "2021-09-15T10:03:24.666028",
     "exception": false,
     "start_time": "2021-09-15T10:03:24.530883",
     "status": "completed"
    },
    "tags": []
   },
   "outputs": [
    {
     "name": "stdout",
     "output_type": "stream",
     "text": [
      "Singular matrix, can't be inversed\n"
     ]
    }
   ],
   "source": [
    "# Let's test if this is inversible or not!\n",
    "try:\n",
    "    print(np.linalg.inv(XTX))\n",
    "except np.linalg.LinAlgError:\n",
    "    print('Singular matrix, can\\'t be inversed')"
   ]
  },
  {
   "cell_type": "markdown",
   "id": "a1b23731",
   "metadata": {
    "papermill": {
     "duration": 0.12594,
     "end_time": "2021-09-15T10:03:24.918423",
     "exception": false,
     "start_time": "2021-09-15T10:03:24.792483",
     "status": "completed"
    },
    "tags": []
   },
   "source": [
    "This is a problem as the gram matrix NEEDS to be inversed so that we can find the weights vector."
   ]
  },
  {
   "cell_type": "code",
   "execution_count": 84,
   "id": "b9186ac6",
   "metadata": {
    "execution": {
     "iopub.execute_input": "2021-09-15T10:03:25.176753Z",
     "iopub.status.busy": "2021-09-15T10:03:25.174605Z",
     "iopub.status.idle": "2021-09-15T10:03:25.184880Z",
     "shell.execute_reply": "2021-09-15T10:03:25.184235Z",
     "shell.execute_reply.started": "2021-09-15T09:12:28.273021Z"
    },
    "papermill": {
     "duration": 0.13949,
     "end_time": "2021-09-15T10:03:25.185024",
     "exception": false,
     "start_time": "2021-09-15T10:03:25.045534",
     "status": "completed"
    },
    "tags": []
   },
   "outputs": [
    {
     "data": {
      "text/plain": [
       "array([[4.       , 4.       , 4.       ],\n",
       "       [3.       , 5.       , 5.       ],\n",
       "       [5.       , 1.       , 1.       ],\n",
       "       [5.       , 4.       , 4.       ],\n",
       "       [7.       , 5.       , 5.       ],\n",
       "       [4.       , 5.       , 5.0000001]])"
      ]
     },
     "execution_count": 84,
     "metadata": {},
     "output_type": "execute_result"
    }
   ],
   "source": [
    "# Sometimes, there is noise in the dataset itself like in the last element of the last row. \n",
    "# In the original notebook, it is 5.00000001, but I still got a LinAlgError so I decided to make it a little noisier.\n",
    "X = [\n",
    "    [4, 4, 4],\n",
    "    [3, 5, 5],\n",
    "    [5, 1, 1],\n",
    "    [5, 4, 4],\n",
    "    [7, 5, 5],\n",
    "    [4, 5, 5.0000001],\n",
    "]\n",
    "X = np.array(X)\n",
    "X"
   ]
  },
  {
   "cell_type": "code",
   "execution_count": 85,
   "id": "a6d5c2f3",
   "metadata": {
    "execution": {
     "iopub.execute_input": "2021-09-15T10:03:25.442763Z",
     "iopub.status.busy": "2021-09-15T10:03:25.441834Z",
     "iopub.status.idle": "2021-09-15T10:03:25.445338Z",
     "shell.execute_reply": "2021-09-15T10:03:25.444597Z",
     "shell.execute_reply.started": "2021-09-15T09:12:28.290789Z"
    },
    "papermill": {
     "duration": 0.134764,
     "end_time": "2021-09-15T10:03:25.445503",
     "exception": false,
     "start_time": "2021-09-15T10:03:25.310739",
     "status": "completed"
    },
    "tags": []
   },
   "outputs": [],
   "source": [
    "y= [1, 2, 3, 1, 2, 3]"
   ]
  },
  {
   "cell_type": "code",
   "execution_count": 86,
   "id": "4679ca46",
   "metadata": {
    "execution": {
     "iopub.execute_input": "2021-09-15T10:03:25.703493Z",
     "iopub.status.busy": "2021-09-15T10:03:25.702856Z",
     "iopub.status.idle": "2021-09-15T10:03:25.705763Z",
     "shell.execute_reply": "2021-09-15T10:03:25.706261Z",
     "shell.execute_reply.started": "2021-09-15T09:12:28.303161Z"
    },
    "papermill": {
     "duration": 0.134478,
     "end_time": "2021-09-15T10:03:25.706433",
     "exception": false,
     "start_time": "2021-09-15T10:03:25.571955",
     "status": "completed"
    },
    "tags": []
   },
   "outputs": [
    {
     "data": {
      "text/plain": [
       "array([[140.       , 111.       , 111.0000004],\n",
       "       [111.       , 108.       , 108.0000005],\n",
       "       [111.0000004, 108.0000005, 108.000001 ]])"
      ]
     },
     "execution_count": 86,
     "metadata": {},
     "output_type": "execute_result"
    }
   ],
   "source": [
    "# In this case, we can see that the matrix is now different and that there there are no columns with the same values.\n",
    "XTX = X.T.dot(X)\n",
    "XTX"
   ]
  },
  {
   "cell_type": "code",
   "execution_count": 87,
   "id": "b94fa675",
   "metadata": {
    "execution": {
     "iopub.execute_input": "2021-09-15T10:03:25.960284Z",
     "iopub.status.busy": "2021-09-15T10:03:25.959605Z",
     "iopub.status.idle": "2021-09-15T10:03:25.971891Z",
     "shell.execute_reply": "2021-09-15T10:03:25.970844Z",
     "shell.execute_reply.started": "2021-09-15T09:12:28.317703Z"
    },
    "papermill": {
     "duration": 0.140669,
     "end_time": "2021-09-15T10:03:25.972109",
     "exception": false,
     "start_time": "2021-09-15T10:03:25.831440",
     "status": "completed"
    },
    "tags": []
   },
   "outputs": [
    {
     "name": "stdout",
     "output_type": "stream",
     "text": [
      "[[ 3.92646538e-02 -1.54615164e+05  1.54615121e+05]\n",
      " [-1.54615170e+05  3.51843724e+13 -3.51843721e+13]\n",
      " [ 1.54615129e+05 -3.51843721e+13  3.51843718e+13]]\n"
     ]
    }
   ],
   "source": [
    "# Let's test if this is inversible or not!\n",
    "try:\n",
    "    print(np.linalg.inv(XTX))\n",
    "except np.linalg.LinAlgError:\n",
    "    print('Singular matrix, can\\'t be inversed')"
   ]
  },
  {
   "cell_type": "code",
   "execution_count": 88,
   "id": "a0068c98",
   "metadata": {
    "execution": {
     "iopub.execute_input": "2021-09-15T10:03:26.288717Z",
     "iopub.status.busy": "2021-09-15T10:03:26.287620Z",
     "iopub.status.idle": "2021-09-15T10:03:26.292694Z",
     "shell.execute_reply": "2021-09-15T10:03:26.293528Z",
     "shell.execute_reply.started": "2021-09-15T09:12:28.329902Z"
    },
    "papermill": {
     "duration": 0.14339,
     "end_time": "2021-09-15T10:03:26.293822",
     "exception": false,
     "start_time": "2021-09-15T10:03:26.150432",
     "status": "completed"
    },
    "tags": []
   },
   "outputs": [
    {
     "data": {
      "text/plain": [
       "array([[140.       , 111.       , 111.0000004],\n",
       "       [111.       , 108.       , 108.0000005],\n",
       "       [111.0000004, 108.0000005, 108.000001 ]])"
      ]
     },
     "execution_count": 88,
     "metadata": {},
     "output_type": "execute_result"
    }
   ],
   "source": [
    "# Storing the XTX inverse as a variable.\n",
    "XTX_inv = np.linalg.inv(XTX)\n",
    "XTX"
   ]
  },
  {
   "cell_type": "markdown",
   "id": "64b5a299",
   "metadata": {
    "papermill": {
     "duration": 0.126016,
     "end_time": "2021-09-15T10:03:26.594475",
     "exception": false,
     "start_time": "2021-09-15T10:03:26.468459",
     "status": "completed"
    },
    "tags": []
   },
   "source": [
    "However, even though there is an inverse, we can tell that the inverse has very, very big numbers which is a problem. It directly affects the weights matrix."
   ]
  },
  {
   "cell_type": "code",
   "execution_count": 89,
   "id": "6a3edb8b",
   "metadata": {
    "execution": {
     "iopub.execute_input": "2021-09-15T10:03:26.857697Z",
     "iopub.status.busy": "2021-09-15T10:03:26.854367Z",
     "iopub.status.idle": "2021-09-15T10:03:26.861944Z",
     "shell.execute_reply": "2021-09-15T10:03:26.861320Z",
     "shell.execute_reply.started": "2021-09-15T09:12:28.344283Z"
    },
    "papermill": {
     "duration": 0.139541,
     "end_time": "2021-09-15T10:03:26.862108",
     "exception": false,
     "start_time": "2021-09-15T10:03:26.722567",
     "status": "completed"
    },
    "tags": []
   },
   "outputs": [
    {
     "data": {
      "text/plain": [
       "array([ 2.73776578e-01, -4.41093100e+06,  4.41093113e+06])"
      ]
     },
     "execution_count": 89,
     "metadata": {},
     "output_type": "execute_result"
    }
   ],
   "source": [
    "# Finding the weights of the metric\n",
    "XTX_inv.dot(X.T).dot(y)"
   ]
  },
  {
   "cell_type": "markdown",
   "id": "1ad957e9",
   "metadata": {
    "papermill": {
     "duration": 0.129424,
     "end_time": "2021-09-15T10:03:27.119827",
     "exception": false,
     "start_time": "2021-09-15T10:03:26.990403",
     "status": "completed"
    },
    "tags": []
   },
   "source": [
    "What we can do is that we can use regularization, which is adding a small number to the diagonal of our matrix. This allows us to counteract the big numbers itself instead. We have an example like that below. "
   ]
  },
  {
   "cell_type": "code",
   "execution_count": 90,
   "id": "2fedc014",
   "metadata": {
    "execution": {
     "iopub.execute_input": "2021-09-15T10:03:27.383140Z",
     "iopub.status.busy": "2021-09-15T10:03:27.382137Z",
     "iopub.status.idle": "2021-09-15T10:03:27.386917Z",
     "shell.execute_reply": "2021-09-15T10:03:27.387380Z",
     "shell.execute_reply.started": "2021-09-15T09:12:28.354594Z"
    },
    "papermill": {
     "duration": 0.138587,
     "end_time": "2021-09-15T10:03:27.387586",
     "exception": false,
     "start_time": "2021-09-15T10:03:27.248999",
     "status": "completed"
    },
    "tags": []
   },
   "outputs": [],
   "source": [
    "XTX = [\n",
    "    [1, 2, 2],\n",
    "    [2, 1, 1.0000001],\n",
    "    [2, 1.0000001, 1]\n",
    "]\n",
    "\n",
    "XTX = np.array(XTX)"
   ]
  },
  {
   "cell_type": "code",
   "execution_count": 91,
   "id": "e61c17de",
   "metadata": {
    "execution": {
     "iopub.execute_input": "2021-09-15T10:03:27.665167Z",
     "iopub.status.busy": "2021-09-15T10:03:27.664129Z",
     "iopub.status.idle": "2021-09-15T10:03:27.668215Z",
     "shell.execute_reply": "2021-09-15T10:03:27.669285Z",
     "shell.execute_reply.started": "2021-09-15T09:12:28.365867Z"
    },
    "papermill": {
     "duration": 0.154893,
     "end_time": "2021-09-15T10:03:27.669585",
     "exception": false,
     "start_time": "2021-09-15T10:03:27.514692",
     "status": "completed"
    },
    "tags": []
   },
   "outputs": [
    {
     "data": {
      "text/plain": [
       "array([[-3.33333356e-01,  3.33333339e-01,  3.33333339e-01],\n",
       "       [ 3.33333339e-01, -5.00000008e+06,  4.99999991e+06],\n",
       "       [ 3.33333339e-01,  4.99999991e+06, -5.00000008e+06]])"
      ]
     },
     "execution_count": 91,
     "metadata": {},
     "output_type": "execute_result"
    }
   ],
   "source": [
    "np.linalg.inv(XTX)"
   ]
  },
  {
   "cell_type": "code",
   "execution_count": 92,
   "id": "165c01c6",
   "metadata": {
    "execution": {
     "iopub.execute_input": "2021-09-15T10:03:27.988172Z",
     "iopub.status.busy": "2021-09-15T10:03:27.985001Z",
     "iopub.status.idle": "2021-09-15T10:03:27.990347Z",
     "shell.execute_reply": "2021-09-15T10:03:27.990876Z",
     "shell.execute_reply.started": "2021-09-15T09:12:28.378389Z"
    },
    "papermill": {
     "duration": 0.138731,
     "end_time": "2021-09-15T10:03:27.991052",
     "exception": false,
     "start_time": "2021-09-15T10:03:27.852321",
     "status": "completed"
    },
    "tags": []
   },
   "outputs": [],
   "source": [
    "XTX = [\n",
    "    [1.0001, 2, 2],\n",
    "    [2, 1.0001, 1],\n",
    "    [2, 1, 1.0001]\n",
    "]\n",
    "\n",
    "XTX = np.array(XTX)"
   ]
  },
  {
   "cell_type": "code",
   "execution_count": 93,
   "id": "c5fc8d2f",
   "metadata": {
    "execution": {
     "iopub.execute_input": "2021-09-15T10:03:28.254829Z",
     "iopub.status.busy": "2021-09-15T10:03:28.254031Z",
     "iopub.status.idle": "2021-09-15T10:03:28.258610Z",
     "shell.execute_reply": "2021-09-15T10:03:28.259143Z",
     "shell.execute_reply.started": "2021-09-15T09:12:28.392335Z"
    },
    "papermill": {
     "duration": 0.140713,
     "end_time": "2021-09-15T10:03:28.259324",
     "exception": false,
     "start_time": "2021-09-15T10:03:28.118611",
     "status": "completed"
    },
    "tags": []
   },
   "outputs": [
    {
     "data": {
      "text/plain": [
       "array([[-3.33366669e-01,  3.33350001e-01,  3.33350001e-01],\n",
       "       [ 3.33350001e-01,  4.99991665e+03, -5.00008335e+03],\n",
       "       [ 3.33350001e-01, -5.00008335e+03,  4.99991665e+03]])"
      ]
     },
     "execution_count": 93,
     "metadata": {},
     "output_type": "execute_result"
    }
   ],
   "source": [
    "np.linalg.inv(XTX)"
   ]
  },
  {
   "cell_type": "markdown",
   "id": "f81cf141",
   "metadata": {
    "papermill": {
     "duration": 0.12822,
     "end_time": "2021-09-15T10:03:28.517640",
     "exception": false,
     "start_time": "2021-09-15T10:03:28.389420",
     "status": "completed"
    },
    "tags": []
   },
   "source": [
    "We can tell that there is a very big difference in the 2 by 2 sub matrix at the bottom right corner itself. This shows the effect of regularization itself and how useful it is! \n",
    "\n",
    "You might be wondering how to implement regularization in the model itself - here's how! "
   ]
  },
  {
   "cell_type": "code",
   "execution_count": 94,
   "id": "54fdb404",
   "metadata": {
    "execution": {
     "iopub.execute_input": "2021-09-15T10:03:28.779523Z",
     "iopub.status.busy": "2021-09-15T10:03:28.778570Z",
     "iopub.status.idle": "2021-09-15T10:03:28.784004Z",
     "shell.execute_reply": "2021-09-15T10:03:28.783318Z",
     "shell.execute_reply.started": "2021-09-15T09:18:06.129458Z"
    },
    "papermill": {
     "duration": 0.139291,
     "end_time": "2021-09-15T10:03:28.784148",
     "exception": false,
     "start_time": "2021-09-15T10:03:28.644857",
     "status": "completed"
    },
    "tags": []
   },
   "outputs": [],
   "source": [
    "# Recall np.eye gives you an identity  matrix with the size n x n with the right parameters\n",
    "XTX = XTX + 0.01 * np.eye(3)"
   ]
  },
  {
   "cell_type": "code",
   "execution_count": 95,
   "id": "c21b0005",
   "metadata": {
    "execution": {
     "iopub.execute_input": "2021-09-15T10:03:29.046708Z",
     "iopub.status.busy": "2021-09-15T10:03:29.045739Z",
     "iopub.status.idle": "2021-09-15T10:03:29.050357Z",
     "shell.execute_reply": "2021-09-15T10:03:29.050959Z",
     "shell.execute_reply.started": "2021-09-15T09:18:10.880513Z"
    },
    "papermill": {
     "duration": 0.139667,
     "end_time": "2021-09-15T10:03:29.051149",
     "exception": false,
     "start_time": "2021-09-15T10:03:28.911482",
     "status": "completed"
    },
    "tags": []
   },
   "outputs": [
    {
     "data": {
      "text/plain": [
       "array([[ -0.33672284,   0.33503094,   0.33503094],\n",
       "       [  0.33503094,  49.42034681, -49.58955418],\n",
       "       [  0.33503094, -49.58955418,  49.42034681]])"
      ]
     },
     "execution_count": 95,
     "metadata": {},
     "output_type": "execute_result"
    }
   ],
   "source": [
    "np.linalg.inv(XTX)"
   ]
  },
  {
   "cell_type": "code",
   "execution_count": 96,
   "id": "03bacdf4",
   "metadata": {
    "execution": {
     "iopub.execute_input": "2021-09-15T10:03:29.319082Z",
     "iopub.status.busy": "2021-09-15T10:03:29.318306Z",
     "iopub.status.idle": "2021-09-15T10:03:29.320553Z",
     "shell.execute_reply": "2021-09-15T10:03:29.321061Z",
     "shell.execute_reply.started": "2021-09-15T09:12:28.434729Z"
    },
    "papermill": {
     "duration": 0.138111,
     "end_time": "2021-09-15T10:03:29.321245",
     "exception": false,
     "start_time": "2021-09-15T10:03:29.183134",
     "status": "completed"
    },
    "tags": []
   },
   "outputs": [],
   "source": [
    "# Let's implement the regularization into our linear regression\n",
    "def train_linear_regression_reg(X, y, r=0.001):\n",
    "    ones = np.ones(X.shape[0])\n",
    "    X = np.column_stack([ones, X])\n",
    "\n",
    "    XTX = X.T.dot(X)\n",
    "    XTX = XTX + r * np.eye(XTX.shape[0])\n",
    "\n",
    "    XTX_inv = np.linalg.inv(XTX)\n",
    "    w_full = XTX_inv.dot(X.T).dot(y)\n",
    "    \n",
    "    return w_full[0], w_full[1:]"
   ]
  },
  {
   "cell_type": "code",
   "execution_count": 97,
   "id": "3d815564",
   "metadata": {
    "execution": {
     "iopub.execute_input": "2021-09-15T10:03:29.589285Z",
     "iopub.status.busy": "2021-09-15T10:03:29.588198Z",
     "iopub.status.idle": "2021-09-15T10:03:29.771478Z",
     "shell.execute_reply": "2021-09-15T10:03:29.772911Z",
     "shell.execute_reply.started": "2021-09-15T09:12:28.445479Z"
    },
    "papermill": {
     "duration": 0.32222,
     "end_time": "2021-09-15T10:03:29.773333",
     "exception": false,
     "start_time": "2021-09-15T10:03:29.451113",
     "status": "completed"
    },
    "tags": []
   },
   "outputs": [
    {
     "data": {
      "text/plain": [
       "0.4608208286390257"
      ]
     },
     "execution_count": 97,
     "metadata": {},
     "output_type": "execute_result"
    }
   ],
   "source": [
    "X_train = prepare_X(df_train)\n",
    "w0, w = train_linear_regression_reg(X_train, y_train, r=0.01)\n",
    "\n",
    "X_val = prepare_X(df_val)\n",
    "y_pred = w0 + X_val.dot(w)\n",
    "rmse(y_val, y_pred)"
   ]
  },
  {
   "cell_type": "markdown",
   "id": "004f9f76",
   "metadata": {
    "papermill": {
     "duration": 0.128003,
     "end_time": "2021-09-15T10:03:30.080113",
     "exception": false,
     "start_time": "2021-09-15T10:03:29.952110",
     "status": "completed"
    },
    "tags": []
   },
   "source": [
    "We can tell that there is an even further decrease in the RMSE as compared to the previous RMSE, which is great! "
   ]
  },
  {
   "cell_type": "markdown",
   "id": "5805b85d",
   "metadata": {
    "papermill": {
     "duration": 0.132836,
     "end_time": "2021-09-15T10:03:30.342321",
     "exception": false,
     "start_time": "2021-09-15T10:03:30.209485",
     "status": "completed"
    },
    "tags": []
   },
   "source": [
    "## 2.14 Tuning the model"
   ]
  },
  {
   "cell_type": "code",
   "execution_count": 98,
   "id": "9955b166",
   "metadata": {
    "execution": {
     "iopub.execute_input": "2021-09-15T10:03:30.682446Z",
     "iopub.status.busy": "2021-09-15T10:03:30.604980Z",
     "iopub.status.idle": "2021-09-15T10:03:32.069691Z",
     "shell.execute_reply": "2021-09-15T10:03:32.070553Z",
     "shell.execute_reply.started": "2021-09-15T09:12:28.629067Z"
    },
    "papermill": {
     "duration": 1.599928,
     "end_time": "2021-09-15T10:03:32.070841",
     "exception": false,
     "start_time": "2021-09-15T10:03:30.470913",
     "status": "completed"
    },
    "tags": []
   },
   "outputs": [
    {
     "name": "stdout",
     "output_type": "stream",
     "text": [
      "0.0 -1140836584489243.2 52.43997510237891\n",
      "1e-05 7.545094200274929 0.4608152931021342\n",
      "0.0001 7.130446807785097 0.4608153656399985\n",
      "0.001 7.130870325439462 0.4608158583496996\n",
      "0.1 7.000232427854901 0.4608736549066824\n",
      "1 6.250747847499822 0.46158128382730246\n",
      "10 4.729512585683397 0.4726098772670107\n"
     ]
    }
   ],
   "source": [
    "# We're tuning the model with regularization, using 7 different values of r.\n",
    "for r in [0.0, 0.00001, 0.0001, 0.001, 0.1, 1, 10]:\n",
    "    X_train = prepare_X(df_train)\n",
    "    w0, w = train_linear_regression_reg(X_train, y_train, r=r)\n",
    "\n",
    "    X_val = prepare_X(df_val)\n",
    "    y_pred = w0 + X_val.dot(w)\n",
    "    score = rmse(y_val, y_pred)\n",
    "    \n",
    "    print(r, w0, score)"
   ]
  },
  {
   "cell_type": "markdown",
   "id": "75949051",
   "metadata": {
    "papermill": {
     "duration": 0.130552,
     "end_time": "2021-09-15T10:03:32.386645",
     "exception": false,
     "start_time": "2021-09-15T10:03:32.256093",
     "status": "completed"
    },
    "tags": []
   },
   "source": [
    "We can tell that 0.00001 has the lowest RMSE, followed by 0.0001, and lastly 0.001. Honestly, we can use either of the regularization values since the RMSE score has been about the same. In the example below, we use r = 0.001. "
   ]
  },
  {
   "cell_type": "code",
   "execution_count": 99,
   "id": "c95e7f78",
   "metadata": {
    "execution": {
     "iopub.execute_input": "2021-09-15T10:03:32.656887Z",
     "iopub.status.busy": "2021-09-15T10:03:32.655827Z",
     "iopub.status.idle": "2021-09-15T10:03:32.836732Z",
     "shell.execute_reply": "2021-09-15T10:03:32.837560Z",
     "shell.execute_reply.started": "2021-09-15T09:12:29.791225Z"
    },
    "papermill": {
     "duration": 0.321725,
     "end_time": "2021-09-15T10:03:32.837886",
     "exception": false,
     "start_time": "2021-09-15T10:03:32.516161",
     "status": "completed"
    },
    "tags": []
   },
   "outputs": [
    {
     "data": {
      "text/plain": [
       "0.4608158583496996"
      ]
     },
     "execution_count": 99,
     "metadata": {},
     "output_type": "execute_result"
    }
   ],
   "source": [
    "r = 0.001\n",
    "X_train = prepare_X(df_train)\n",
    "w0, w = train_linear_regression_reg(X_train, y_train, r=r)\n",
    "\n",
    "X_val = prepare_X(df_val)\n",
    "y_pred = w0 + X_val.dot(w)\n",
    "score = rmse(y_val, y_pred)\n",
    "score"
   ]
  },
  {
   "cell_type": "markdown",
   "id": "ddff7590",
   "metadata": {
    "papermill": {
     "duration": 0.133766,
     "end_time": "2021-09-15T10:03:33.152726",
     "exception": false,
     "start_time": "2021-09-15T10:03:33.018960",
     "status": "completed"
    },
    "tags": []
   },
   "source": [
    "## 2.15 Using the model"
   ]
  },
  {
   "cell_type": "code",
   "execution_count": 100,
   "id": "7b21b1cd",
   "metadata": {
    "execution": {
     "iopub.execute_input": "2021-09-15T10:03:33.430522Z",
     "iopub.status.busy": "2021-09-15T10:03:33.426670Z",
     "iopub.status.idle": "2021-09-15T10:03:33.436636Z",
     "shell.execute_reply": "2021-09-15T10:03:33.437214Z",
     "shell.execute_reply.started": "2021-09-15T09:39:27.988348Z"
    },
    "papermill": {
     "duration": 0.152028,
     "end_time": "2021-09-15T10:03:33.437423",
     "exception": false,
     "start_time": "2021-09-15T10:03:33.285395",
     "status": "completed"
    },
    "tags": []
   },
   "outputs": [],
   "source": [
    "# Recall that for the Model Selection process, we combine train data and val data after using val data.\n",
    "df_full_train = pd.concat([df_train, df_val])"
   ]
  },
  {
   "cell_type": "code",
   "execution_count": 101,
   "id": "d0d4fcb8",
   "metadata": {
    "execution": {
     "iopub.execute_input": "2021-09-15T10:03:33.706627Z",
     "iopub.status.busy": "2021-09-15T10:03:33.705992Z",
     "iopub.status.idle": "2021-09-15T10:03:33.719042Z",
     "shell.execute_reply": "2021-09-15T10:03:33.719538Z",
     "shell.execute_reply.started": "2021-09-15T09:39:30.349797Z"
    },
    "papermill": {
     "duration": 0.148565,
     "end_time": "2021-09-15T10:03:33.719771",
     "exception": false,
     "start_time": "2021-09-15T10:03:33.571206",
     "status": "completed"
    },
    "tags": []
   },
   "outputs": [],
   "source": [
    "df_full_train = df_full_train.reset_index(drop=True)"
   ]
  },
  {
   "cell_type": "code",
   "execution_count": 102,
   "id": "c89d6c8d",
   "metadata": {
    "execution": {
     "iopub.execute_input": "2021-09-15T10:03:33.991937Z",
     "iopub.status.busy": "2021-09-15T10:03:33.991261Z",
     "iopub.status.idle": "2021-09-15T10:03:34.116120Z",
     "shell.execute_reply": "2021-09-15T10:03:34.116620Z",
     "shell.execute_reply.started": "2021-09-15T09:39:31.989910Z"
    },
    "papermill": {
     "duration": 0.26421,
     "end_time": "2021-09-15T10:03:34.116835",
     "exception": false,
     "start_time": "2021-09-15T10:03:33.852625",
     "status": "completed"
    },
    "tags": []
   },
   "outputs": [],
   "source": [
    "X_full_train = prepare_X(df_full_train)"
   ]
  },
  {
   "cell_type": "code",
   "execution_count": 103,
   "id": "ea457fb7",
   "metadata": {
    "execution": {
     "iopub.execute_input": "2021-09-15T10:03:34.384851Z",
     "iopub.status.busy": "2021-09-15T10:03:34.384168Z",
     "iopub.status.idle": "2021-09-15T10:03:34.390572Z",
     "shell.execute_reply": "2021-09-15T10:03:34.390027Z",
     "shell.execute_reply.started": "2021-09-15T09:39:33.322538Z"
    },
    "papermill": {
     "duration": 0.143112,
     "end_time": "2021-09-15T10:03:34.390726",
     "exception": false,
     "start_time": "2021-09-15T10:03:34.247614",
     "status": "completed"
    },
    "tags": []
   },
   "outputs": [
    {
     "data": {
      "text/plain": [
       "array([[148.,   4.,  33., ...,   1.,   0.,   0.],\n",
       "       [132.,   4.,  32., ...,   0.,   0.,   1.],\n",
       "       [148.,   4.,  37., ...,   0.,   0.,   1.],\n",
       "       ...,\n",
       "       [332.,   8.,  23., ...,   0.,   0.,   0.],\n",
       "       [148.,   4.,  34., ...,   0.,   0.,   0.],\n",
       "       [290.,   6.,  25., ...,   0.,   0.,   0.]])"
      ]
     },
     "execution_count": 103,
     "metadata": {},
     "output_type": "execute_result"
    }
   ],
   "source": [
    "X_full_train"
   ]
  },
  {
   "cell_type": "code",
   "execution_count": 104,
   "id": "6096b7c9",
   "metadata": {
    "execution": {
     "iopub.execute_input": "2021-09-15T10:03:34.660538Z",
     "iopub.status.busy": "2021-09-15T10:03:34.659843Z",
     "iopub.status.idle": "2021-09-15T10:03:34.662840Z",
     "shell.execute_reply": "2021-09-15T10:03:34.662330Z",
     "shell.execute_reply.started": "2021-09-15T09:39:36.878846Z"
    },
    "papermill": {
     "duration": 0.141348,
     "end_time": "2021-09-15T10:03:34.662984",
     "exception": false,
     "start_time": "2021-09-15T10:03:34.521636",
     "status": "completed"
    },
    "tags": []
   },
   "outputs": [],
   "source": [
    "# We have to do that for y too.\n",
    "y_full_train = np.concatenate([y_train, y_val])"
   ]
  },
  {
   "cell_type": "code",
   "execution_count": 105,
   "id": "31564022",
   "metadata": {
    "execution": {
     "iopub.execute_input": "2021-09-15T10:03:34.927343Z",
     "iopub.status.busy": "2021-09-15T10:03:34.926607Z",
     "iopub.status.idle": "2021-09-15T10:03:34.937500Z",
     "shell.execute_reply": "2021-09-15T10:03:34.938305Z",
     "shell.execute_reply.started": "2021-09-15T09:12:30.133532Z"
    },
    "papermill": {
     "duration": 0.14581,
     "end_time": "2021-09-15T10:03:34.938625",
     "exception": false,
     "start_time": "2021-09-15T10:03:34.792815",
     "status": "completed"
    },
    "tags": []
   },
   "outputs": [],
   "source": [
    "w0, w = train_linear_regression_reg(X_full_train, y_full_train, r=0.001)"
   ]
  },
  {
   "cell_type": "code",
   "execution_count": 106,
   "id": "19d1c75e",
   "metadata": {
    "execution": {
     "iopub.execute_input": "2021-09-15T10:03:35.260147Z",
     "iopub.status.busy": "2021-09-15T10:03:35.259426Z",
     "iopub.status.idle": "2021-09-15T10:03:35.325603Z",
     "shell.execute_reply": "2021-09-15T10:03:35.326468Z",
     "shell.execute_reply.started": "2021-09-15T09:12:30.152383Z"
    },
    "papermill": {
     "duration": 0.204603,
     "end_time": "2021-09-15T10:03:35.326804",
     "exception": false,
     "start_time": "2021-09-15T10:03:35.122201",
     "status": "completed"
    },
    "tags": []
   },
   "outputs": [
    {
     "data": {
      "text/plain": [
       "0.46007539702898376"
      ]
     },
     "execution_count": 106,
     "metadata": {},
     "output_type": "execute_result"
    }
   ],
   "source": [
    "X_test = prepare_X(df_test)\n",
    "y_pred = w0 + X_test.dot(w)\n",
    "score = rmse(y_test, y_pred)\n",
    "score"
   ]
  },
  {
   "cell_type": "code",
   "execution_count": 107,
   "id": "44f4e09f",
   "metadata": {
    "execution": {
     "iopub.execute_input": "2021-09-15T10:03:35.644982Z",
     "iopub.status.busy": "2021-09-15T10:03:35.644237Z",
     "iopub.status.idle": "2021-09-15T10:03:35.649032Z",
     "shell.execute_reply": "2021-09-15T10:03:35.648459Z",
     "shell.execute_reply.started": "2021-09-15T09:12:30.229009Z"
    },
    "papermill": {
     "duration": 0.144363,
     "end_time": "2021-09-15T10:03:35.649208",
     "exception": false,
     "start_time": "2021-09-15T10:03:35.504845",
     "status": "completed"
    },
    "tags": []
   },
   "outputs": [
    {
     "data": {
      "text/plain": [
       "{'make': 'toyota',\n",
       " 'model': 'sienna',\n",
       " 'year': 2015,\n",
       " 'engine_fuel_type': 'regular_unleaded',\n",
       " 'engine_hp': 266.0,\n",
       " 'engine_cylinders': 6.0,\n",
       " 'transmission_type': 'automatic',\n",
       " 'driven_wheels': 'front_wheel_drive',\n",
       " 'number_of_doors': 4.0,\n",
       " 'market_category': nan,\n",
       " 'vehicle_size': 'large',\n",
       " 'vehicle_style': 'passenger_minivan',\n",
       " 'highway_mpg': 25,\n",
       " 'city_mpg': 18,\n",
       " 'popularity': 2031}"
      ]
     },
     "execution_count": 107,
     "metadata": {},
     "output_type": "execute_result"
    }
   ],
   "source": [
    "# Using the model for one entry\n",
    "car = df_test.iloc[20].to_dict()\n",
    "car"
   ]
  },
  {
   "cell_type": "code",
   "execution_count": 108,
   "id": "fdf95cde",
   "metadata": {
    "execution": {
     "iopub.execute_input": "2021-09-15T10:03:35.933690Z",
     "iopub.status.busy": "2021-09-15T10:03:35.933007Z",
     "iopub.status.idle": "2021-09-15T10:03:35.937544Z",
     "shell.execute_reply": "2021-09-15T10:03:35.936922Z",
     "shell.execute_reply.started": "2021-09-15T09:12:30.239166Z"
    },
    "papermill": {
     "duration": 0.15635,
     "end_time": "2021-09-15T10:03:35.937708",
     "exception": false,
     "start_time": "2021-09-15T10:03:35.781358",
     "status": "completed"
    },
    "tags": []
   },
   "outputs": [
    {
     "data": {
      "text/html": [
       "<div>\n",
       "<style scoped>\n",
       "    .dataframe tbody tr th:only-of-type {\n",
       "        vertical-align: middle;\n",
       "    }\n",
       "\n",
       "    .dataframe tbody tr th {\n",
       "        vertical-align: top;\n",
       "    }\n",
       "\n",
       "    .dataframe thead th {\n",
       "        text-align: right;\n",
       "    }\n",
       "</style>\n",
       "<table border=\"1\" class=\"dataframe\">\n",
       "  <thead>\n",
       "    <tr style=\"text-align: right;\">\n",
       "      <th></th>\n",
       "      <th>make</th>\n",
       "      <th>model</th>\n",
       "      <th>year</th>\n",
       "      <th>engine_fuel_type</th>\n",
       "      <th>engine_hp</th>\n",
       "      <th>engine_cylinders</th>\n",
       "      <th>transmission_type</th>\n",
       "      <th>driven_wheels</th>\n",
       "      <th>number_of_doors</th>\n",
       "      <th>market_category</th>\n",
       "      <th>vehicle_size</th>\n",
       "      <th>vehicle_style</th>\n",
       "      <th>highway_mpg</th>\n",
       "      <th>city_mpg</th>\n",
       "      <th>popularity</th>\n",
       "    </tr>\n",
       "  </thead>\n",
       "  <tbody>\n",
       "    <tr>\n",
       "      <th>0</th>\n",
       "      <td>toyota</td>\n",
       "      <td>sienna</td>\n",
       "      <td>2015</td>\n",
       "      <td>regular_unleaded</td>\n",
       "      <td>266.0</td>\n",
       "      <td>6.0</td>\n",
       "      <td>automatic</td>\n",
       "      <td>front_wheel_drive</td>\n",
       "      <td>4.0</td>\n",
       "      <td>NaN</td>\n",
       "      <td>large</td>\n",
       "      <td>passenger_minivan</td>\n",
       "      <td>25</td>\n",
       "      <td>18</td>\n",
       "      <td>2031</td>\n",
       "    </tr>\n",
       "  </tbody>\n",
       "</table>\n",
       "</div>"
      ],
      "text/plain": [
       "     make   model  year  engine_fuel_type  engine_hp  engine_cylinders  \\\n",
       "0  toyota  sienna  2015  regular_unleaded      266.0               6.0   \n",
       "\n",
       "  transmission_type      driven_wheels  number_of_doors  market_category  \\\n",
       "0         automatic  front_wheel_drive              4.0              NaN   \n",
       "\n",
       "  vehicle_size      vehicle_style  highway_mpg  city_mpg  popularity  \n",
       "0        large  passenger_minivan           25        18        2031  "
      ]
     },
     "execution_count": 108,
     "metadata": {},
     "output_type": "execute_result"
    }
   ],
   "source": [
    "df_small = pd.DataFrame([car])\n",
    "df_small"
   ]
  },
  {
   "cell_type": "code",
   "execution_count": 109,
   "id": "88af682b",
   "metadata": {
    "execution": {
     "iopub.execute_input": "2021-09-15T10:03:36.212404Z",
     "iopub.status.busy": "2021-09-15T10:03:36.211752Z",
     "iopub.status.idle": "2021-09-15T10:03:36.249065Z",
     "shell.execute_reply": "2021-09-15T10:03:36.248357Z",
     "shell.execute_reply.started": "2021-09-15T09:12:30.271932Z"
    },
    "papermill": {
     "duration": 0.176129,
     "end_time": "2021-09-15T10:03:36.249248",
     "exception": false,
     "start_time": "2021-09-15T10:03:36.073119",
     "status": "completed"
    },
    "tags": []
   },
   "outputs": [],
   "source": [
    "X_small = prepare_X(df_small)"
   ]
  },
  {
   "cell_type": "code",
   "execution_count": 110,
   "id": "23230f96",
   "metadata": {
    "execution": {
     "iopub.execute_input": "2021-09-15T10:03:36.527758Z",
     "iopub.status.busy": "2021-09-15T10:03:36.527062Z",
     "iopub.status.idle": "2021-09-15T10:03:36.531738Z",
     "shell.execute_reply": "2021-09-15T10:03:36.531122Z",
     "shell.execute_reply.started": "2021-09-15T09:12:30.325344Z"
    },
    "papermill": {
     "duration": 0.146448,
     "end_time": "2021-09-15T10:03:36.531932",
     "exception": false,
     "start_time": "2021-09-15T10:03:36.385484",
     "status": "completed"
    },
    "tags": []
   },
   "outputs": [
    {
     "data": {
      "text/plain": [
       "10.632492515554878"
      ]
     },
     "execution_count": 110,
     "metadata": {},
     "output_type": "execute_result"
    }
   ],
   "source": [
    "y_pred = w0 + X_small.dot(w)\n",
    "y_pred = y_pred[0]\n",
    "y_pred"
   ]
  },
  {
   "cell_type": "code",
   "execution_count": 111,
   "id": "f264f92b",
   "metadata": {
    "execution": {
     "iopub.execute_input": "2021-09-15T10:03:36.809126Z",
     "iopub.status.busy": "2021-09-15T10:03:36.806573Z",
     "iopub.status.idle": "2021-09-15T10:03:36.811006Z",
     "shell.execute_reply": "2021-09-15T10:03:36.811483Z",
     "shell.execute_reply.started": "2021-09-15T10:01:40.431252Z"
    },
    "papermill": {
     "duration": 0.145141,
     "end_time": "2021-09-15T10:03:36.811717",
     "exception": false,
     "start_time": "2021-09-15T10:03:36.666576",
     "status": "completed"
    },
    "tags": []
   },
   "outputs": [],
   "source": [
    "prediction = np.expm1(y_pred)"
   ]
  },
  {
   "cell_type": "code",
   "execution_count": 112,
   "id": "0607ba1b",
   "metadata": {
    "execution": {
     "iopub.execute_input": "2021-09-15T10:03:37.087340Z",
     "iopub.status.busy": "2021-09-15T10:03:37.086633Z",
     "iopub.status.idle": "2021-09-15T10:03:37.088430Z",
     "shell.execute_reply": "2021-09-15T10:03:37.089045Z",
     "shell.execute_reply.started": "2021-09-15T10:01:41.513157Z"
    },
    "papermill": {
     "duration": 0.142789,
     "end_time": "2021-09-15T10:03:37.089245",
     "exception": false,
     "start_time": "2021-09-15T10:03:36.946456",
     "status": "completed"
    },
    "tags": []
   },
   "outputs": [],
   "source": [
    "test = np.expm1(y_test[20])"
   ]
  },
  {
   "cell_type": "code",
   "execution_count": 113,
   "id": "2fa8ef6d",
   "metadata": {
    "execution": {
     "iopub.execute_input": "2021-09-15T10:03:37.360913Z",
     "iopub.status.busy": "2021-09-15T10:03:37.360180Z",
     "iopub.status.idle": "2021-09-15T10:03:37.365350Z",
     "shell.execute_reply": "2021-09-15T10:03:37.364610Z",
     "shell.execute_reply.started": "2021-09-15T10:02:17.784117Z"
    },
    "papermill": {
     "duration": 0.142508,
     "end_time": "2021-09-15T10:03:37.365517",
     "exception": false,
     "start_time": "2021-09-15T10:03:37.223009",
     "status": "completed"
    },
    "tags": []
   },
   "outputs": [
    {
     "name": "stdout",
     "output_type": "stream",
     "text": [
      "RMSE: 80.37000095271486\n"
     ]
    }
   ],
   "source": [
    "print('RMSE: ' + str((prediction - test)** 0.5))"
   ]
  },
  {
   "cell_type": "markdown",
   "id": "befb698f",
   "metadata": {
    "papermill": {
     "duration": 0.136495,
     "end_time": "2021-09-15T10:03:37.637785",
     "exception": false,
     "start_time": "2021-09-15T10:03:37.501290",
     "status": "completed"
    },
    "tags": []
   },
   "source": [
    "## 2.16 Next steps"
   ]
  },
  {
   "cell_type": "markdown",
   "id": "eb19ff0b",
   "metadata": {
    "papermill": {
     "duration": 0.136408,
     "end_time": "2021-09-15T10:03:37.908161",
     "exception": false,
     "start_time": "2021-09-15T10:03:37.771753",
     "status": "completed"
    },
    "tags": []
   },
   "source": [
    "* We included only 5 top features. What happens if we include 10?\n",
    "\n",
    "Other projects\n",
    "\n",
    "* Predict the price of a house - e.g. boston dataset\n",
    "* https://archive.ics.uci.edu/ml/datasets.php?task=reg\n",
    "* https://archive.ics.uci.edu/ml/datasets/Student+Performance"
   ]
  },
  {
   "cell_type": "markdown",
   "id": "7794eb79",
   "metadata": {
    "papermill": {
     "duration": 0.133236,
     "end_time": "2021-09-15T10:03:38.174060",
     "exception": false,
     "start_time": "2021-09-15T10:03:38.040824",
     "status": "completed"
    },
    "tags": []
   },
   "source": [
    "## 2.17 Summary\n",
    "\n",
    "* EDA - looking at data, finding missing values\n",
    "* Target variable distribution - long tail => bell shaped curve\n",
    "* Validation framework: train/val/test split (helped us detect problems)\n",
    "* Normal equation - not magic, but math\n",
    "* Implemented it with numpy\n",
    "* RMSE to validate our model\n",
    "* Feature engineering: age, categorical features\n",
    "* Regularization to fight numerical instability"
   ]
  },
  {
   "cell_type": "code",
   "execution_count": null,
   "id": "2d196bd5",
   "metadata": {
    "papermill": {
     "duration": 0.136318,
     "end_time": "2021-09-15T10:03:38.445538",
     "exception": false,
     "start_time": "2021-09-15T10:03:38.309220",
     "status": "completed"
    },
    "tags": []
   },
   "outputs": [],
   "source": []
  }
 ],
 "metadata": {
  "kernelspec": {
   "display_name": "Python 3 (ipykernel)",
   "language": "python",
   "name": "python3"
  },
  "language_info": {
   "codemirror_mode": {
    "name": "ipython",
    "version": 3
   },
   "file_extension": ".py",
   "mimetype": "text/x-python",
   "name": "python",
   "nbconvert_exporter": "python",
   "pygments_lexer": "ipython3",
   "version": "3.9.7"
  },
  "papermill": {
   "default_parameters": {},
   "duration": 55.149412,
   "end_time": "2021-09-15T10:03:40.363368",
   "environment_variables": {},
   "exception": null,
   "input_path": "__notebook__.ipynb",
   "output_path": "__notebook__.ipynb",
   "parameters": {},
   "start_time": "2021-09-15T10:02:45.213956",
   "version": "2.3.3"
  }
 },
 "nbformat": 4,
 "nbformat_minor": 5
}
